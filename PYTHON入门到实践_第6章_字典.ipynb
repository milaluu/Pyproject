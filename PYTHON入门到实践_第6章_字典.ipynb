{
 "cells": [
  {
   "cell_type": "markdown",
   "metadata": {},
   "source": [
    "在本章中，你将学习能够将相关信息关联起来的Python字典。你将学习如何访问和修改字典中的信息。鉴于字典可存储的信息量几乎不受限制，我们将会演示如何遍\n",
    "历字典中的数据。另外，你还将学习存储字典的列表、存储列表的字典和存储字典的字典。"
   ]
  },
  {
   "cell_type": "markdown",
   "metadata": {},
   "source": [
    "## 6.1 一个简单的字典"
   ]
  },
  {
   "cell_type": "markdown",
   "metadata": {},
   "source": [
    "一个游戏，其中包含一些外星人，这些外星人的颜色和点数各不相同。下面是一个简单的字典，存储了有关特定外星人的信息："
   ]
  },
  {
   "cell_type": "code",
   "execution_count": 1,
   "metadata": {},
   "outputs": [
    {
     "name": "stdout",
     "output_type": "stream",
     "text": [
      "green\n",
      "5\n"
     ]
    }
   ],
   "source": [
    "# alien.py 存储了外星人的颜色和点数\n",
    "alien_0 = {'color': 'green', 'points': 5}\n",
    "print(alien_0['color'])\n",
    "print(alien_0['points'])"
   ]
  },
  {
   "cell_type": "markdown",
   "metadata": {},
   "source": [
    "## 6.2 使用字典"
   ]
  },
  {
   "cell_type": "markdown",
   "metadata": {},
   "source": [
    "在Python中，字典是一系列键—值对(key-value) 。每个键 都与一个值相关联，你可以使用键来访问与之相关联的值。与键相关联的值可以是数字、字符串、列表乃至字典。"
   ]
  },
  {
   "cell_type": "markdown",
   "metadata": {},
   "source": [
    "字典用{}的一系列key:value值表示，key相当于列表中的索引。key-value对之间用逗号表示。"
   ]
  },
  {
   "cell_type": "markdown",
   "metadata": {},
   "source": [
    "6.2.1 访问字典中的值"
   ]
  },
  {
   "cell_type": "code",
   "execution_count": 2,
   "metadata": {},
   "outputs": [
    {
     "name": "stdout",
     "output_type": "stream",
     "text": [
      "green\n"
     ]
    }
   ],
   "source": [
    "alien_0 = {'color': 'green'}\n",
    "print(alien_0['color'])"
   ]
  },
  {
   "cell_type": "code",
   "execution_count": 3,
   "metadata": {},
   "outputs": [
    {
     "name": "stdout",
     "output_type": "stream",
     "text": [
      "You just earned 5 points!\n"
     ]
    }
   ],
   "source": [
    "# 定义字典，获取points键对应的值并存储在变量中，打印消息\n",
    "alien_0 = {'color': 'green', 'points': 5}\n",
    "new_points = alien_0['points']\n",
    "print(\"You just earned \" + str(new_points) + \" points!\")"
   ]
  },
  {
   "cell_type": "markdown",
   "metadata": {},
   "source": [
    "6.2.3 添加key-value对"
   ]
  },
  {
   "cell_type": "code",
   "execution_count": 4,
   "metadata": {},
   "outputs": [
    {
     "name": "stdout",
     "output_type": "stream",
     "text": [
      "{'points': 5, 'color': 'green'}\n",
      "{'points': 5, 'y_position': 25, 'x_position': 0, 'color': 'green'}\n"
     ]
    }
   ],
   "source": [
    "# 添加外星人的x、y坐标\n",
    "alien_0 = {'color': 'green', 'points': 5}\n",
    "print(alien_0)\n",
    "alien_0['x_position'] = 0  #放在左上角，屏幕坐标系原点一般在左上角\n",
    "alien_0['y_position'] = 25 #离屏幕顶端25像素\n",
    "print(alien_0)"
   ]
  },
  {
   "cell_type": "markdown",
   "metadata": {},
   "source": [
    "6.2.3 先创建一个空字典"
   ]
  },
  {
   "cell_type": "markdown",
   "metadata": {},
   "source": [
    "使用一对空的花括号定义一个字典，再分行添加各个键—值对："
   ]
  },
  {
   "cell_type": "code",
   "execution_count": 5,
   "metadata": {},
   "outputs": [
    {
     "name": "stdout",
     "output_type": "stream",
     "text": [
      "{'points': 5, 'color': 'green'}\n"
     ]
    }
   ],
   "source": [
    "# 字典是无序的\n",
    "alien_0 = {}\n",
    "alien_0['color'] = 'green'\n",
    "alien_0['points'] = 5\n",
    "print(alien_0)"
   ]
  },
  {
   "cell_type": "markdown",
   "metadata": {},
   "source": [
    "6.2.4 修改字典中的值"
   ]
  },
  {
   "cell_type": "markdown",
   "metadata": {},
   "source": [
    "要修改字典中的值，可依次指定字典名、用方括号括起的键以及与该键相关联的新值。例如，假设随着游戏的进行，需要将一个外星人从绿色改为黄色："
   ]
  },
  {
   "cell_type": "code",
   "execution_count": 7,
   "metadata": {},
   "outputs": [
    {
     "name": "stdout",
     "output_type": "stream",
     "text": [
      "The alien is green.\n",
      "The alien is now yellow.\n"
     ]
    }
   ],
   "source": [
    "alien_0 = {'color': 'green'}\n",
    "print(\"The alien is \" + alien_0['color'] + \".\")\n",
    "alien_0['color'] = 'yellow'\n",
    "print(\"The alien is now \" + alien_0['color'] + \".\")"
   ]
  },
  {
   "cell_type": "markdown",
   "metadata": {},
   "source": [
    "看一个更有趣的例子：对一个能够以不同速度移动的外星人的位置进行跟踪。为此，我们将存储该外星人的当前速度，并据此确定该外星人将向右移动多远："
   ]
  },
  {
   "cell_type": "code",
   "execution_count": 8,
   "metadata": {},
   "outputs": [
    {
     "name": "stdout",
     "output_type": "stream",
     "text": [
      "Original x-position: 0\n",
      "New x-position: 2\n"
     ]
    }
   ],
   "source": [
    "alien_0 = {'x_position': 0, 'y_position': 25, 'speed': 'medium'}\n",
    "print(\"Original x-position: \" + str(alien_0['x_position']))\n",
    "# 向右移动外星人\n",
    "# 据外星人当前速度决定将其移动多远\n",
    "if alien_0['speed'] == 'slow':\n",
    "    x_increment = 1\n",
    "elif alien_0['speed'] == 'medium':\n",
    "    x_increment = 2\n",
    "else:\n",
    "    # 这个外星人的速度一定很快\n",
    "    x_increment = 3\n",
    "# 新位置等于老位置加上增量 \n",
    "alien_0['x_position'] = alien_0['x_position'] + x_increment\n",
    "print(\"New x-position: \" + str(alien_0['x_position']))"
   ]
  },
  {
   "cell_type": "markdown",
   "metadata": {},
   "source": [
    "6.2.5 删除key-value对"
   ]
  },
  {
   "cell_type": "markdown",
   "metadata": {},
   "source": [
    "对于字典中不再需要的信息，可使用del 语句将相应的键—值对彻底删除。使用del 语句时，必须指定字典名和要删除。"
   ]
  },
  {
   "cell_type": "code",
   "execution_count": 9,
   "metadata": {},
   "outputs": [
    {
     "name": "stdout",
     "output_type": "stream",
     "text": [
      "{'points': 5, 'color': 'green'}\n",
      "{'color': 'green'}\n"
     ]
    }
   ],
   "source": [
    "# del\n",
    "# 从字典alien0 中删除键'points'及其值\n",
    "alien_0 = {'color': 'green', 'points': 5}\n",
    "print(alien_0)\n",
    "del alien_0['points']\n",
    "print(alien_0)"
   ]
  },
  {
   "cell_type": "markdown",
   "metadata": {},
   "source": [
    "6.2.6 由类似对象组成的字典"
   ]
  },
  {
   "cell_type": "markdown",
   "metadata": {},
   "source": [
    "在前面的示例中，字典存储的是一个对象（游戏中的一个外星人）的多种信息，但你也可以使用字典来存储众多对象的同一种信息。例如，假设你要调查很多人，询问他们最喜\n",
    "欢的编程语言，可使用一个字典来存储这种简单调查的结果，如下所示："
   ]
  },
  {
   "cell_type": "code",
   "execution_count": 12,
   "metadata": {},
   "outputs": [
    {
     "name": "stdout",
     "output_type": "stream",
     "text": [
      "Sarah's favorite language is C.\n"
     ]
    }
   ],
   "source": [
    "favorite_languages = {\n",
    "    'jen': 'python',\n",
    "    'sarah': 'c',\n",
    "    'edward': 'ruby',\n",
    "    'phil': 'python',\n",
    "}           \n",
    "print(\"Sarah's favorite language is \" + \n",
    "      favorite_languages['sarah'].title() +\n",
    "      \".\")"
   ]
  },
  {
   "cell_type": "markdown",
   "metadata": {},
   "source": [
    "### 6.2 作业"
   ]
  },
  {
   "cell_type": "code",
   "execution_count": 13,
   "metadata": {},
   "outputs": [
    {
     "name": "stdout",
     "output_type": "stream",
     "text": [
      "Lily\n",
      "Collins\n",
      "25\n",
      "London\n"
     ]
    }
   ],
   "source": [
    "# 人\n",
    "my_friend={'first_name':'Lily',\n",
    "          'last_name':'Collins',\n",
    "           'age':25,\n",
    "           'city':'London'}\n",
    "print(my_friend['first_name'])\n",
    "print(my_friend['last_name'])\n",
    "print(my_friend['age'])\n",
    "print(my_friend['city'])"
   ]
  },
  {
   "cell_type": "code",
   "execution_count": 15,
   "metadata": {},
   "outputs": [
    {
     "name": "stdout",
     "output_type": "stream",
     "text": [
      "{'Angel': 8, 'John': 4, 'lily': 12, 'Judy': 2, 'Peter': 64}\n"
     ]
    }
   ],
   "source": [
    "# 喜欢的数字\n",
    "favorite_number={'lily':12,\n",
    "                 'Angel':8,\n",
    "                'Judy':2,\n",
    "                'John':4,\n",
    "                'Peter':64}\n",
    "print(favorite_number)"
   ]
  },
  {
   "cell_type": "code",
   "execution_count": 17,
   "metadata": {},
   "outputs": [
    {
     "name": "stdout",
     "output_type": "stream",
     "text": [
      "python:an object oriented programming language\n",
      "tuple:a sequence of immutable values and the values can be any type\n",
      "class:an object condtructor\n",
      "function:a block of code which only runs when it is called\n",
      "boolean values:Two values which are True and False\n"
     ]
    }
   ],
   "source": [
    "# 词汇表\n",
    "coding_dict={'tuple':'a sequence of immutable values and the values can be any type',\n",
    "            'python':'an object oriented programming language',\n",
    "             'class':'an object condtructor',\n",
    "             'function':'a block of code which only runs when it is called',\n",
    "             'boolean values':'Two values which are True and False'\n",
    "            }\n",
    "print('python'+':'+coding_dict['python'])\n",
    "print('tuple'+':'+coding_dict['tuple'])\n",
    "print('class'+':'+coding_dict['class'])\n",
    "print('function'+':'+coding_dict['function'])\n",
    "print('boolean values'+':'+coding_dict['boolean values'])"
   ]
  },
  {
   "cell_type": "markdown",
   "metadata": {},
   "source": [
    "## 6.3 遍历字典"
   ]
  },
  {
   "cell_type": "markdown",
   "metadata": {},
   "source": [
    "6.3.1 遍历所有key-value对"
   ]
  },
  {
   "cell_type": "code",
   "execution_count": 19,
   "metadata": {},
   "outputs": [],
   "source": [
    "#存储一名用户的用户名、名和姓\n",
    "user_0 = {'username': 'efermi','first': 'enrico','last': 'fermi'}"
   ]
  },
  {
   "cell_type": "code",
   "execution_count": 22,
   "metadata": {},
   "outputs": [
    {
     "name": "stdout",
     "output_type": "stream",
     "text": [
      "\n",
      "Key: first\n",
      "Value: enrico\n",
      "\n",
      "Key: username\n",
      "Value: efermi\n",
      "\n",
      "Key: last\n",
      "Value: fermi\n"
     ]
    }
   ],
   "source": [
    "# 访问字典中所有信息.items()\n",
    "for key, value in user_0.items(): \n",
    "    print(\"\\nKey: \" + key)\n",
    "    print(\"Value: \" + value)"
   ]
  },
  {
   "cell_type": "code",
   "execution_count": 23,
   "metadata": {},
   "outputs": [
    {
     "name": "stdout",
     "output_type": "stream",
     "text": [
      "Edward's favorite language is Ruby.\n",
      "Phil's favorite language is Python.\n",
      "Sarah's favorite language is C.\n",
      "Jen's favorite language is Python.\n"
     ]
    }
   ],
   "source": [
    "favorite_languages = {'jen': 'python',\n",
    "                      sarah': 'c',\n",
    "                      'edward': 'ruby',\n",
    "                      'phil': 'python'}\n",
    "for name, language in favorite_languages.items(): \n",
    "    print(name.title() + \"'s favorite language is \" +language.title() + \".\")"
   ]
  },
  {
   "cell_type": "markdown",
   "metadata": {},
   "source": [
    "6.3.2 遍历字典中的所有键"
   ]
  },
  {
   "cell_type": "code",
   "execution_count": 24,
   "metadata": {},
   "outputs": [
    {
     "name": "stdout",
     "output_type": "stream",
     "text": [
      "Edward\n",
      "Phil\n",
      "Sarah\n",
      "Jen\n"
     ]
    }
   ],
   "source": [
    "# .keys()\n",
    "favorite_languages = {'jen': 'python',\n",
    "                      'sarah': 'c',\n",
    "                      'edward': 'ruby',\n",
    "                      'phil': 'python'} \n",
    "# for name in favorite_languages:\n",
    "for name in favorite_languages.keys():\n",
    "    print(name.title())"
   ]
  },
  {
   "cell_type": "markdown",
   "metadata": {},
   "source": [
    "创建了一个列表，其中包含朋友及其喜欢的语言。在循环中，我们打印每个人的名字，并检查当前的名字是否在列表friends 中\n",
    "，如果在列表中，就打印一句特殊的问候语，其中包含这位朋友喜欢的语言。"
   ]
  },
  {
   "cell_type": "code",
   "execution_count": 25,
   "metadata": {},
   "outputs": [
    {
     "name": "stdout",
     "output_type": "stream",
     "text": [
      "Edward\n",
      "Phil\n",
      " Hi Phil, I see your favorite language is Python!\n",
      "Sarah\n",
      " Hi Sarah, I see your favorite language is C!\n",
      "Jen\n"
     ]
    }
   ],
   "source": [
    "favorite_languages = {'jen': 'python',\n",
    "                      'sarah': 'c',\n",
    "                      'edward': 'ruby',\n",
    "                      'phil': 'python'}\n",
    "friends = ['phil', 'sarah']\n",
    "for name in favorite_languages.keys():\n",
    "    print(name.title())\n",
    "    if name in friends:\n",
    "        print(\" Hi \" + name.title() +\", I see your favorite language is \" +\n",
    "          favorite_languages[name].title() + \"!\")"
   ]
  },
  {
   "cell_type": "code",
   "execution_count": 26,
   "metadata": {},
   "outputs": [
    {
     "name": "stdout",
     "output_type": "stream",
     "text": [
      "Erin, please take our poll!\n"
     ]
    }
   ],
   "source": [
    "#使用keys() 确定某个人是否接受了调查\n",
    "favorite_languages = {'jen': 'python',\n",
    "                      'sarah': 'c',\n",
    "                      'edward': 'ruby',\n",
    "                      'phil': 'python'} \n",
    "if 'erin' not in favorite_languages.keys():\n",
    "    print(\"Erin, please take our poll!\")"
   ]
  },
  {
   "cell_type": "markdown",
   "metadata": {},
   "source": [
    "6.3.3 按顺序遍历字典中所有键"
   ]
  },
  {
   "cell_type": "markdown",
   "metadata": {},
   "source": [
    "字典总是明确地记录键和值之间的关联关系，但获取字典的元素时，获取顺序是不可预测的。这不是问题，因为通常你想要的只是获取与键相关联的正确的值。\n",
    "要以特定的顺序返回元素，一种办法是在for 循环中对返回的键进行排序。为此，可使用函数sorted() 来获得按特定顺序排列的键列表的副本："
   ]
  },
  {
   "cell_type": "code",
   "execution_count": 27,
   "metadata": {},
   "outputs": [
    {
     "name": "stdout",
     "output_type": "stream",
     "text": [
      "Edward, thank you for taking the poll.\n",
      "Jen, thank you for taking the poll.\n",
      "Phil, thank you for taking the poll.\n",
      "Sarah, thank you for taking the poll.\n"
     ]
    }
   ],
   "source": [
    "favorite_languages = {'jen': 'python',\n",
    "                      'sarah': 'c',\n",
    "                      'edward': 'ruby',\n",
    "                      'phil': 'python'}\n",
    "for name in sorted(favorite_languages.keys()):\n",
    "    print(name.title() + \", thank you for taking the poll.\")"
   ]
  },
  {
   "cell_type": "markdown",
   "metadata": {},
   "source": [
    "6.3.4 遍历字典中的所有值"
   ]
  },
  {
   "cell_type": "code",
   "execution_count": 28,
   "metadata": {},
   "outputs": [
    {
     "name": "stdout",
     "output_type": "stream",
     "text": [
      "The following languages have been mentioned:\n",
      "Ruby\n",
      "Python\n",
      "C\n",
      "Python\n"
     ]
    }
   ],
   "source": [
    "# values()\n",
    "favorite_languages = {'jen': 'python',\n",
    "                      'sarah': 'c',\n",
    "                      'edward': 'ruby',\n",
    "                      'phil': 'python'}\n",
    "print(\"The following languages have been mentioned:\")\n",
    "for language in favorite_languages.values():\n",
    "    print(language.title())"
   ]
  },
  {
   "cell_type": "markdown",
   "metadata": {},
   "source": [
    "这种做法提取字典中所有的值，而没有考虑是否重复。为剔除重复项，可使用集合set。集合类似于列表，但每个元素都必须是独一无二的。"
   ]
  },
  {
   "cell_type": "code",
   "execution_count": 29,
   "metadata": {},
   "outputs": [
    {
     "name": "stdout",
     "output_type": "stream",
     "text": [
      "The following languages have been mentioned:\n",
      "Ruby\n",
      "C\n",
      "Python\n"
     ]
    }
   ],
   "source": [
    "favorite_languages = {'jen': 'python',\n",
    "                      'sarah': 'c',\n",
    "                      'edward': 'ruby',\n",
    "                      'phil': 'python'}\n",
    "print(\"The following languages have been mentioned:\")  \n",
    "for language in set(favorite_languages.values()):\n",
    "    print(language.title())"
   ]
  },
  {
   "cell_type": "markdown",
   "metadata": {},
   "source": [
    "### 6.3 作业"
   ]
  },
  {
   "cell_type": "code",
   "execution_count": 32,
   "metadata": {},
   "outputs": [
    {
     "name": "stdout",
     "output_type": "stream",
     "text": [
      "class:an object condtructor\n",
      "tuple:a sequence of immutable values and the values can be any type\n",
      "python:an object oriented programming language\n",
      "function:a block of code which only runs when it is called\n",
      "boolean values:Two values which are True and False\n",
      "\n",
      "\n",
      "dictionary:a collection which is unordered,changeable and indexed\n",
      "tuple:a sequence of immutable values and the values can be any type\n",
      "function:a block of code which only runs when it is called\n",
      "class:an object condtructor\n",
      "python:an object oriented programming language\n",
      "boolean values:Two values which are True and False\n"
     ]
    }
   ],
   "source": [
    "#词汇表2\n",
    "coding_dict={'tuple':'a sequence of immutable values and the values can be any type',\n",
    "            'python':'an object oriented programming language',\n",
    "             'class':'an object condtructor',\n",
    "             'function':'a block of code which only runs when it is called',\n",
    "             'boolean values':'Two values which are True and False'\n",
    "            }\n",
    "for key,value in coding_dict.items():\n",
    "    print(key+':'+value)\n",
    "    \n",
    "# 添加词汇\n",
    "print('\\n')\n",
    "coding_dict['dictionary']='a collection which is unordered,changeable and indexed'\n",
    "for key,value in coding_dict.items():\n",
    "    print(key+':'+value)"
   ]
  },
  {
   "cell_type": "code",
   "execution_count": 35,
   "metadata": {},
   "outputs": [
    {
     "name": "stdout",
     "output_type": "stream",
     "text": [
      "The Mississippi runs through America.\n",
      "The Yangtze runs through China.\n",
      "The nile runs through egypt.\n",
      "\n",
      "\n",
      "河流：\n",
      "Mississippi\n",
      "Yangtze\n",
      "nile\n",
      "\n",
      "\n",
      "国家：\n",
      "America\n",
      "China\n",
      "egypt\n"
     ]
    }
   ],
   "source": [
    "# 河流\n",
    "dict_1={'nile':'egypt','Yangtze':'China','Mississippi':'America'}\n",
    "for river,country in dict_1.items():\n",
    "    print('The '+river+' runs through '+country+'.')\n",
    "print('\\n')\n",
    "print('河流：')\n",
    "for river in dict_1.keys():\n",
    "    print(river)\n",
    "print('\\n')\n",
    "print('国家：')\n",
    "for country in dict_1.values():\n",
    "    print(country)"
   ]
  },
  {
   "cell_type": "code",
   "execution_count": 36,
   "metadata": {},
   "outputs": [
    {
     "name": "stdout",
     "output_type": "stream",
     "text": [
      "Lily, do you want to join to the research?\n",
      "John, do you want to join to the research?\n",
      "Sarah have finished the research.Thank you for supporting!\n",
      "Mike, do you want to join to the research?\n"
     ]
    }
   ],
   "source": [
    "# 调查\n",
    "favorite_languages = {'jen': 'python',\n",
    "                      'sarah': 'c',\n",
    "                      'edward': 'ruby',\n",
    "                      'phil': 'python'}\n",
    "list_names=['lily','John','sarah','mike']\n",
    "for list_name in list_names:\n",
    "    if list_name in favorite_languages.keys():\n",
    "        print(list_name.title() + \n",
    "              ' have finished the research.Thank you for supporting!')\n",
    "    else:\n",
    "        print(list_name.title()+', do you want to join to the research?')"
   ]
  },
  {
   "cell_type": "markdown",
   "metadata": {},
   "source": [
    "## 6.4 嵌套"
   ]
  },
  {
   "cell_type": "markdown",
   "metadata": {},
   "source": [
    "有时候，需要将一系列字典存储在列表中，或将列表作为值存储在字典中，这称为嵌套 。你可以在列表中嵌套字典、在字典中嵌套列表甚至在字典中嵌套字典。"
   ]
  },
  {
   "cell_type": "markdown",
   "metadata": {},
   "source": [
    "6.4.1 字典列表"
   ]
  },
  {
   "cell_type": "markdown",
   "metadata": {},
   "source": [
    "字典alien_0 包含一个外星人的各种信息，但无法存储第二个外星人的信息，更别说屏幕上全部外星人的信息了。如何管理成群结队的外星人呢？一种办法是创建一个外星人列\n",
    "表，其中每个外星人都是一个字典，包含有关该外星人的各种信息。例如，下面的代码创建一个包含三个外星人的列表："
   ]
  },
  {
   "cell_type": "code",
   "execution_count": 37,
   "metadata": {},
   "outputs": [
    {
     "name": "stdout",
     "output_type": "stream",
     "text": [
      "{'points': 5, 'color': 'green'}\n",
      "{'points': 10, 'color': 'yellow'}\n",
      "{'points': 15, 'color': 'red'}\n"
     ]
    }
   ],
   "source": [
    "# aliens.py\n",
    "alien_0 = {'color': 'green', 'points': 5}\n",
    "alien_1 = {'color': 'yellow', 'points': 10}\n",
    "alien_2 = {'color': 'red', 'points': 15}\n",
    "aliens = [alien_0, alien_1, alien_2]\n",
    "for alien in aliens:\n",
    "    print(alien)"
   ]
  },
  {
   "cell_type": "markdown",
   "metadata": {},
   "source": [
    "使用range() 生成了30个外星人:"
   ]
  },
  {
   "cell_type": "code",
   "execution_count": 40,
   "metadata": {},
   "outputs": [
    {
     "name": "stdout",
     "output_type": "stream",
     "text": [
      "{'points': 5, 'speed': 'slow', 'color': 'green'}\n",
      "{'points': 5, 'speed': 'slow', 'color': 'green'}\n",
      "{'points': 5, 'speed': 'slow', 'color': 'green'}\n",
      "{'points': 5, 'speed': 'slow', 'color': 'green'}\n",
      "{'points': 5, 'speed': 'slow', 'color': 'green'}\n",
      "...\n",
      "Total number of aliens: 30\n"
     ]
    }
   ],
   "source": [
    "# 创建一个用于存储外星人的空列表\n",
    "aliens = []\n",
    "\n",
    "# 创建30个绿色的外星人 \n",
    "for alien_number in range(30):\n",
    "    new_alien = {'color': 'green', 'points': 5, 'speed': 'slow'}\n",
    "    aliens.append(new_alien)\n",
    "                  \n",
    "#显示前五个外星人 \n",
    "for alien in aliens[:5]:\n",
    "    print(alien)\n",
    "print(\"...\")\n",
    "\n",
    "# 显示创建了多少个外星人\n",
    "print(\"Total number of aliens: \" + str(len(aliens)))"
   ]
  },
  {
   "cell_type": "markdown",
   "metadata": {},
   "source": [
    "在什么情况下需要处理成群结队的外星人呢？想象一下，可能随着游戏的进行，有些外星人会变色且移动速度会加快。必要时，我们可以使用for 循环和if 语句来修改某些外星人的颜色。"
   ]
  },
  {
   "cell_type": "markdown",
   "metadata": {},
   "source": [
    "例如，要将前三个外星人修改为黄色的、速度为中等且值10个点，可以这样做:"
   ]
  },
  {
   "cell_type": "code",
   "execution_count": 41,
   "metadata": {},
   "outputs": [
    {
     "name": "stdout",
     "output_type": "stream",
     "text": [
      "{'points': 10, 'speed': 'medium', 'color': 'yellow'}\n",
      "{'points': 10, 'speed': 'medium', 'color': 'yellow'}\n",
      "{'points': 10, 'speed': 'medium', 'color': 'yellow'}\n",
      "{'points': 5, 'speed': 'slow', 'color': 'green'}\n",
      "{'points': 5, 'speed': 'slow', 'color': 'green'}\n",
      "...\n"
     ]
    }
   ],
   "source": [
    "# 创建一个用于存储外星人的空列表\n",
    "aliens = []\n",
    "\n",
    "# 创建30个绿色的外星人\n",
    "for alien_number in range (0,30):\n",
    "    new_alien = {'color': 'green', 'points': 5, 'speed': 'slow'}\n",
    "    aliens.append(new_alien)\n",
    "\n",
    "#修改前三个绿色外星人\n",
    "for alien in aliens[0:3]:\n",
    "    if alien['color'] == 'green':\n",
    "        alien['color'] = 'yellow'\n",
    "        alien['speed'] = 'medium'\n",
    "        alien['points'] = 10\n",
    "        \n",
    "# 显示前五个外星人\n",
    "for alien in aliens[0:5]:\n",
    "    print(alien)\n",
    "print(\"...\")"
   ]
  },
  {
   "cell_type": "markdown",
   "metadata": {},
   "source": [
    "6.4.2 在字典中存储列表"
   ]
  },
  {
   "cell_type": "markdown",
   "metadata": {},
   "source": [
    "有时候，需要将列表存储在字典中，而不是将字典存储在列表中。例如，你如何描述顾客点的比萨呢？如果使用列表，只能存储要添加的比萨配料；但如果使用字典，就不仅可\n",
    "在其中包含配料列表，还可包含其他有关比萨的描述。"
   ]
  },
  {
   "cell_type": "markdown",
   "metadata": {},
   "source": [
    "在下面的示例中，存储了比萨的两方面信息：外皮类型和配料列表。其中的配料列表是一个与键'toppings' 相关联的值。要访问该列表，我们使用字典名和键'toppings' ，就像访问字典中的其他值一样。这将返回一个配料列表，而不是单个值："
   ]
  },
  {
   "cell_type": "code",
   "execution_count": 42,
   "metadata": {},
   "outputs": [
    {
     "name": "stdout",
     "output_type": "stream",
     "text": [
      "You ordered a thick-crust pizza with the following toppings:\n",
      "\tmushrooms\n",
      "\textra cheese\n"
     ]
    }
   ],
   "source": [
    "#pizza.py\n",
    "# 存储所点比萨的信息 \n",
    "pizza = {'crust': 'thick','toppings': ['mushrooms', 'extra cheese'],}\n",
    "# 概述所点的比萨 \n",
    "print(\"You ordered a \" + pizza['crust'] +\n",
    "      \"-crust pizza \" +\"with the following toppings:\") \n",
    "for topping in pizza['toppings']:\n",
    "    print(\"\\t\" + topping)\n",
    "    \n",
    "#每当需要在字典中将一个键关联到多个值时，都可以在字典中嵌套一个列表。"
   ]
  },
  {
   "cell_type": "markdown",
   "metadata": {},
   "source": [
    "如果将每个人的回答都存储在一个列表中，被调查者就可选择多种喜欢的语言。"
   ]
  },
  {
   "cell_type": "code",
   "execution_count": 43,
   "metadata": {},
   "outputs": [
    {
     "name": "stdout",
     "output_type": "stream",
     "text": [
      "\n",
      "Edward's favorite languages are:\n",
      "\tRuby\n",
      "\tGo\n",
      "\n",
      "Phil's favorite languages are:\n",
      "\tPython\n",
      "\tHaskell\n",
      "\n",
      "Sarah's favorite languages are:\n",
      "\tC\n",
      "\n",
      "Jen's favorite languages are:\n",
      "\tPython\n",
      "\tRuby\n"
     ]
    }
   ],
   "source": [
    "favorite_languages = {'jen': ['python', 'ruby'],\n",
    "                      'sarah': ['c'],\n",
    "                      'edward': ['ruby', 'go'],\n",
    "                      'phil': ['python', 'haskell']} \n",
    "for name, languages in favorite_languages.items():\n",
    "    print(\"\\n\" + name.title() + \"'s favorite languages are:\") \n",
    "    for language in languages:\n",
    "        print(\"\\t\" + language.title())"
   ]
  },
  {
   "cell_type": "markdown",
   "metadata": {},
   "source": [
    "6.4.3 在字典中存储字典"
   ]
  },
  {
   "cell_type": "markdown",
   "metadata": {},
   "source": [
    "可在字典中嵌套字典，但这样做时，代码可能很快复杂起来。例如，如果有多个网站用户，每个都有独特的用户名，可在字典中将用户名作为键，然后将每位用户的信息存储在\n",
    "一个字典中，并将该字典作为与用户名相关联的值。"
   ]
  },
  {
   "cell_type": "markdown",
   "metadata": {},
   "source": [
    "假设对于每位用户，我们都存储了其三项信息：名、姓和居住地；为访问这些信息，我们遍历所有的用户名，\n",
    "并访问与每个用户名相关联的信息字典："
   ]
  },
  {
   "cell_type": "code",
   "execution_count": 44,
   "metadata": {},
   "outputs": [
    {
     "name": "stdout",
     "output_type": "stream",
     "text": [
      "\n",
      "Username: mcurie\n",
      "\tFull name: Marie Curie\n",
      "\tLocation: Paris\n",
      "\n",
      "Username: aeinstein\n",
      "\tFull name: Albert Einstein\n",
      "\tLocation: Princeton\n"
     ]
    }
   ],
   "source": [
    "# many_users.py\n",
    "users = {\n",
    "    'aeinstein': {\n",
    "    'first': 'albert',\n",
    "    'last': 'einstein',\n",
    "    'location': 'princeton',\n",
    "    },\n",
    "    'mcurie': {\n",
    "        'first': 'marie',\n",
    "        'last': 'curie',\n",
    "        'location': 'paris',\n",
    "    }\n",
    "}\n",
    "for username, user_info in users.items():\n",
    "    print(\"\\nUsername: \" + username)\n",
    "    full_name = user_info['first'] + \" \" + user_info['last']\n",
    "    location = user_info['location']\n",
    "    \n",
    "    print(\"\\tFull name: \" + full_name.title())\n",
    "    print(\"\\tLocation: \" + location.title())"
   ]
  },
  {
   "cell_type": "markdown",
   "metadata": {},
   "source": [
    "### 6.4 作业"
   ]
  },
  {
   "cell_type": "code",
   "execution_count": 53,
   "metadata": {},
   "outputs": [
    {
     "name": "stdout",
     "output_type": "stream",
     "text": [
      "{'age': 25, 'first_name': 'Lily', 'city': 'London', 'last_name': 'Collins'}\n",
      "{'age': 48, 'first_name': 'Johny', 'city': 'New York', 'last_name': 'Depp'}\n",
      "{'age': 18, 'first_name': 'Peng', 'city': 'Changsha', 'last_name': 'Wen'}\n"
     ]
    }
   ],
   "source": [
    "# 人\n",
    "my_friend_1={'first_name':'Lily',\n",
    "          'last_name':'Collins',\n",
    "           'age':25,\n",
    "           'city':'London'}\n",
    "my_friend_2={'first_name':'Johny',\n",
    "          'last_name':'Depp',\n",
    "           'age':48,\n",
    "           'city':'New York'}\n",
    "my_friend_3={'first_name':'Peng',\n",
    "          'last_name':'Wen',\n",
    "           'age':18,\n",
    "           'city':'Changsha'}\n",
    "friend_lists=[my_friend_1,my_friend_2,my_friend_3]\n",
    "for friend in friend_lists:\n",
    "    print(friend)"
   ]
  },
  {
   "cell_type": "code",
   "execution_count": 54,
   "metadata": {},
   "outputs": [
    {
     "name": "stdout",
     "output_type": "stream",
     "text": [
      "{'type': 'dog', 'host': 'Lily'}\n",
      "{'type': 'rabbit', 'host': 'Johny'}\n",
      "{'type': 'cat', 'host': 'Miky'}\n"
     ]
    }
   ],
   "source": [
    "# 宠物\n",
    "mini={'type':'dog',\n",
    "     'host':'Lily'}\n",
    "kitty={'type':'rabbit',\n",
    "     'host':'Johny'}\n",
    "honey={'type':'cat',\n",
    "     'host':'Miky'}\n",
    "pets=[mini,kitty,honey]\n",
    "for pet in pets:\n",
    "    print(pet)"
   ]
  },
  {
   "cell_type": "code",
   "execution_count": 56,
   "metadata": {},
   "outputs": [
    {
     "name": "stdout",
     "output_type": "stream",
     "text": [
      "honey最喜欢的三个城市是：\n",
      "qingmai\n",
      "hangzhou\n",
      "chendou\n",
      "kitty最喜欢的三个城市是：\n",
      "London\n",
      "Tokyo\n",
      "New York\n",
      "Lily最喜欢的三个城市是：\n",
      "shanghai\n",
      "beijing\n",
      "shenzhen\n"
     ]
    }
   ],
   "source": [
    "# 喜欢的地方\n",
    "favorite_places={'Lily':['shanghai','beijing','shenzhen'],'kitty':['London','Tokyo','New York'],'honey':['qingmai','hangzhou','chendou']}\n",
    "for name,place in favorite_places.items():\n",
    "    print(name+'最喜欢的三个城市是：')\n",
    "    for i in place:\n",
    "        print(i)"
   ]
  },
  {
   "cell_type": "code",
   "execution_count": 60,
   "metadata": {},
   "outputs": [
    {
     "name": "stdout",
     "output_type": "stream",
     "text": [
      "Angel最喜欢的数字是：\n",
      "8\n",
      "56\n",
      "John最喜欢的数字是：\n",
      "4\n",
      "58\n",
      "lily最喜欢的数字是：\n",
      "12\n",
      "89\n",
      "5\n",
      "Judy最喜欢的数字是：\n",
      "2\n",
      "Peter最喜欢的数字是：\n",
      "5\n"
     ]
    }
   ],
   "source": [
    "# 喜欢的数字\n",
    "favorite_numbers={'lily':[12,89,5],\n",
    "                 'Angel':[8,56],\n",
    "                'Judy':[2],\n",
    "                'John':[4,58],\n",
    "                'Peter':[5]}\n",
    "for name,numbers in favorite_numbers.items():\n",
    "    print(name+'最喜欢的数字是：')\n",
    "    for number in numbers:\n",
    "        print(number)"
   ]
  },
  {
   "cell_type": "code",
   "execution_count": 63,
   "metadata": {},
   "outputs": [
    {
     "name": "stdout",
     "output_type": "stream",
     "text": [
      "\n",
      "Chengdu是China的一个城市。它有九百万人口，特色是：Many pandas are living here.\n",
      "\n",
      "Hangzhou是China的一个城市。它有八百万人口，特色是：Its economy grows fast.\n",
      "\n",
      "Beijing是China的一个城市。它有一千万人口，特色是：It is the capital.\n"
     ]
    }
   ],
   "source": [
    "# 城市\n",
    "cities={\n",
    "    'Beijing':{\n",
    "        'country':'China',\n",
    "        'population':'一千万',\n",
    "        'fact':'It is the capital.'\n",
    "    },\n",
    "    'Hangzhou':{\n",
    "        'country':'China',\n",
    "        'population':'八百万',\n",
    "        'fact':'Its economy grows fast.'\n",
    "    },\n",
    "    'Chengdu':{\n",
    "        'country':'China',\n",
    "        'population':'九百万',\n",
    "        'fact':'Many pandas are living here.'\n",
    "    }}\n",
    "for city,city_info in cities.items():\n",
    "    print('\\n'+city+'是'+city_info['country']+'的一个城市。'\n",
    "          +'它有'+city_info['population']+'人口，'\n",
    "         +'特色是：'+city_info['fact'])"
   ]
  },
  {
   "cell_type": "markdown",
   "metadata": {},
   "source": [
    "## 6.5 小节"
   ]
  },
  {
   "cell_type": "markdown",
   "metadata": {},
   "source": [
    "在本章中，学习的内容：如何定义字典，以及如何使用存储在字典中的信息；如何访问和修改字典中的元素，以及如何遍历字典中的所有信息；如何遍历字典中所有的键-值对、所\n",
    "有的键和所有的值；如何在列表中嵌套字典、在字典中嵌套列表以及在字典中嵌套字典。"
   ]
  }
 ],
 "metadata": {
  "kernelspec": {
   "display_name": "Python 3",
   "language": "python",
   "name": "python3"
  },
  "language_info": {
   "codemirror_mode": {
    "name": "ipython",
    "version": 3
   },
   "file_extension": ".py",
   "mimetype": "text/x-python",
   "name": "python",
   "nbconvert_exporter": "python",
   "pygments_lexer": "ipython3",
   "version": "3.5.6"
  }
 },
 "nbformat": 4,
 "nbformat_minor": 2
}
