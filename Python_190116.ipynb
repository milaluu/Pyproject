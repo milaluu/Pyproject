{
 "cells": [
  {
   "cell_type": "code",
   "execution_count": 13,
   "metadata": {},
   "outputs": [
    {
     "name": "stdout",
     "output_type": "stream",
     "text": [
      "[ 3  4  5  6  7  8  9 10 11 12 13 14]\n",
      "6\n",
      "[[ 3  4  5  6]\n",
      " [ 7  8  9 10]\n",
      " [11 12 13 14]]\n",
      "[11 12 13 14]\n",
      "8\n",
      "8\n",
      "[8 9]\n"
     ]
    }
   ],
   "source": [
    "##### numpy索引#######\n",
    "import numpy as np\n",
    "\n",
    "#一维索引\n",
    "A=np.arange(3,15) \n",
    "print(A)\n",
    "print(A[3])\n",
    "\n",
    "#二维索引\n",
    "A=np.arange(3,15).reshape((3,4))\n",
    "print(A)\n",
    "print(A[2])  #第三行所有元素\n",
    "\n",
    "print(A[1][1])\n",
    "print(A[1,1])\n",
    "print(A[1,1:3]) #第2行，2、3列"
   ]
  },
  {
   "cell_type": "code",
   "execution_count": 12,
   "metadata": {},
   "outputs": [
    {
     "name": "stdout",
     "output_type": "stream",
     "text": [
      "[3 4 5 6]\n",
      "[ 7  8  9 10]\n",
      "[11 12 13 14]\n"
     ]
    }
   ],
   "source": [
    "#逐行打印\n",
    "for row in A:\n",
    "    print(row)"
   ]
  },
  {
   "cell_type": "code",
   "execution_count": 14,
   "metadata": {},
   "outputs": [
    {
     "name": "stdout",
     "output_type": "stream",
     "text": [
      "[ 3  7 11]\n",
      "[ 4  8 12]\n",
      "[ 5  9 13]\n",
      "[ 6 10 14]\n"
     ]
    }
   ],
   "source": [
    "#逐列打印\n",
    "for column in A.T:\n",
    "    print(column)"
   ]
  },
  {
   "cell_type": "code",
   "execution_count": 17,
   "metadata": {},
   "outputs": [
    {
     "name": "stdout",
     "output_type": "stream",
     "text": [
      "[ 3  4  5  6  7  8  9 10 11 12 13 14]\n",
      "3\n",
      "4\n",
      "5\n",
      "6\n",
      "7\n",
      "8\n",
      "9\n",
      "10\n",
      "11\n",
      "12\n",
      "13\n",
      "14\n"
     ]
    }
   ],
   "source": [
    "# 迭代输出\n",
    "print(A.flatten())  #flatten把多维矩阵展开成一维\n",
    "\n",
    "for item in A.flat:  #flat是一个迭代器\n",
    "    print(item)"
   ]
  },
  {
   "cell_type": "code",
   "execution_count": 27,
   "metadata": {},
   "outputs": [
    {
     "name": "stdout",
     "output_type": "stream",
     "text": [
      "[1 1 1]\n",
      "(3,)\n",
      "[2 2 2]\n",
      "[[1 1 1]\n",
      " [2 2 2]]\n",
      "(2, 3)\n",
      "\n",
      "\n",
      "[1 1 1 2 2 2]\n",
      "(3,) (6,)\n"
     ]
    }
   ],
   "source": [
    "#######numpy array合并#######\n",
    "\n",
    "# np.vstack(): 上下合并\n",
    "A=np.array([1,1,1])\n",
    "print(A)\n",
    "print(A.shape) #A的大小是(3,) 并不是矩阵\n",
    "B=np.array([2,2,2])\n",
    "print(B)\n",
    "C=np.vstack((A,B))\n",
    "print(C)\n",
    "print(C.shape)  #C的大小是(2,3)\n",
    "print('\\n')\n",
    "\n",
    "# np.hstack(): 左右合并\n",
    "D=np.hstack((A,B))\n",
    "print(D)\n",
    "print(A.shape,D.shape) "
   ]
  },
  {
   "cell_type": "code",
   "execution_count": 38,
   "metadata": {},
   "outputs": [
    {
     "name": "stdout",
     "output_type": "stream",
     "text": [
      "[1 1 1]\n",
      "[[1 1 1]]\n",
      "[[1]\n",
      " [1]\n",
      " [1]] \n",
      "\n",
      "(3,) (1, 3) (3, 1) \n",
      "\n",
      "[1 1 1]\n",
      "[[1]\n",
      " [1]\n",
      " [1]]\n",
      "[[1 1 1]]\n"
     ]
    }
   ],
   "source": [
    "# 扩张维度np.newaxis()\n",
    "print(A)\n",
    "B=A[np.newaxis,:] #列扩张\n",
    "C=A[:,np.newaxis] #行扩张\n",
    "print(B)   \n",
    "print(C,'\\n')\n",
    "\n",
    "#矩阵大小的区别\n",
    "print(A.shape,B.shape,C.shape,'\\n')  \n",
    "\n",
    "\n",
    "#转置的区别\n",
    "print(A.T)\n",
    "print(B.T)\n",
    "print(C.T)"
   ]
  },
  {
   "cell_type": "code",
   "execution_count": 48,
   "metadata": {},
   "outputs": [
    {
     "name": "stdout",
     "output_type": "stream",
     "text": [
      "[[ 1  2]\n",
      " [ 3  4]\n",
      " [ 5  6]\n",
      " [ 7  8]\n",
      " [10 11]\n",
      " [12 13]\n",
      " [14 15]\n",
      " [16 17]\n",
      " [10 11]\n",
      " [12 13]\n",
      " [14 15]\n",
      " [16 17]\n",
      " [ 1  2]\n",
      " [ 3  4]\n",
      " [ 5  6]\n",
      " [ 7  8]] \n",
      "\n",
      "[[ 1  2 10 11 10 11  1  2]\n",
      " [ 3  4 12 13 12 13  3  4]\n",
      " [ 5  6 14 15 14 15  5  6]\n",
      " [ 7  8 16 17 16 17  7  8]]\n"
     ]
    }
   ],
   "source": [
    "# np.concatenate() : 合并操作需要针对多个矩阵或序列\n",
    "A=np.arange(1,9).reshape(4,2)\n",
    "B=np.arange(10,18).reshape(4,2)\n",
    "C = np.concatenate((A,B,B,A),axis=0) #列合并\n",
    "print(C,'\\n')\n",
    "\n",
    "D = np.concatenate((A,B,B,A),axis=1) # 行合并\n",
    "print(D)"
   ]
  },
  {
   "cell_type": "code",
   "execution_count": null,
   "metadata": {},
   "outputs": [],
   "source": []
  }
 ],
 "metadata": {
  "kernelspec": {
   "display_name": "Python 3",
   "language": "python",
   "name": "python3"
  },
  "language_info": {
   "codemirror_mode": {
    "name": "ipython",
    "version": 3
   },
   "file_extension": ".py",
   "mimetype": "text/x-python",
   "name": "python",
   "nbconvert_exporter": "python",
   "pygments_lexer": "ipython3",
   "version": "3.5.6"
  }
 },
 "nbformat": 4,
 "nbformat_minor": 2
}
