{
 "cells": [
  {
   "cell_type": "code",
   "execution_count": 3,
   "metadata": {},
   "outputs": [
    {
     "name": "stdout",
     "output_type": "stream",
     "text": [
      "{2: [23, 14, 8], 'da': 111, '23': {1: 2, 'd': 'sad'}}\n"
     ]
    }
   ],
   "source": [
    "#####pickle保存、提取数据（字典、列表、变量等）\n",
    "\n",
    "import pickle\n",
    "a_dict={'da':111,2:[23,14,8],'23':{1:2,'d':'sad'}}\n",
    "\n",
    "#保存数据pickle.dump\n",
    "file=open('pickle_example.pickle','wb') # 'wb'写入二进制\n",
    "pickle.dump(a_dict,file)   #把a_dict写入file\n",
    "file.close()\n",
    "\n",
    "#提取数据pickle.load\n",
    "file=open('pickle_example.pickle','rb') #'rb'只读二进制\n",
    "a_dict1=pickle.load(file) #读取文件内容,保存到a_dict1\n",
    "file.close()\n",
    "print(a_dict1)\n",
    "\n",
    "#with open() as file:  #读取文件内容，运行完自动关闭\n",
    "with open('pickle_example.pickle','rb') as file:\n",
    "    a_dict2=pickle.load(file)   "
   ]
  },
  {
   "cell_type": "code",
   "execution_count": 16,
   "metadata": {},
   "outputs": [
    {
     "name": "stdout",
     "output_type": "stream",
     "text": [
      "{'B', 'a', ' ', 'c', 'm', 'i', 'k', 't', 'o', 'u', 'r', 'l', 'e', 'W', 'h', 's', 'T'}\n",
      "{'d', 'c', 'b', 'a'}\n",
      "<class 'set'>\n",
      "{'d', 'c', 'b', 'a', 'x'} \n",
      "\n",
      "None\n",
      "None\n",
      "{'d', 'c', 'b'}\n",
      "{'a'}\n"
     ]
    }
   ],
   "source": [
    "#####set找不同的内容，不重复\n",
    "\n",
    "##字符串\n",
    "sentence='Welcome Back to This Tutorial'  #空格、大小写都会保留\n",
    "print(set(sentence))\n",
    "\n",
    "\n",
    "##列表\n",
    "char_list=['a','b','c','d','d','d']\n",
    "r_char=set(char_list)\n",
    "print(r_char) #无序结果:{'d', 'c', 'b', 'a'}\n",
    "print(type(set(char_list)))\n",
    "\n",
    "#加入元素add\n",
    "r_char.add('x') #加入新元素；如果加入已有元素，不会有变化；不能加多个元素\n",
    "print(r_char,'\\n')\n",
    "\n",
    "#移除元素remove\n",
    "print(r_char.remove('x'))  #返回值是null;如果想显示删除结果，需print(r_char);移除没有的元素，会报错\n",
    "\n",
    "#移除discard；移除没有的元素不会报错，同时返回原有的数据\n",
    "print(r_char.discard('y'))\n",
    "\n",
    "#两个集合的对比difference和交集intersection\n",
    "set1=r_char\n",
    "set2={'a','e','i'}\n",
    "print(set1.difference(set2))\n",
    "print(set1.intersection(set2))\n",
    "\n",
    "#清空clear\n",
    "r_char.clear()"
   ]
  },
  {
   "cell_type": "code",
   "execution_count": 17,
   "metadata": {},
   "outputs": [
    {
     "name": "stdout",
     "output_type": "stream",
     "text": [
      "True\n",
      "False\n"
     ]
    }
   ],
   "source": [
    "#####正则表达式Regular Expression\n",
    "\n",
    "#简单的匹配\n",
    "#matching string\n",
    "pattern1='cat'\n",
    "pattern2='bird'\n",
    "string='dog runs to cat'\n",
    "print(pattern1 in string)\n",
    "print(pattern2 in string)"
   ]
  },
  {
   "cell_type": "code",
   "execution_count": 19,
   "metadata": {},
   "outputs": [
    {
     "name": "stdout",
     "output_type": "stream",
     "text": [
      "<_sre.SRE_Match object; span=(12, 15), match='cat'>\n",
      "None\n"
     ]
    }
   ],
   "source": [
    "#用正则寻找匹配 re.search\n",
    "\n",
    "import re\n",
    "pattern1='cat'\n",
    "pattern2='bird'\n",
    "string='dog runs to cat'\n",
    "print(re.search(pattern1,string))\n",
    "print(re.search(pattern2,string))"
   ]
  },
  {
   "cell_type": "code",
   "execution_count": 21,
   "metadata": {},
   "outputs": [
    {
     "name": "stdout",
     "output_type": "stream",
     "text": [
      "<_sre.SRE_Match object; span=(4, 7), match='run'>\n",
      "<_sre.SRE_Match object; span=(4, 7), match='rUn'>\n",
      "<_sre.SRE_Match object; span=(4, 7), match='run'>\n",
      "<_sre.SRE_Match object; span=(4, 7), match='r4n'>\n",
      "<_sre.SRE_Match object; span=(4, 7), match='run'>\n"
     ]
    }
   ],
   "source": [
    "#正则表达式匹配多种可能\n",
    "#run or ran\n",
    "ptn=r'r[au]n' #加上r代表不是字符串，而是表达式；[]代表匹配里面的多种情况\n",
    "print(re.search(ptn,string))\n",
    "\n",
    "\n",
    "#更多example\n",
    "print(re.search(r'r[A-Z]n','dog rUns to cat')) #包含大写A-Z的\n",
    "print(re.search(r'r[a-z]n','dog runs to cat')) #包含小写a-z\n",
    "print(re.search(r'r[0-9]n','dog r4ns to cat')) #包含0-9数字\n",
    "print(re.search(r'r[0-9a-z]n','dog runs to cat')) #数字或者字母"
   ]
  },
  {
   "cell_type": "code",
   "execution_count": 47,
   "metadata": {},
   "outputs": [],
   "source": [
    "#特殊类的匹配 "
   ]
  },
  {
   "cell_type": "code",
   "execution_count": 40,
   "metadata": {},
   "outputs": [
    {
     "name": "stdout",
     "output_type": "stream",
     "text": [
      "<_sre.SRE_Match object; span=(4, 7), match='r4n'>\n",
      "<_sre.SRE_Match object; span=(0, 3), match='run'>\n"
     ]
    }
   ],
   "source": [
    "#数字\n",
    "# \\d: decimal digit\n",
    "print(re.search(r'r\\dn','run r4n'))\n",
    "# \\D: any non-decimal digit\n",
    "print(re.search(r'r\\Dn','run r4n'))"
   ]
  },
  {
   "cell_type": "code",
   "execution_count": 42,
   "metadata": {},
   "outputs": [
    {
     "name": "stdout",
     "output_type": "stream",
     "text": [
      "<_sre.SRE_Match object; span=(0, 3), match='r\\nn'>\n",
      "<_sre.SRE_Match object; span=(4, 7), match='r4n'>\n"
     ]
    }
   ],
   "source": [
    "#空白\n",
    "# \\s: any white space [\\t\\n\\r\\f\\v]\n",
    "print(re.search(r'r\\sn','r\\nn r4n'))\n",
    "# \\S: any non-white spac\n",
    "print(re.search(r'r\\Sn','r\\nn r4n'))"
   ]
  },
  {
   "cell_type": "code",
   "execution_count": 43,
   "metadata": {},
   "outputs": [
    {
     "name": "stdout",
     "output_type": "stream",
     "text": [
      "<_sre.SRE_Match object; span=(4, 7), match='r4n'>\n",
      "<_sre.SRE_Match object; span=(0, 3), match='r\\nn'>\n",
      "\n",
      "\n"
     ]
    }
   ],
   "source": [
    "#所有字母数字和\"_\"\n",
    "# \\w : [a-zA-Z0-9_]\n",
    "print(re.search(r'r\\wn','r\\nn r4n'))\n",
    "# \\W : opposite to \\w\n",
    "print(re.search(r'r\\Wn','r\\nn r4n'))\n",
    "print('\\n')"
   ]
  },
  {
   "cell_type": "code",
   "execution_count": 44,
   "metadata": {},
   "outputs": [
    {
     "name": "stdout",
     "output_type": "stream",
     "text": [
      "<_sre.SRE_Match object; span=(4, 8), match='runs'>\n",
      "<_sre.SRE_Match object; span=(4, 10), match=' runs '>\n",
      "\n",
      "\n"
     ]
    }
   ],
   "source": [
    "#空白字符\n",
    "# \\b : empty string only at the start or end of the word\n",
    "print(re.search(r'\\bruns\\b','dog runs to cat')) #贴着文字才能匹配\n",
    "# \\B : empty string(but not at the start or end of the word)\n",
    "print(re.search(r'\\B runs \\B','dog  runs  to cat')) \n",
    "print('\\n')"
   ]
  },
  {
   "cell_type": "code",
   "execution_count": 45,
   "metadata": {},
   "outputs": [
    {
     "name": "stdout",
     "output_type": "stream",
     "text": [
      "<_sre.SRE_Match object; span=(0, 5), match='runs\\\\'>\n",
      "<_sre.SRE_Match object; span=(0, 3), match='r[n'>\n",
      "\n",
      "\n"
     ]
    }
   ],
   "source": [
    "#特殊字符 任意字符\n",
    "# \\\\ : match \\\n",
    "print(re.search(r'runs\\\\','runs\\ to me'))\n",
    "# . : match anything(except \\n)\n",
    "print(re.search(r'r.n','r[ns to me'))\n",
    "print('\\n')\n"
   ]
  },
  {
   "cell_type": "code",
   "execution_count": 46,
   "metadata": {},
   "outputs": [
    {
     "name": "stdout",
     "output_type": "stream",
     "text": [
      "<_sre.SRE_Match object; span=(0, 3), match='dog'>\n",
      "<_sre.SRE_Match object; span=(12, 15), match='cat'>\n",
      "\n",
      "\n"
     ]
    }
   ],
   "source": [
    "#句尾句首\n",
    "# ^ : match line begining\n",
    "print(re.search(r'^dog','dog runs to me'))\n",
    "# $ : match line ending\n",
    "print(re.search(r'cat$','dog runs to cat'))\n",
    "print('\\n')"
   ]
  },
  {
   "cell_type": "code",
   "execution_count": 49,
   "metadata": {},
   "outputs": [
    {
     "name": "stdout",
     "output_type": "stream",
     "text": [
      "<_sre.SRE_Match object; span=(0, 6), match='Monday'>\n",
      "<_sre.SRE_Match object; span=(0, 3), match='Mon'>\n",
      "\n",
      "\n"
     ]
    }
   ],
   "source": [
    "#是否\n",
    "# ？ : may or may not occur\n",
    "print(re.search(r'Mon(day)?','Monday'))\n",
    "print(re.search(r'Mon(day)?','Mon'))\n",
    "print('\\n')"
   ]
  },
  {
   "cell_type": "code",
   "execution_count": 50,
   "metadata": {},
   "outputs": [
    {
     "name": "stdout",
     "output_type": "stream",
     "text": [
      "None\n",
      "<_sre.SRE_Match object; span=(18, 19), match='I'>\n"
     ]
    }
   ],
   "source": [
    "#多行匹配\n",
    "string=\"\"\"\n",
    "dog runs to cat.\n",
    "I run to dog.\n",
    "\"\"\"\n",
    "print(re.search(r'^I',string))  #多行语句并不能用句首^检测到\n",
    "print(re.search(r'^I',string,flags=re.M)) #把每个句子当作单独的句子，re.M=re.Multiline"
   ]
  },
  {
   "cell_type": "code",
   "execution_count": 69,
   "metadata": {},
   "outputs": [
    {
     "name": "stdout",
     "output_type": "stream",
     "text": [
      "<_sre.SRE_Match object; span=(0, 1), match='a'>\n",
      "<_sre.SRE_Match object; span=(0, 5), match='abbbb'>\n",
      "\n",
      "\n"
     ]
    }
   ],
   "source": [
    "#0或多次\n",
    "# * ：occur 0 or more times\n",
    "print(re.search(r'ab*','a')) #ab出现了0次\n",
    "print(re.search(r'ab*','abbbb')) \n",
    "print('\\n')"
   ]
  },
  {
   "cell_type": "code",
   "execution_count": 59,
   "metadata": {},
   "outputs": [
    {
     "name": "stdout",
     "output_type": "stream",
     "text": [
      "None\n",
      "<_sre.SRE_Match object; span=(0, 5), match='abbbb'>\n",
      "\n",
      "\n"
     ]
    }
   ],
   "source": [
    "#1或多次\n",
    "# + ：occur 1 or more times\n",
    "print(re.search(r'ab+','a')) #b出现了0次,结果为none\n",
    "print(re.search(r'ab+','abbbb')) \n",
    "print('\\n')"
   ]
  },
  {
   "cell_type": "code",
   "execution_count": 68,
   "metadata": {},
   "outputs": [
    {
     "name": "stdout",
     "output_type": "stream",
     "text": [
      "None\n",
      "<_sre.SRE_Match object; span=(0, 5), match='abbbb'>\n",
      "\n",
      "\n"
     ]
    }
   ],
   "source": [
    "#可选次数\n",
    "# {n,m} : occur n to m times\n",
    "print(re.search(r'ab{2,10}','a'))\n",
    "print(re.search(r'ab{2,10}','abbbb'))\n",
    "print('\\n')"
   ]
  },
  {
   "cell_type": "code",
   "execution_count": null,
   "metadata": {},
   "outputs": [],
   "source": []
  }
 ],
 "metadata": {
  "kernelspec": {
   "display_name": "Python 3",
   "language": "python",
   "name": "python3"
  },
  "language_info": {
   "codemirror_mode": {
    "name": "ipython",
    "version": 3
   },
   "file_extension": ".py",
   "mimetype": "text/x-python",
   "name": "python",
   "nbconvert_exporter": "python",
   "pygments_lexer": "ipython3",
   "version": "3.5.6"
  }
 },
 "nbformat": 4,
 "nbformat_minor": 2
}
