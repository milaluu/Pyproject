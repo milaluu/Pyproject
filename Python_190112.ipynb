{
 "cells": [
  {
   "cell_type": "code",
   "execution_count": 2,
   "metadata": {},
   "outputs": [
    {
     "name": "stdout",
     "output_type": "stream",
     "text": [
      "time.struct_time(tm_year=2019, tm_mon=1, tm_mday=12, tm_hour=20, tm_min=25, tm_sec=11, tm_wday=5, tm_yday=12, tm_isdst=0)\n"
     ]
    }
   ],
   "source": [
    "# 调用已有模块\n",
    "import time\n",
    "print(time.localtime())"
   ]
  },
  {
   "cell_type": "code",
   "execution_count": 3,
   "metadata": {},
   "outputs": [
    {
     "name": "stdout",
     "output_type": "stream",
     "text": [
      "time.struct_time(tm_year=2019, tm_mon=1, tm_mday=12, tm_hour=20, tm_min=28, tm_sec=28, tm_wday=5, tm_yday=12, tm_isdst=0)\n"
     ]
    }
   ],
   "source": [
    "# 调用模块as指定别名\n",
    "import time as t\n",
    "print(time.localtime())"
   ]
  },
  {
   "cell_type": "code",
   "execution_count": 4,
   "metadata": {},
   "outputs": [
    {
     "name": "stdout",
     "output_type": "stream",
     "text": [
      "1547296376.174082\n",
      "time.struct_time(tm_year=2019, tm_mon=1, tm_mday=12, tm_hour=20, tm_min=32, tm_sec=56, tm_wday=5, tm_yday=12, tm_isdst=0)\n"
     ]
    }
   ],
   "source": [
    "# 调用模块中的部分功能\n",
    "from time import time,localtime\n",
    "print(time())\n",
    "print(localtime())"
   ]
  },
  {
   "cell_type": "code",
   "execution_count": 5,
   "metadata": {},
   "outputs": [
    {
     "name": "stdout",
     "output_type": "stream",
     "text": [
      "time.struct_time(tm_year=2019, tm_mon=1, tm_mday=12, tm_hour=20, tm_min=33, tm_sec=56, tm_wday=5, tm_yday=12, tm_isdst=0)\n"
     ]
    }
   ],
   "source": [
    "# 调用模块的所有功能\n",
    "from time import *\n",
    "print(localtime())"
   ]
  },
  {
   "cell_type": "code",
   "execution_count": 14,
   "metadata": {
    "scrolled": true
   },
   "outputs": [
    {
     "name": "stdout",
     "output_type": "stream",
     "text": [
      "Please input your initial balance:\n",
      "100\n",
      "Please input the interest rate(a number):\n",
      "5\n",
      "Your new balance after year: 1 is 105.0\n",
      "Your new balance after year: 2 is 110.25\n",
      "Your new balance after year: 3 is 115.7625\n",
      "Your new balance after year: 4 is 121.550625\n",
      "Your new balance after year: 5 is 127.62815624999999\n",
      "Your final balance is 127.62815624999999\n"
     ]
    }
   ],
   "source": [
    "# 创建自己的模块balance，并调用\n",
    "import balance"
   ]
  },
  {
   "cell_type": "code",
   "execution_count": 13,
   "metadata": {
    "scrolled": true
   },
   "outputs": [
    {
     "name": "stdout",
     "output_type": "stream",
     "text": [
      "This is a module\n",
      "I am happy\n"
     ]
    }
   ],
   "source": [
    "import m1\n",
    "\n",
    "m1.mod('I am happy')"
   ]
  },
  {
   "cell_type": "code",
   "execution_count": null,
   "metadata": {},
   "outputs": [],
   "source": [
    "# 普通的结束循环案例：设a为True，当满足条件时，反转a的值结束循环，执行下面部分的语句；条件不满足则一直循环\n",
    "a=True\n",
    "#print('True和False,反转跳出循环')\n",
    "while a:\n",
    "    b=input('Please input a number:')  \n",
    "    if b=='1':\n",
    "        a=False   \n",
    "    else:\n",
    "        pass\n",
    "    print('Still in while')\n",
    "    \n",
    "print('Finish run')   \n",
    "\n",
    "# break and continue\n",
    "#使用break跳出循环，不执行下面的语句，直接跳出循环\n",
    "#print('使用break跳出循环')\n",
    "while True:\n",
    "    b=input('Please input a number:')\n",
    "    if b=='1':\n",
    "        break\n",
    "    else:\n",
    "        pass\n",
    "    print('Still in while')\n",
    "    \n",
    "print('Finish run')\n",
    "\n",
    "\n",
    "#使用continue，是结束此次循环，回到while开始的地方继续循环\n",
    "#print('使用continue结束此次循环')\n",
    "while True:\n",
    "    b=input('Please input a number:')\n",
    "    if b=='1':\n",
    "        continue\n",
    "    else:\n",
    "        pass\n",
    "    print('Still in while')\n",
    "    \n",
    "print('Finish run')"
   ]
  },
  {
   "cell_type": "code",
   "execution_count": null,
   "metadata": {},
   "outputs": [],
   "source": []
  }
 ],
 "metadata": {
  "kernelspec": {
   "display_name": "Python 3",
   "language": "python",
   "name": "python3"
  },
  "language_info": {
   "codemirror_mode": {
    "name": "ipython",
    "version": 3
   },
   "file_extension": ".py",
   "mimetype": "text/x-python",
   "name": "python",
   "nbconvert_exporter": "python",
   "pygments_lexer": "ipython3",
   "version": "3.5.6"
  }
 },
 "nbformat": 4,
 "nbformat_minor": 2
}
