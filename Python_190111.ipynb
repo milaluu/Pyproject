{
 "cells": [
  {
   "cell_type": "code",
   "execution_count": 1,
   "metadata": {},
   "outputs": [
    {
     "name": "stdout",
     "output_type": "stream",
     "text": [
      "Please input a number:88\n",
      "This input number is: 88\n"
     ]
    }
   ],
   "source": [
    "#输入\n",
    "a_input=input(\"Please input a number:\") \n",
    "print(\"This input number is:\",a_input)"
   ]
  },
  {
   "cell_type": "code",
   "execution_count": 3,
   "metadata": {},
   "outputs": [
    {
     "name": "stdout",
     "output_type": "stream",
     "text": [
      "Please input a number:6\n",
      "Good evening!\n"
     ]
    }
   ],
   "source": [
    "#输入练习，input默认输出是string，转换为数字要加int\n",
    "\n",
    "a_input=input(\"Please input a number:\")\n",
    "if a_input=='1':\n",
    "    print('Good moring!')\n",
    "elif a_input==str(2):\n",
    "    print('Good afternoon!')\n",
    "else:\n",
    "    print('Good evening!')"
   ]
  },
  {
   "cell_type": "code",
   "execution_count": 13,
   "metadata": {},
   "outputs": [
    {
     "name": "stdout",
     "output_type": "stream",
     "text": [
      "1\n",
      "3\n",
      "4\n",
      "6\n",
      "12\n",
      "3\n",
      "5\n",
      "89\n"
     ]
    }
   ],
   "source": [
    "# 元组和列表\n",
    "a_tuple=(1,3,4,6) #元组tuple,小括号或者无括号\n",
    "another_tuple=2,4,6,8\n",
    "\n",
    "a_list=[12,3,5,89] #列表list,中括号\n",
    "\n",
    "for content in a_tuple:\n",
    "    print(content)\n",
    "    \n",
    "for i in a_list:\n",
    "    print(i)"
   ]
  },
  {
   "cell_type": "code",
   "execution_count": 8,
   "metadata": {},
   "outputs": [
    {
     "name": "stdout",
     "output_type": "stream",
     "text": [
      "index= 0 number in list= 12\n",
      "index= 1 number in list= 3\n",
      "index= 2 number in list= 5\n",
      "index= 3 number in list= 89\n",
      "a_list的长度: 4\n",
      "range(len(a_list))的值: range(0, 4)\n"
     ]
    }
   ],
   "source": [
    "# range的使用\n",
    "a_list=[12,3,5,89]\n",
    "for index in range(len(a_list)):  \n",
    "    print('index=',index,'number in list=',a_list[index])   #根据索引，依次输出列表元素\n",
    "print('a_list的长度:',len(a_list)) #a_list的长度，即元素个数\n",
    "print(\"range(len(a_list))的值:\",range(len(a_list)))   #range(0,4)实际的元素是0，1，2，3"
   ]
  },
  {
   "cell_type": "code",
   "execution_count": 9,
   "metadata": {},
   "outputs": [
    {
     "name": "stdout",
     "output_type": "stream",
     "text": [
      "[1, 2, 3, 4, 3, 7, 0]\n",
      "[1, 0, 2, 3, 4, 3, 7, 0]\n",
      "[1, 0, 2, 4, 3, 7, 0]\n",
      "0\n",
      "[1, 0, 2]\n",
      "[1, 0, 2]\n",
      "[4, 3]\n",
      "[3, 7, 0]\n",
      "1\n",
      "[0, 0, 1, 2, 3, 4, 7]\n",
      "[7, 4, 3, 2, 1, 0, 0]\n"
     ]
    }
   ],
   "source": [
    "# 列表的功能操作\n",
    "\n",
    "a=[1,2,3,4,3,7]\n",
    "#添加元素到列表末尾\n",
    "a.append(0)  \n",
    "print(a)\n",
    "\n",
    "#特定位置插入元素\n",
    "a.insert(1,0) #在位置1添加0，列表第1位索引从0开始\n",
    "print(a)\n",
    "\n",
    "#删除特定值\n",
    "a.remove(3) #只能removed第一次出现的3\n",
    "print(a)\n",
    "\n",
    "#打印特定范围的值\n",
    "print(a[-1]) #列表中最后一位的索引是-1，打印最后一位的值\n",
    "print(a[0:3]) #输出列表中的前三位元素，索引分别为0，1，2\n",
    "print(a[:3])  #输出a列表的前三位元素，0被省略\n",
    "print(a[3:5]) #输出a列表中的第3、4位元素\n",
    "print(a[-3:]) #输出最后三个元素\n",
    "\n",
    "\n",
    "a.index(2)  #输出等于2的元素的第一个索引\n",
    "print(a.count(3)) #计算元素出现的次数\n",
    "\n",
    "\n",
    "#排序\n",
    "a.sort() #从小到大排序，生成的a覆盖原来的列表\n",
    "print(a)\n",
    "\n",
    "a.sort(reverse=True) #反方向排序，从大到小排序\n",
    "print(a)"
   ]
  },
  {
   "cell_type": "code",
   "execution_count": 12,
   "metadata": {},
   "outputs": [
    {
     "name": "stdout",
     "output_type": "stream",
     "text": [
      "2\n",
      "2\n"
     ]
    }
   ],
   "source": [
    "#多维列表\n",
    "a=[1,2,3,4,5]\n",
    "multi_dim_a=[[1,2,3],\n",
    "             [2,3,4],\n",
    "             [3,4,5]]\n",
    "\n",
    "print(a[1])\n",
    "print(multi_dim_a[0][1]) #索引从0开始"
   ]
  },
  {
   "cell_type": "code",
   "execution_count": 17,
   "metadata": {},
   "outputs": [
    {
     "name": "stdout",
     "output_type": "stream",
     "text": [
      "1\n",
      "1\n",
      "{'orange': 3, 'apple': 1}\n",
      "{'b': 20, 'orange': 3, 'apple': 1}\n",
      "a\n",
      "3\n"
     ]
    }
   ],
   "source": [
    "#字典dictionary\n",
    "\n",
    "a_list=[1,2,3,6,7] #列表是中括号形式\n",
    "\n",
    "d1={'apple':1,'pear':2,'orange':3} #大括号形式，包含key和value；每一个key对应一个value；\n",
    "d2={1:'a',2:'b'}\n",
    "print(d1['apple'])\n",
    "print(a_list[0])\n",
    "\n",
    "#删除字典元素\n",
    "del d1['pear']\n",
    "print(d1)\n",
    "\n",
    "#增加元素\n",
    "d1['b']=20\n",
    "print(d1)    #字典元素是无序的\n",
    "\n",
    "#字典的嵌套\n",
    "d3={'apple':1,'pear':{1:3,3:'a'},'orange':3} #key和value都可以是数字或字符,value也可以是字典、函数；\n",
    "print(d3['pear'][3])\n",
    "print(d3['pear'][1])"
   ]
  },
  {
   "cell_type": "code",
   "execution_count": null,
   "metadata": {},
   "outputs": [],
   "source": []
  }
 ],
 "metadata": {
  "kernelspec": {
   "display_name": "Python 3",
   "language": "python",
   "name": "python3"
  },
  "language_info": {
   "codemirror_mode": {
    "name": "ipython",
    "version": 3
   },
   "file_extension": ".py",
   "mimetype": "text/x-python",
   "name": "python",
   "nbconvert_exporter": "python",
   "pygments_lexer": "ipython3",
   "version": "3.5.6"
  }
 },
 "nbformat": 4,
 "nbformat_minor": 2
}
