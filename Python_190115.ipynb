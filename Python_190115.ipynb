{
 "cells": [
  {
   "cell_type": "code",
   "execution_count": 15,
   "metadata": {},
   "outputs": [
    {
     "name": "stdout",
     "output_type": "stream",
     "text": [
      "021523,Date:Jan/15/2019\n",
      "021523\n",
      "Jan/15/2019\n",
      "021523\n",
      "Jan/15/2019\n"
     ]
    }
   ],
   "source": [
    "#########################正则表达式##########################\n",
    "import re\n",
    "\n",
    "#####分组group ID是数字，\\d可以匹配；Date后是数字或特殊字符，.匹配除了换行符以外的字符\n",
    "match=re.search(r'(\\d+),Date:(.+)','ID:021523,Date:Jan/15/2019')\n",
    "print(match.group(0)) #返回所有结果\n",
    "print(match.group(1)) #返回第一个ptn的匹配结果\n",
    "print(match.group(2)) #返回第二个ptn的匹配结果\n",
    "\n",
    "#给group命名 ?P<name>\n",
    "match=re.search(r'(?P<id>\\d+),Date:(?P<date>.+)','ID:021523,Date:Jan/15/2019')\n",
    "print(match.group('id'))\n",
    "print(match.group('date'))"
   ]
  },
  {
   "cell_type": "code",
   "execution_count": 16,
   "metadata": {},
   "outputs": [
    {
     "name": "stdout",
     "output_type": "stream",
     "text": [
      "['run', 'ran']\n"
     ]
    }
   ],
   "source": [
    "#####寻找所有匹配\n",
    "print(re.findall(r'r[ua]n','run ran ren'))"
   ]
  },
  {
   "cell_type": "code",
   "execution_count": 19,
   "metadata": {},
   "outputs": [
    {
     "name": "stdout",
     "output_type": "stream",
     "text": [
      "['run', 'ran']\n"
     ]
    }
   ],
   "source": [
    "##### 多种匹配\n",
    "# | ：or   r'(a|b)'\n",
    "print(re.findall(r'(run|ran)','run ran ren'))"
   ]
  },
  {
   "cell_type": "code",
   "execution_count": 20,
   "metadata": {},
   "outputs": [
    {
     "name": "stdout",
     "output_type": "stream",
     "text": [
      "dog catches to cat\n"
     ]
    }
   ],
   "source": [
    "##### 替换\n",
    "#re.sub(r'a','b',string)  b replace a\n",
    "print(re.sub(r'r[au]ns','catches','dog runs to cat'))"
   ]
  },
  {
   "cell_type": "code",
   "execution_count": 23,
   "metadata": {},
   "outputs": [
    {
     "name": "stdout",
     "output_type": "stream",
     "text": [
      "['a', 'b', 'c', 'd', 'e']\n"
     ]
    }
   ],
   "source": [
    "##### 分裂\n",
    "#re.split()\n",
    "print(re.split(r'[,;\\.]','a;b,c.d;e'))  #.代表除换行符以外的所有内容，单纯表示.则需要加反斜杠"
   ]
  },
  {
   "cell_type": "code",
   "execution_count": 24,
   "metadata": {},
   "outputs": [
    {
     "name": "stdout",
     "output_type": "stream",
     "text": [
      "<_sre.SRE_Match object; span=(4, 7), match='ran'>\n"
     ]
    }
   ],
   "source": [
    "#####  compile\n",
    "compile_re=re.compile(r'r[au]n')   #先把需要搜索的字符进行编译\n",
    "print(compile_re.search('dog ran to cat'))  #然后直接查找匹配"
   ]
  },
  {
   "cell_type": "code",
   "execution_count": 28,
   "metadata": {},
   "outputs": [
    {
     "name": "stdout",
     "output_type": "stream",
     "text": [
      "[[1 2 3]\n",
      " [2 3 4]]\n",
      "number of dim: 2\n",
      "shape: (2, 3)\n",
      "size: 6\n"
     ]
    }
   ],
   "source": [
    "########################numpy#################################\n",
    "import numpy as np\n",
    "\n",
    "#####numpy的基本属性\n",
    "\n",
    "# np.array 把列表转换为矩阵\n",
    "array=np.array([[1,2,3],[2,3,4]])  \n",
    "print(array)\n",
    "\n",
    "# ndim 显示维度\n",
    "print('number of dim:',array.ndim)\n",
    "\n",
    "# shape 行数和列数\n",
    "print('shape:',array.shape)\n",
    "\n",
    "# size 元素个数\n",
    "print('size:',array.size)"
   ]
  },
  {
   "cell_type": "code",
   "execution_count": 43,
   "metadata": {},
   "outputs": [
    {
     "name": "stdout",
     "output_type": "stream",
     "text": [
      "[ 2 23  5]\n",
      "float16\n",
      "[[0. 0. 0. 0.]\n",
      " [0. 0. 0. 0.]\n",
      " [0. 0. 0. 0.]]\n",
      "[[1. 1. 1. 1.]\n",
      " [1. 1. 1. 1.]\n",
      " [1. 1. 1. 1.]]\n",
      "[[1. 1. 1. 1.]\n",
      " [1. 1. 1. 1.]\n",
      " [1. 1. 1. 1.]]\n",
      "[10 12 14 16 18]\n",
      "[[ 0  1  2  3]\n",
      " [ 4  5  6  7]\n",
      " [ 8  9 10 11]]\n",
      "[ 1.    3.25  5.5   7.75 10.  ]\n"
     ]
    }
   ],
   "source": [
    "#####创建array\n",
    "\n",
    "a=np.array([2,23,5]) \n",
    "print(a) #与列表相似，无逗号隔开\n",
    "\n",
    "# dtype：指定array元素类型，int64/float16\n",
    "a=np.array([2,45,7],dtype=np.float16)\n",
    "print(a.dtype)\n",
    "\n",
    "# zeros/ones/empty矩阵\n",
    "a=np.zeros((3,4))\n",
    "print(a)\n",
    "b=np.ones((3,4))\n",
    "print(b)\n",
    "c=np.empty((3,4)) #数值接近于0\n",
    "print(c)\n",
    "\n",
    "# 指定范围创建array\n",
    "d=np.arange(10,20,2)\n",
    "print(d)\n",
    "d=np.arange(12).reshape((3,4)) #0-11,生成3行4列\n",
    "print(d)\n",
    "\n",
    "# 创建线段linspace\n",
    "e=np.linspace(1,10,5) #1-10,生成5个数\n",
    "print(e)"
   ]
  },
  {
   "cell_type": "code",
   "execution_count": 46,
   "metadata": {},
   "outputs": [
    {
     "name": "stdout",
     "output_type": "stream",
     "text": [
      "[10 21 32 43]\n",
      "[ 100  400  900 1600]\n",
      "[-5.44021111  9.12945251 -9.88031624  7.4511316 ]\n",
      "[0 1 2 3]\n",
      "[ True  True  True False]\n"
     ]
    }
   ],
   "source": [
    "##### numpy基础运算1\n",
    "\n",
    "# 加减，次方**，三角函数\n",
    "a=np.array([10,20,30,40])\n",
    "b=np.arange(4)\n",
    "c=a+b\n",
    "print(c)\n",
    "d=a**2\n",
    "print(d)\n",
    "e=10*np.sin(a)\n",
    "print(e)\n",
    "\n",
    "# 比大小\n",
    "print(b)\n",
    "print(b<3)"
   ]
  },
  {
   "cell_type": "code",
   "execution_count": 57,
   "metadata": {},
   "outputs": [
    {
     "name": "stdout",
     "output_type": "stream",
     "text": [
      "[[1 1]\n",
      " [0 1]]\n",
      "[[0 1]\n",
      " [2 3]]\n",
      "[[0 1]\n",
      " [0 3]]\n",
      "[[2 4]\n",
      " [2 3]]\n"
     ]
    }
   ],
   "source": [
    "##### 两种矩阵的乘法\n",
    "a=np.array([[1,1],[0,1]])\n",
    "b=np.arange(4).reshape((2,2))\n",
    "print(a)\n",
    "print(b)\n",
    "c1=a*b    #对应位置相乘\n",
    "c2=np.dot(a,b) #矩阵运算   c2=a.dot(b)\n",
    "print(c1)\n",
    "print(c2)\n",
    "\n",
    "## 随机产生的array\n",
    "a=np.random.random((2,4)) #2行4列"
   ]
  },
  {
   "cell_type": "code",
   "execution_count": 60,
   "metadata": {},
   "outputs": [
    {
     "name": "stdout",
     "output_type": "stream",
     "text": [
      "4.1056756789138396\n",
      "0.9506622690198463\n",
      "0.029621387332578908\n"
     ]
    }
   ],
   "source": [
    "#求和/最大值/最小值\n",
    "print(np.sum(a)) #列求和np.sum(a,axis=0)，行求和np.sum(a,axis=1)\n",
    "print(np.max(a)) #同上\n",
    "print(np.min(a))"
   ]
  },
  {
   "cell_type": "code",
   "execution_count": 70,
   "metadata": {},
   "outputs": [
    {
     "name": "stdout",
     "output_type": "stream",
     "text": [
      "[[ 2  3  4  5]\n",
      " [ 6  7  8  9]\n",
      " [10 11 12 13]]\n",
      "0\n",
      "11\n",
      "7.5\n",
      "7.5\n",
      "7.5\n",
      "[ 2  5  9 14 20 27 35 44 54 65 77 90]\n",
      "[[1 1 1]\n",
      " [1 1 1]\n",
      " [1 1 1]]\n",
      "(array([0, 0, 0, 0, 1, 1, 1, 1, 2, 2, 2, 2], dtype=int64), array([0, 1, 2, 3, 0, 1, 2, 3, 0, 1, 2, 3], dtype=int64))\n",
      "[[14 13 12 11]\n",
      " [10  9  8  7]\n",
      " [ 6  5  4  3]]\n",
      "[[11 12 13 14]\n",
      " [ 7  8  9 10]\n",
      " [ 3  4  5  6]]\n"
     ]
    }
   ],
   "source": [
    "##### numpy基础运算2\n",
    "\n",
    "# argmin/argmax:最大值/最小值的索引\n",
    "A=np.arange(2,14).reshape((3,4))\n",
    "print(A)\n",
    "print(np.argmin(A)) \n",
    "print(np.argmax(A))\n",
    "\n",
    "# mean/average:平均数; median:中位数;  cumsum:累加和； diff: 后一个元素与前一个元素的差\n",
    "print(np.mean(A))\n",
    "print(np.average(A))\n",
    "print(np.median(A))\n",
    "print(np.cumsum(A))\n",
    "print(np.diff(A))\n",
    "\n",
    "# 找出非0数位置的n(维数)个数组\n",
    "print(np.nonzero(A))\n",
    "\n",
    "#排序sort\n",
    "A=np.arange(14,2,-1).reshape((3,4))\n",
    "print(A)\n",
    "print(np.sort(A)) #逐行从小到大排序"
   ]
  },
  {
   "cell_type": "code",
   "execution_count": 72,
   "metadata": {},
   "outputs": [
    {
     "name": "stdout",
     "output_type": "stream",
     "text": [
      "[[14 10  6]\n",
      " [13  9  5]\n",
      " [12  8  4]\n",
      " [11  7  3]]\n",
      "[[14 10  6]\n",
      " [13  9  5]\n",
      " [12  8  4]\n",
      " [11  7  3]]\n",
      "[[332 302 272 242]\n",
      " [302 275 248 221]\n",
      " [272 248 224 200]\n",
      " [242 221 200 179]]\n"
     ]
    }
   ],
   "source": [
    "##### 矩阵的转置，行列转换\n",
    "print(np.transpose(A))    \n",
    "print(A.T)\n",
    "print(A.T.dot(A))"
   ]
  },
  {
   "cell_type": "code",
   "execution_count": null,
   "metadata": {},
   "outputs": [],
   "source": [
    "##### clip(a,a_min,a_max) 设定最小值、最大值区间，小于则变为a_min,大于则变为a_max,介于之间数不变\n",
    "print(A)\n",
    "print(np.clip(A,5,9)) "
   ]
  }
 ],
 "metadata": {
  "kernelspec": {
   "display_name": "Python 3",
   "language": "python",
   "name": "python3"
  },
  "language_info": {
   "codemirror_mode": {
    "name": "ipython",
    "version": 3
   },
   "file_extension": ".py",
   "mimetype": "text/x-python",
   "name": "python",
   "nbconvert_exporter": "python",
   "pygments_lexer": "ipython3",
   "version": "3.5.6"
  }
 },
 "nbformat": 4,
 "nbformat_minor": 2
}
