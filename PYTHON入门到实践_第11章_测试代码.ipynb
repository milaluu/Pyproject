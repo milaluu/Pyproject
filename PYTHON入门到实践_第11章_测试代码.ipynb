{
 "cells": [
  {
   "cell_type": "markdown",
   "metadata": {},
   "source": [
    "在本章中，将学习：1、如何使用模块unittest中的工具来为函数和类编写测试；2、如何编写继承unittest.TestCase的类，以及如何编写测试方法，以核实函数和类的行为符合预期；3、如何使用方法setUp()来根据类高效地创建实例并设置其属性，以便在类的所有测试方法中都可使用它们。"
   ]
  },
  {
   "cell_type": "markdown",
   "metadata": {},
   "source": [
    "11.1 测试函数"
   ]
  },
  {
   "cell_type": "markdown",
   "metadata": {},
   "source": [
    "要学习测试，得有要测试的代码。下面是一个简单的函数，它接受名和姓并返回整洁的姓名,将其存为name_function.py："
   ]
  },
  {
   "cell_type": "code",
   "execution_count": 1,
   "metadata": {},
   "outputs": [],
   "source": [
    "# name_function.py\n",
    "def get_formatted_name(first,last):\n",
    "    \"\"\"Generate a neatly formatted full name.\"\"\"\n",
    "    full_name = first+' '+last\n",
    "    return full_name.title()"
   ]
  },
  {
   "cell_type": "markdown",
   "metadata": {},
   "source": [
    "为核实get_formatted_name() 像期望的那样工作，我们来编写一个使用这个函数的程序。程序names.py让用户输入名和姓，并显示整洁的全名："
   ]
  },
  {
   "cell_type": "code",
   "execution_count": 3,
   "metadata": {},
   "outputs": [
    {
     "name": "stdout",
     "output_type": "stream",
     "text": [
      "Enter 'q' at any time to quit.\n",
      "\n",
      "Please give me a first name:lily\n",
      "\n",
      "Please give me a last name:collins\n",
      "Neatly formatted name:Lily Collins.\n",
      "\n",
      "Please give me a first name:q\n"
     ]
    }
   ],
   "source": [
    "from name_function import get_formatted_name \n",
    "\n",
    "print(\"Enter 'q' at any time to quit.\")\n",
    "while True:\n",
    "    first = input('\\nPlease give me a first name:')\n",
    "    if first == 'q':\n",
    "        break\n",
    "    last=input('\\nPlease give me a last name:')\n",
    "    if last == 'q':\n",
    "        break\n",
    "        \n",
    "    formatted_name = get_formatted_name(first,last)\n",
    "    print(\"Neatly formatted name:\"+formatted_name+'.')"
   ]
  },
  {
   "cell_type": "markdown",
   "metadata": {},
   "source": [
    "从上述输出可知，合并得到的姓名正确无误。现在假设我们要修改get_formatted_name() ，使其还能够处理中间名。为此我们需要修改函数,并运行name.py，输入一些名字进行测试。这样略显繁琐，python提供了另一种高效的测试方式。"
   ]
  },
  {
   "cell_type": "markdown",
   "metadata": {},
   "source": [
    "11.1.1 单元测试和测试用例"
   ]
  },
  {
   "cell_type": "markdown",
   "metadata": {},
   "source": [
    "Python标准库中的模块unittest 提供了代码测试工具。1、单元测试 用于核实函数的某个方面没有问题；2、测试用例 是一组单元测试，这些单元测试一起核实函数在各种情形下的行为都符合要求。3、全覆盖式测试用例包含一整套单元测试，涵盖了各种可能的函数使用方式。"
   ]
  },
  {
   "cell_type": "markdown",
   "metadata": {},
   "source": [
    "11.1.2 可通过的测试"
   ]
  },
  {
   "cell_type": "code",
   "execution_count": 2,
   "metadata": {},
   "outputs": [
    {
     "name": "stderr",
     "output_type": "stream",
     "text": [
      ".\n",
      "----------------------------------------------------------------------\n",
      "Ran 1 test in 0.068s\n",
      "\n",
      "OK\n"
     ]
    },
    {
     "data": {
      "text/plain": [
       "<unittest.main.TestProgram at 0x2160195be80>"
      ]
     },
     "execution_count": 2,
     "metadata": {},
     "output_type": "execute_result"
    }
   ],
   "source": [
    "# test_name_function.py\n",
    "import unittest  \n",
    "from name_function import get_formatted_name\n",
    "\n",
    "class NamesTestCase(unittest.TestCase):\n",
    "    \"\"\"测试name_function.py\"\"\"\n",
    "    def test_first_last_name(self):\n",
    "        \"\"\"能够正确地处理像Janis Joplin这样的姓名吗？\"\"\"\n",
    "        formatted_name=get_formatted_name('janis','joplin')\n",
    "        self.assertEqual(formatted_name,'Janis Joplin')\n",
    "        \n",
    "unittest.main(argv=['first-arg-is-ignored'],exit=False)"
   ]
  },
  {
   "cell_type": "markdown",
   "metadata": {},
   "source": [
    "创建了一个NamesTestCase的类，用于包含一系列针get_formatted_name()的单元测试。你可随便给这个类命名，但最好让它看起来与要测试的函数相关，并包含字样Test。这个类必须继承unittest.TestCase 类，这样Python才知道如何运行你编写的测试。"
   ]
  },
  {
   "cell_type": "markdown",
   "metadata": {},
   "source": [
    "11.1.3 不能通过的的测试"
   ]
  },
  {
   "cell_type": "markdown",
   "metadata": {},
   "source": [
    "修改get_formatted_name()的参数个数，再次用test_first_last_name测试，则结果会出错(缺少了一个位置实参)："
   ]
  },
  {
   "cell_type": "code",
   "execution_count": 3,
   "metadata": {},
   "outputs": [],
   "source": [
    "# name_function.py\n",
    "def get_formatted_name(first,middle,last):\n",
    "    \"\"\"生成整洁的姓名\"\"\"\n",
    "    full_name=first+' '+middle+' '+last\n",
    "    return full_name.title()"
   ]
  },
  {
   "cell_type": "code",
   "execution_count": 4,
   "metadata": {},
   "outputs": [
    {
     "name": "stderr",
     "output_type": "stream",
     "text": [
      "E\n",
      "======================================================================\n",
      "ERROR: test_first_last_name (__main__.NamesTestCase)\n",
      "能够正确地处理像Janis Joplin这样的姓名吗？\n",
      "----------------------------------------------------------------------\n",
      "Traceback (most recent call last):\n",
      "  File \"<ipython-input-4-0e9d9fa52786>\", line 7, in test_first_last_name\n",
      "    formatted_name = get_formatted_name('janis','joplin')\n",
      "TypeError: get_formatted_name() missing 1 required positional argument: 'last'\n",
      "\n",
      "----------------------------------------------------------------------\n",
      "Ran 1 test in 0.002s\n",
      "\n",
      "FAILED (errors=1)\n"
     ]
    },
    {
     "data": {
      "text/plain": [
       "<unittest.main.TestProgram at 0x216019ca7b8>"
      ]
     },
     "execution_count": 4,
     "metadata": {},
     "output_type": "execute_result"
    }
   ],
   "source": [
    "import unittest\n",
    "from name_function import get_formatted_name \n",
    "class NamesTestCase(unittest.TestCase):\n",
    "    \"\"\"测试name_function.py\"\"\"\n",
    "    def test_first_last_name(self):\n",
    "        \"\"\"能够正确地处理像Janis Joplin这样的姓名吗？\"\"\"\n",
    "        formatted_name = get_formatted_name('janis','joplin') \n",
    "        self.assertEqual(formatted_name,'Janis Joplin')\n",
    "        \n",
    "unittest.main(argv=['first-arg-is-ignored'], exit=False)"
   ]
  },
  {
   "cell_type": "markdown",
   "metadata": {},
   "source": [
    "11.1.4 测试未通过时怎么办"
   ]
  },
  {
   "cell_type": "markdown",
   "metadata": {},
   "source": [
    "如果检查条件没错，测试通过表示函数内行为是对的，而测试未通过意味代码有问题。因此测试未通过时，不应修改测试，而应\n",
    "找出函数代码中的错误。"
   ]
  },
  {
   "cell_type": "markdown",
   "metadata": {},
   "source": [
    "在上一个示例中，get_formatted_name() 以前只需要两个实参，后面修改为三个实参(中间名加入）；如何使只有名和姓的通过测试呢？最佳办法是设置中间名可选（middle移动到形参末尾，默认为空字符）。"
   ]
  },
  {
   "cell_type": "code",
   "execution_count": 5,
   "metadata": {},
   "outputs": [],
   "source": [
    "# name_function.py\n",
    "def get_formatted_name(first, last, middle=''):\n",
    "    \"\"\"生成整洁的姓名\"\"\"\n",
    "    if middle:\n",
    "        full_name = first + ' ' + middle + ' ' + last\n",
    "    else:\n",
    "        full_name = first + ' ' + last\n",
    "    return full_name.title()"
   ]
  },
  {
   "cell_type": "code",
   "execution_count": 6,
   "metadata": {},
   "outputs": [
    {
     "name": "stderr",
     "output_type": "stream",
     "text": [
      ".\n",
      "----------------------------------------------------------------------\n",
      "Ran 1 test in 0.003s\n",
      "\n",
      "OK\n"
     ]
    },
    {
     "data": {
      "text/plain": [
       "<unittest.main.TestProgram at 0x216019cafd0>"
      ]
     },
     "execution_count": 6,
     "metadata": {},
     "output_type": "execute_result"
    }
   ],
   "source": [
    "import unittest\n",
    "from name_function import get_formatted_name \n",
    "class NamesTestCase(unittest.TestCase):\n",
    "    \"\"\"测试name_function.py\"\"\"\n",
    "    def test_first_last_name(self):\n",
    "        \"\"\"能够正确地处理像Janis Joplin这样的姓名吗？\"\"\"\n",
    "        formatted_name = get_formatted_name('janis','joplin') \n",
    "        self.assertEqual(formatted_name,'Janis Joplin')\n",
    "        \n",
    "unittest.main(argv=['first-arg-is-ignored'], exit=False)"
   ]
  },
  {
   "cell_type": "markdown",
   "metadata": {},
   "source": [
    "11.1.5 添加新测试"
   ]
  },
  {
   "cell_type": "markdown",
   "metadata": {},
   "source": [
    "再编写一个测试，用于测试包含中间名的姓名。为此，我们在NamesTestCase 类中再添加一个方法："
   ]
  },
  {
   "cell_type": "code",
   "execution_count": 6,
   "metadata": {},
   "outputs": [
    {
     "name": "stderr",
     "output_type": "stream",
     "text": [
      "..\n",
      "----------------------------------------------------------------------\n",
      "Ran 2 tests in 0.002s\n",
      "\n",
      "OK\n"
     ]
    },
    {
     "data": {
      "text/plain": [
       "<unittest.main.TestProgram at 0x258c3da7f98>"
      ]
     },
     "execution_count": 6,
     "metadata": {},
     "output_type": "execute_result"
    }
   ],
   "source": [
    "import unittest\n",
    "from name_function import get_formatted_name\n",
    "class NamesTestCase(unittest.TestCase):\n",
    "    \"\"\"测试name_function.py \"\"\"\n",
    "    def test_first_last_name(self):\n",
    "        \"\"\"能够正确地处理像Janis Joplin这样的姓名吗？\"\"\"\n",
    "        formatted_name = get_formatted_name('janis','joplin')\n",
    "        self.assertEqual(formatted_name,'Janis Joplin')\n",
    "        \n",
    "    def test_first_middle_last_name(self):\n",
    "        \"\"\"能够正确地处理像Wolfgang Amadeus Mozart这样的姓名吗？\"\"\"\n",
    "        formatted_name = get_formatted_name('wolfgang', 'mozart', 'amadeus')\n",
    "        self.assertEqual(formatted_name,'Wolfgang Amadeus Mozart')\n",
    "        \n",
    "unittest.main(argv=['first-arg-is-ignored'],exit=False)"
   ]
  },
  {
   "cell_type": "markdown",
   "metadata": {},
   "source": [
    "一个必须注意的点，所有的测试方法名必须以test_打头，这样它才会在我们运行test_name_function.py时自动运行。"
   ]
  },
  {
   "cell_type": "markdown",
   "metadata": {},
   "source": [
    "### 11.1 作业"
   ]
  },
  {
   "cell_type": "markdown",
   "metadata": {},
   "source": [
    "11-1 城市和国家 ：编写一个函数，它接受两个形参：一个城市名和一个国家名。这个函数返回一个格式为City, Country 的字符串，如Santiago, Chile 。将这个函数存储在一个名为city_functions.py的模块中。"
   ]
  },
  {
   "cell_type": "code",
   "execution_count": 7,
   "metadata": {},
   "outputs": [],
   "source": [
    "# city_functions.py\n",
    "def get_city_country(city,country):\n",
    "    \"\"\"存储城市名和国家名，返回City,Country\"\"\"\n",
    "    city_info=city+','+country\n",
    "    return city_info.title()"
   ]
  },
  {
   "cell_type": "markdown",
   "metadata": {},
   "source": [
    "创建一个名为test_cities.py的程序，对刚编写的函数进行测试（别忘了，你需要导入模块unittest 以及要测试的函数）。编写一个名为test_city_country() 的\n",
    "方法，核实使用类似于'santiago' 和'chile' 这样的值来调用前述函数时，得到的字符串是正确的。运行test_cities.py ，确认测\n",
    "试test_city_country() 通过了。"
   ]
  },
  {
   "cell_type": "code",
   "execution_count": 8,
   "metadata": {},
   "outputs": [
    {
     "name": "stderr",
     "output_type": "stream",
     "text": [
      "..\n",
      "----------------------------------------------------------------------\n",
      "Ran 2 tests in 0.004s\n",
      "\n",
      "OK\n"
     ]
    },
    {
     "data": {
      "text/plain": [
       "<unittest.main.TestProgram at 0x216019e4b70>"
      ]
     },
     "execution_count": 8,
     "metadata": {},
     "output_type": "execute_result"
    }
   ],
   "source": [
    "# test_cities.py\n",
    "import unittest\n",
    "from city_functions import get_city_country\n",
    "class CityTestCase(unittest.TestCase):\n",
    "    \"\"\"测试get_city_country.py\"\"\"\n",
    "    def test_city_country(self):\n",
    "        city_info= get_city_country('santiago','chile')\n",
    "        self.assertEqual(city_info,'Santiago,Chile')\n",
    "        \n",
    "unittest.main(argv=['first-arg-is-ignored'],exit=False)"
   ]
  },
  {
   "cell_type": "markdown",
   "metadata": {},
   "source": [
    "11-2 人口数量 ：修改前面的函数，使其包含第三个必不可少的形参population ，并返回一个格式为City, Country - population xxx 的字符串，\n",
    "如Santiago, Chile - population 5000000 。运行test_cities.py，确认测试test_city_country() 未通过。"
   ]
  },
  {
   "cell_type": "code",
   "execution_count": 9,
   "metadata": {},
   "outputs": [],
   "source": [
    "# city_functions.py\n",
    "def get_city_country(city,country,population):\n",
    "    \"\"\"存储城市名和国家名，返回City,Country\"\"\"\n",
    "    city_info=(city+','+country).title+'-population '+population\n",
    "    return city_info"
   ]
  },
  {
   "cell_type": "code",
   "execution_count": 10,
   "metadata": {},
   "outputs": [
    {
     "name": "stderr",
     "output_type": "stream",
     "text": [
      "E.\n",
      "======================================================================\n",
      "ERROR: test_city_country (__main__.CityTestCase)\n",
      "----------------------------------------------------------------------\n",
      "Traceback (most recent call last):\n",
      "  File \"<ipython-input-10-b0ff2a0456dc>\", line 7, in test_city_country\n",
      "    city_info = get_city_country('santiago','chile')\n",
      "TypeError: get_city_country() missing 1 required positional argument: 'population'\n",
      "\n",
      "----------------------------------------------------------------------\n",
      "Ran 2 tests in 0.005s\n",
      "\n",
      "FAILED (errors=1)\n"
     ]
    },
    {
     "data": {
      "text/plain": [
       "<unittest.main.TestProgram at 0x216019f1ba8>"
      ]
     },
     "execution_count": 10,
     "metadata": {},
     "output_type": "execute_result"
    }
   ],
   "source": [
    "# test_cities.py\n",
    "import unittest\n",
    "from city_functions import get_city_country\n",
    "class CityTestCase(unittest.TestCase):\n",
    "    \"\"\"测试get_city_country.py\"\"\"\n",
    "    def test_city_country(self):\n",
    "        city_info = get_city_country('santiago','chile')\n",
    "        self.assertEqual(city_info,'Santiago,Chile')\n",
    "        \n",
    "unittest.main(argv=['first-arg-is-ignored'],exit=False)"
   ]
  },
  {
   "cell_type": "markdown",
   "metadata": {},
   "source": [
    "修改上述函数，将形参population 设置为可选的。再次运行test_cities.py，确认测试test_city_country() 又通过了。"
   ]
  },
  {
   "cell_type": "code",
   "execution_count": 11,
   "metadata": {},
   "outputs": [],
   "source": [
    "# city_functions.py\n",
    "def get_city_country(city,country,population=''):\n",
    "    \"\"\"存储城市名和国家名，返回City,Country\"\"\"\n",
    "    if population:\n",
    "        city_info=(city+','+country).title()+'-population '+population\n",
    "    else:\n",
    "        city_info=(city+','+country).title()\n",
    "    return city_info"
   ]
  },
  {
   "cell_type": "code",
   "execution_count": 12,
   "metadata": {},
   "outputs": [
    {
     "name": "stderr",
     "output_type": "stream",
     "text": [
      "..\n",
      "----------------------------------------------------------------------\n",
      "Ran 2 tests in 0.004s\n",
      "\n",
      "OK\n"
     ]
    },
    {
     "data": {
      "text/plain": [
       "<unittest.main.TestProgram at 0x216019e4a90>"
      ]
     },
     "execution_count": 12,
     "metadata": {},
     "output_type": "execute_result"
    }
   ],
   "source": [
    "# test_cities.py\n",
    "import unittest\n",
    "from city_functions import get_city_country\n",
    "class CityTestCase(unittest.TestCase):\n",
    "    \"\"\"测试get_city_country.py\"\"\"\n",
    "    def test_city_country(self):\n",
    "        city_info = get_city_country('santiago','chile')\n",
    "        self.assertEqual(city_info,'Santiago,Chile')\n",
    "        \n",
    "unittest.main(argv=['first-arg-is-ignored'],exit=False)"
   ]
  },
  {
   "cell_type": "markdown",
   "metadata": {},
   "source": [
    "再编写一个名为test_city_country_population() 的测试，核实可以使用类似于'santiago' 、'chile' 和'population=5000000' 这样的值来调用\n",
    "这个函数。再次运行test_cities.py，确认测试test_city_country_population() 通过了。"
   ]
  },
  {
   "cell_type": "code",
   "execution_count": 13,
   "metadata": {},
   "outputs": [
    {
     "name": "stderr",
     "output_type": "stream",
     "text": [
      "...\n",
      "----------------------------------------------------------------------\n",
      "Ran 3 tests in 0.004s\n",
      "\n",
      "OK\n"
     ]
    },
    {
     "data": {
      "text/plain": [
       "<unittest.main.TestProgram at 0x216019eb5c0>"
      ]
     },
     "execution_count": 13,
     "metadata": {},
     "output_type": "execute_result"
    }
   ],
   "source": [
    "# test_cities.py\n",
    "import unittest\n",
    "from city_functions import get_city_country\n",
    "class CityTestCase(unittest.TestCase):\n",
    "    \"\"\"测试get_city_country.py\"\"\"\n",
    "    def test_city_country(self):\n",
    "        city_info = get_city_country('santiago','chile')\n",
    "        self.assertEqual(city_info,'Santiago,Chile')\n",
    "        \n",
    "    def test_city_country_population(self):\n",
    "        city_info = get_city_country('santiago','chile','5000000')\n",
    "        self.assertEqual(city_info,'Santiago,Chile-population 5000000')    \n",
    "        \n",
    "unittest.main(argv=['first-arg-is-ignored'],exit=False)"
   ]
  },
  {
   "cell_type": "markdown",
   "metadata": {},
   "source": [
    "## 11.2 测试类"
   ]
  },
  {
   "cell_type": "markdown",
   "metadata": {},
   "source": [
    "在前一节中编写了针对单个函数的测试，下面来编写针对类的测试："
   ]
  },
  {
   "cell_type": "markdown",
   "metadata": {},
   "source": [
    "11.2.1 各种断言方法"
   ]
  },
  {
   "cell_type": "markdown",
   "metadata": {},
   "source": [
    "Python在unittest.TestCase类中提供多种断言方法，断言方法测试该满足的条件是否满足。常用的6个断言方法如下：assertEqual(a,b);assertNotEqual(a,b);\n",
    "assertTrue(x);assertFalse(x);assertIn(item,list);assertNotIn(item,list)."
   ]
  },
  {
   "cell_type": "markdown",
   "metadata": {},
   "source": [
    "11.2.2 一个要测试的类"
   ]
  },
  {
   "cell_type": "code",
   "execution_count": 29,
   "metadata": {},
   "outputs": [],
   "source": [
    "# 创建survey.py\n",
    "class AnonymousSurvey():\n",
    "    \"\"\"收集匿名调查问卷的答案\"\"\"\n",
    "    \n",
    "    def __init__(self,question):\n",
    "        \"\"\"存储一个问题，并为存储答案做准备\"\"\"\n",
    "        self.question = question\n",
    "        self.responses =[]\n",
    "        \n",
    "    def show_question(self):\n",
    "        \"\"\"显示调查问卷\"\"\"\n",
    "        print(question)\n",
    "        \n",
    "    def store_response(self,new_response):\n",
    "        \"\"\"存储单份调查问卷\"\"\"\n",
    "        self.responses.append(new_response)\n",
    "        \n",
    "    def show_results(self):\n",
    "        \"\"\"显示收集到的所有问卷\"\"\"\n",
    "        print('Survey results:')\n",
    "        for response in self.responses:\n",
    "            print('- '+response)"
   ]
  },
  {
   "cell_type": "code",
   "execution_count": 30,
   "metadata": {},
   "outputs": [
    {
     "name": "stdout",
     "output_type": "stream",
     "text": [
      "What language did you first learn to speak?\n",
      "Enter 'q' at any time to quit.\n",
      "\n",
      "Language: Chinese\n",
      "Language: English\n",
      "Language: Spanish\n",
      "Language: q\n",
      "\n",
      "Thank you to everyone who participated in the survey!\n",
      "Survey results:\n",
      "- Chinese\n",
      "- English\n",
      "- Spanish\n"
     ]
    }
   ],
   "source": [
    "# languages_survey.py\n",
    "from survey import AnonymousSurvey\n",
    "\n",
    "#定义一个问题，并创建一个表示调查的AnonymousSurvey对象\n",
    "question = \"What language did you first learn to speak?\"\n",
    "my_survey = AnonymousSurvey(question)\n",
    "\n",
    "#显示问题并存储答案\n",
    "my_survey.show_question()\n",
    "print(\"Enter 'q' at any time to quit.\\n\")\n",
    "while True:\n",
    "    response = input(\"Language: \")\n",
    "    if response == 'q':\n",
    "        break\n",
    "    my_survey.store_response(response)\n",
    "    \n",
    "# 显示调查结果\n",
    "print(\"\\nThank you to everyone who participated in the survey!\")\n",
    "my_survey.show_results()"
   ]
  },
  {
   "cell_type": "markdown",
   "metadata": {},
   "source": [
    "11.2.3 测试AnonymousSurvey类"
   ]
  },
  {
   "cell_type": "markdown",
   "metadata": {},
   "source": [
    "测试验证：如果用户面对调查问题时只提供了一个答案，这个答案也能被妥善地存储。使用方法assertIn() 来核实它包含在答案列表中："
   ]
  },
  {
   "cell_type": "code",
   "execution_count": 32,
   "metadata": {},
   "outputs": [
    {
     "name": "stderr",
     "output_type": "stream",
     "text": [
      ".....\n",
      "----------------------------------------------------------------------\n",
      "Ran 5 tests in 0.008s\n",
      "\n",
      "OK\n"
     ]
    },
    {
     "data": {
      "text/plain": [
       "<unittest.main.TestProgram at 0x258c3e78a20>"
      ]
     },
     "execution_count": 32,
     "metadata": {},
     "output_type": "execute_result"
    }
   ],
   "source": [
    "# test_survey.py\n",
    "import unittest \n",
    "from survey import AnonymousSurvey \n",
    "class TestAnonmyousSurvey(unittest.TestCase):\n",
    "    \"\"\"针对AnonymousSurvey类的测试\"\"\"\n",
    "    def test_store_single_response(self):\n",
    "        \"\"\"测试单个答案会被妥善地存储\"\"\"\n",
    "        question = \"What language did you first learn to speak?\" \n",
    "        my_survey = AnonymousSurvey(question)\n",
    "        my_survey.store_response('English')\n",
    "       \n",
    "        self.assertIn('English', my_survey.responses)\n",
    "        \n",
    "unittest.main(argv=['first-arg-is-ignored'],exit=False)"
   ]
  },
  {
   "cell_type": "markdown",
   "metadata": {},
   "source": [
    "但只能收集一个答案的调查用途不大。下面来核实用户提供三个答案时，它们也将被妥善地存储。为此，再添加一个方法："
   ]
  },
  {
   "cell_type": "code",
   "execution_count": 36,
   "metadata": {},
   "outputs": [
    {
     "name": "stderr",
     "output_type": "stream",
     "text": [
      ".......\n",
      "----------------------------------------------------------------------\n",
      "Ran 7 tests in 0.007s\n",
      "\n",
      "OK\n"
     ]
    },
    {
     "data": {
      "text/plain": [
       "<unittest.main.TestProgram at 0x258c3de6f60>"
      ]
     },
     "execution_count": 36,
     "metadata": {},
     "output_type": "execute_result"
    }
   ],
   "source": [
    "import unittest\n",
    "from survey import AnonymousSurvey\n",
    "class TestAnonymousSurvey(unittest.TestCase):\n",
    "    \"\"\"针对AnonymousSurvey类的测试\"\"\"\n",
    "    def test_store_single_response(self):\n",
    "        \"\"\"测试单个答案会被妥善地存储\"\"\"\n",
    "        question = \"What language did you first learn to speak?\" \n",
    "        my_survey = AnonymousSurvey(question)\n",
    "        my_survey.store_response('English')\n",
    "        self.assertIn('English', my_survey.responses)\n",
    "        \n",
    "    def test_store_three_responses(self):\n",
    "        \"\"\"测试三个答案会被妥善地存储\"\"\"\n",
    "        question = \"What language did you first learn to speak?\"\n",
    "        my_survey = AnonymousSurvey(question) \n",
    "        responses = ['English', 'Spanish', 'Mandarin']\n",
    "        for response in responses:\n",
    "            my_survey.store_response(response)\n",
    "        for response in responses:\n",
    "            self.assertIn(response, my_survey.responses)\n",
    "            \n",
    "unittest.main(argv=['first-arg-is-ignored'],exit=False)"
   ]
  },
  {
   "cell_type": "markdown",
   "metadata": {},
   "source": [
    "11.2.4 方法setUp()"
   ]
  },
  {
   "cell_type": "markdown",
   "metadata": {},
   "source": [
    "在前面的每个测试方法中，我们都需要创建了一个AnonymousSurvey实例，并每个方法中都创建了答案。使用unittest.TestCase类中的setUp()方法可以只创建一次，提高测试效率。"
   ]
  },
  {
   "cell_type": "code",
   "execution_count": 37,
   "metadata": {},
   "outputs": [
    {
     "name": "stderr",
     "output_type": "stream",
     "text": [
      ".......\n",
      "----------------------------------------------------------------------\n",
      "Ran 7 tests in 0.008s\n",
      "\n",
      "OK\n"
     ]
    },
    {
     "data": {
      "text/plain": [
       "<unittest.main.TestProgram at 0x258c3e863c8>"
      ]
     },
     "execution_count": 37,
     "metadata": {},
     "output_type": "execute_result"
    }
   ],
   "source": [
    "import unittest\n",
    "from survey import AnonymousSurvey\n",
    "class TestAnonymousSurvey(unittest.TestCase):\n",
    "    \"\"\"针对AnonymousSurvey类的测试\"\"\"\n",
    "    def setUp(self):\n",
    "        \"\"\"创建一个调查对象和一组答案，供使用的测试方法使用\"\"\"\n",
    "        question = \"What language did you first learn to speak?\" \n",
    "        self.my_survey = AnonymousSurvey(question) \n",
    "        self.responses = ['English', 'Spanish', 'Mandarin']\n",
    "        \n",
    "    def test_store_single_response(self):\n",
    "        \"\"\"测试单个答案会被妥善地存储\"\"\"\n",
    "        self.my_survey.store_response(self.responses[0])\n",
    "        self.assertIn(self.responses[0], self.my_survey.responses)\n",
    "            \n",
    "    def test_store_three_responses(self):\n",
    "        \"\"\"测试三个答案会被妥善地存储\"\"\"\n",
    "        for response in self.responses:\n",
    "            self.my_survey.store_response(response)\n",
    "        for response in self.responses:\n",
    "            self.assertIn(response, self.my_survey.responses)\n",
    "                \n",
    "unittest.main(argv=['first-arg-is-ignored'],exit=False)"
   ]
  },
  {
   "cell_type": "markdown",
   "metadata": {},
   "source": [
    "测试自己编写的类时，方法setUp() 让测试方法编写起来更容易：可在setUp() 方法中创建一系列实例并设置它们的属性，再在测试方法中直接使用这些实例。相比于在每个\n",
    "测试方法中都创建实例并设置其属性，这要容易得多。"
   ]
  },
  {
   "cell_type": "markdown",
   "metadata": {},
   "source": [
    "### 11.2 作业"
   ]
  },
  {
   "cell_type": "markdown",
   "metadata": {},
   "source": [
    "11-3 雇员 ：编写一个名为Employee 的类，其方法__init__() 接受名、姓和年薪，并将它们都存储在属性中。编写一个名为give_raise() 的方法，它默认将年薪增加5000美元，但也能够接受其他的年薪增加量。"
   ]
  },
  {
   "cell_type": "code",
   "execution_count": 40,
   "metadata": {},
   "outputs": [],
   "source": [
    "# employee.py\n",
    "class Employee():\n",
    "    \"\"\"存储雇员的名、姓、年薪\"\"\"\n",
    "    def __init__(self,first_name,last_name,salary):\n",
    "        self.firstname = first_name\n",
    "        self.lastname = last_name\n",
    "        self.salary = salary\n",
    "        \n",
    "    def give_raise(self,increase=''):\n",
    "        if increase:\n",
    "            #self.increasement=increase\n",
    "            new_salary = int(self.salary)+int(increase)\n",
    "        else:\n",
    "            new_salary = self.salary + 5000\n",
    "        return new_salary"
   ]
  },
  {
   "cell_type": "markdown",
   "metadata": {},
   "source": [
    "为Employee 编写一个测试用例，其中包含两个测试方法：test_give_default_raise() 和test_give_custom_raise() 。使用方法setUp() ，以免在\n",
    "每个测试方法中都创建新的雇员实例。运行这个测试用例，确认两个测试都通过了。"
   ]
  },
  {
   "cell_type": "code",
   "execution_count": 41,
   "metadata": {},
   "outputs": [
    {
     "name": "stderr",
     "output_type": "stream",
     "text": [
      ".....\n",
      "----------------------------------------------------------------------\n",
      "Ran 5 tests in 0.008s\n",
      "\n",
      "OK\n"
     ]
    },
    {
     "data": {
      "text/plain": [
       "<unittest.main.TestProgram at 0x21601a42400>"
      ]
     },
     "execution_count": 41,
     "metadata": {},
     "output_type": "execute_result"
    }
   ],
   "source": [
    "# test_employee.py\n",
    "import unittest\n",
    "#from employee import Employee\n",
    "\n",
    "class TestEmployee(unittest.TestCase):\n",
    "    def setUp(self):\n",
    "        \"\"\"创建一个雇员实例\"\"\"\n",
    "        self.employee_example = Employee('Lily','Collins',100000)\n",
    "    \n",
    "    def test_give_default_raise(self):\n",
    "        \"\"\"测试默认年薪增长\"\"\"\n",
    "        new_salary = self.employee_example.give_raise()\n",
    "        self.assertEqual(new_salary,105000)\n",
    "        \n",
    "    def test_give_custom_raise(self):\n",
    "        \"\"\"测试其他年薪增长\"\"\"\n",
    "        new_salary = self.employee_example.give_raise(12345)\n",
    "        self.assertEqual(new_salary,112345)\n",
    "        \n",
    "unittest.main(argv=['first-arg-is-ignored'],exit=False)"
   ]
  },
  {
   "cell_type": "code",
   "execution_count": null,
   "metadata": {},
   "outputs": [],
   "source": []
  }
 ],
 "metadata": {
  "kernelspec": {
   "display_name": "Python 3",
   "language": "python",
   "name": "python3"
  },
  "language_info": {
   "codemirror_mode": {
    "name": "ipython",
    "version": 3
   },
   "file_extension": ".py",
   "mimetype": "text/x-python",
   "name": "python",
   "nbconvert_exporter": "python",
   "pygments_lexer": "ipython3",
   "version": "3.7.1"
  }
 },
 "nbformat": 4,
 "nbformat_minor": 2
}
