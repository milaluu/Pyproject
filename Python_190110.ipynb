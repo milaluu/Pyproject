{
 "cells": [
  {
   "cell_type": "code",
   "execution_count": 1,
   "metadata": {},
   "outputs": [
    {
     "name": "stdout",
     "output_type": "stream",
     "text": [
      "1\n",
      "2\n",
      "3\n",
      "4\n",
      "The end\n"
     ]
    }
   ],
   "source": [
    "#Examples of while\n",
    "condition=1\n",
    "while(condition<5):\n",
    "    print(condition)\n",
    "    condition=condition+1\n",
    "print('The end')"
   ]
  },
  {
   "cell_type": "code",
   "execution_count": 2,
   "metadata": {},
   "outputs": [
    {
     "name": "stdout",
     "output_type": "stream",
     "text": [
      "1\n",
      "2\n",
      "3\n",
      "5\n",
      "8\n",
      "The End\n"
     ]
    }
   ],
   "source": [
    "#Examples of for\n",
    "list=[1,2,3,5,8]\n",
    "for i in list:\n",
    "    print(i)\n",
    "print('The End')"
   ]
  },
  {
   "cell_type": "code",
   "execution_count": 5,
   "metadata": {},
   "outputs": [
    {
     "name": "stdout",
     "output_type": "stream",
     "text": [
      "x is less than y\n"
     ]
    }
   ],
   "source": [
    "#Example of if\n",
    "x=1\n",
    "y=2\n",
    "z=3\n",
    "if x<y:\n",
    "    print(\"x is less than y\")"
   ]
  },
  {
   "cell_type": "code",
   "execution_count": 67,
   "metadata": {},
   "outputs": [
    {
     "name": "stdout",
     "output_type": "stream",
     "text": [
      "a is equal to 4\n"
     ]
    }
   ],
   "source": [
    "# if ...elif ...else\n",
    "a=4\n",
    "if a<4:\n",
    "    print(\"a is smaller than 4\")\n",
    "elif a>4:\n",
    "    print(\"a is greater than 4\")\n",
    "else:\n",
    "    print('a is equal to 4')\n",
    "\n",
    "#When using the structure of if...elif..else,remember the last keyword is else:"
   ]
  },
  {
   "cell_type": "code",
   "execution_count": 56,
   "metadata": {},
   "outputs": [
    {
     "name": "stdout",
     "output_type": "stream",
     "text": [
      "This is my first text.\n",
      "This is the second text.\n",
      "\n"
     ]
    }
   ],
   "source": [
    "#Line feed\n",
    "text=\"This is my first text.\\nThis is the second text.\\n\"\n",
    "print(text)"
   ]
  },
  {
   "cell_type": "code",
   "execution_count": 33,
   "metadata": {},
   "outputs": [
    {
     "name": "stdout",
     "output_type": "stream",
     "text": [
      "This is a function\n",
      "2\n"
     ]
    }
   ],
   "source": [
    "#Create a function\n",
    "def func():\n",
    "    print(\"This is a function\")\n",
    "    a=2\n",
    "    print(a)\n",
    "\n",
    "func()"
   ]
  },
  {
   "cell_type": "code",
   "execution_count": 35,
   "metadata": {},
   "outputs": [
    {
     "name": "stdout",
     "output_type": "stream",
     "text": [
      "c is  66\n"
     ]
    }
   ],
   "source": [
    "#Create a function with parameters\n",
    "def fun_add(a,b):\n",
    "    c=a+b\n",
    "    print(\"c is \",c)\n",
    "    \n",
    "fun_add(12,54)"
   ]
  },
  {
   "cell_type": "code",
   "execution_count": 40,
   "metadata": {},
   "outputs": [
    {
     "name": "stdout",
     "output_type": "stream",
     "text": [
      " price: 100 \n",
      " color: red \n",
      " brand: carmy \n",
      "\n"
     ]
    }
   ],
   "source": [
    "#Create a function with some default parameters\n",
    "def sale_car(price,color='red',brand='carmy'):\n",
    "    print(' price:',price,'\\n','color:',color,'\\n','brand:',brand,'\\n')\n",
    "\n",
    "sale_car(100)"
   ]
  },
  {
   "cell_type": "code",
   "execution_count": 50,
   "metadata": {},
   "outputs": [
    {
     "name": "stdout",
     "output_type": "stream",
     "text": [
      "Mike \n",
      "The total grade is 27\n"
     ]
    }
   ],
   "source": [
    "#Function with variable parameters \n",
    "def report(name,*grades):     \n",
    "    total=0\n",
    "    for i in grades:\n",
    "        total=total+i\n",
    "    print(name,'\\n''The total grade is',total)\n",
    "\n",
    "report('Mike',8,9,10)"
   ]
  },
  {
   "cell_type": "code",
   "execution_count": 53,
   "metadata": {},
   "outputs": [
    {
     "name": "stdout",
     "output_type": "stream",
     "text": [
      "name is Mike\n",
      "education bachelor\n",
      "country China\n",
      "age 24\n"
     ]
    }
   ],
   "source": [
    "#Function with keyword parameters\n",
    "def portrait(name,**kw):\n",
    "    print('name is',name)\n",
    "    for k,v in kw.items():\n",
    "        print(k,v)\n",
    "\n",
    "portrait('Mike',age=24,country='China',education='bachelor')\n",
    "#**kw means keyword parameter, and it's often put in the end.\n",
    "#if there is no definite names of the parameters,they will be packaged as dictionary."
   ]
  },
  {
   "cell_type": "code",
   "execution_count": 55,
   "metadata": {},
   "outputs": [
    {
     "name": "stdout",
     "output_type": "stream",
     "text": [
      "100\n"
     ]
    }
   ],
   "source": [
    "#Global and local varibles\n",
    "APPLY=100\n",
    "def fun():\n",
    "    a=10\n",
    "    return a+100\n",
    "print(APPLY)   \n",
    "\n",
    "#APPLY is global varible and a is local varible as it was bulid in the function.\n",
    "#a can't be printed."
   ]
  },
  {
   "cell_type": "code",
   "execution_count": 59,
   "metadata": {},
   "outputs": [
    {
     "name": "stdout",
     "output_type": "stream",
     "text": [
      "100\n",
      "a in the past: None\n",
      "a in the present: 20\n"
     ]
    }
   ],
   "source": [
    "#Examples of Global and local varibles\n",
    "APPLY=100\n",
    "a=None\n",
    "def fun():\n",
    "    global a  #global varible\n",
    "    a=20\n",
    "    return a+10\n",
    "\n",
    "print(APPLY)\n",
    "print('a in the past:',a)\n",
    "fun()\n",
    "print('a in the present:',a)"
   ]
  },
  {
   "cell_type": "code",
   "execution_count": 60,
   "metadata": {},
   "outputs": [],
   "source": [
    "#Open a file and write down some words  \n",
    "#if the file can't be found, it will created.\n",
    "file=open(\"my_file.txt\",'w')   # w means write\n",
    "file.write(\"Good evening!\")\n",
    "file.close()  "
   ]
  },
  {
   "cell_type": "code",
   "execution_count": 63,
   "metadata": {},
   "outputs": [],
   "source": [
    "#Append sth to the file we've created\n",
    "append_text=\"\\nWhat are doing now?\"\n",
    "file=open('my_file.txt','a')  # a means append\n",
    "file.write(append_text)\n",
    "file.close()"
   ]
  },
  {
   "cell_type": "code",
   "execution_count": 64,
   "metadata": {},
   "outputs": [
    {
     "name": "stdout",
     "output_type": "stream",
     "text": [
      "Good evening!\n",
      "What are doing now?\n"
     ]
    }
   ],
   "source": [
    "#Read content in flies\n",
    "file=open('my_file.txt','r')\n",
    "content=file.read()\n",
    "print(content)"
   ]
  },
  {
   "cell_type": "code",
   "execution_count": 65,
   "metadata": {},
   "outputs": [
    {
     "name": "stdout",
     "output_type": "stream",
     "text": [
      "Good evening!\n",
      "\n"
     ]
    }
   ],
   "source": [
    "#Read content line by line\n",
    "file=open('my_file.txt','r')\n",
    "content=file.readline()\n",
    "print(content)"
   ]
  },
  {
   "cell_type": "code",
   "execution_count": 66,
   "metadata": {},
   "outputs": [
    {
     "name": "stdout",
     "output_type": "stream",
     "text": [
      "['Good evening!\\n', 'What are doing now?']\n"
     ]
    }
   ],
   "source": [
    "#Read content all lines\n",
    "file=open('my_file.txt','r')\n",
    "content=file.readlines()\n",
    "print(content)"
   ]
  },
  {
   "cell_type": "code",
   "execution_count": 78,
   "metadata": {},
   "outputs": [
    {
     "name": "stdout",
     "output_type": "stream",
     "text": [
      "Good Calculator\n",
      "18\n",
      "Good Calculator\n",
      "46\n",
      "Good Calculator\n",
      "53\n",
      "Good Calculator\n",
      "1334\n",
      "Good Calculator\n",
      "8.333333333333334\n"
     ]
    }
   ],
   "source": [
    "#Class\n",
    "class Calculator:\n",
    "    name=\"Good Calculator\"\n",
    "    price=18\n",
    "    def add(self,x,y):\n",
    "        print(self.name)\n",
    "        result=x+y\n",
    "        print(result)\n",
    "    def minus(self,x,y):\n",
    "        print(self.name)\n",
    "        result=x-y\n",
    "        print(result)\n",
    "    def multiply(self,x,y):\n",
    "        print(self.name)\n",
    "        result=x*y\n",
    "        print(result)\n",
    "    def divide(self,x,y):\n",
    "        print(self.name)\n",
    "        result=x/y\n",
    "        print(result)\n",
    "\n",
    "cal=Calculator()\n",
    "print(cal.name)\n",
    "print(cal.price)\n",
    "cal.add(12,34)\n",
    "cal.minus(65,12)\n",
    "cal.multiply(58,23)\n",
    "cal.divide(100,12)"
   ]
  },
  {
   "cell_type": "code",
   "execution_count": 98,
   "metadata": {},
   "outputs": [
    {
     "name": "stdout",
     "output_type": "stream",
     "text": [
      "45\n",
      "17\n"
     ]
    }
   ],
   "source": [
    "#Class _init_\n",
    "class Calculator(object):\n",
    "    name='good calculator'\n",
    "    price=18\n",
    "    def __init__(self,name,price,height,width,weight): #init两边都是双下划线\n",
    "        self.name=name\n",
    "        self.price=price\n",
    "        self.h=height\n",
    "        self.wi=width\n",
    "        self.we=weight\n",
    "        \n",
    "    \n",
    "c=Calculator('bad calculator',18,32,45,89)\n",
    "print(c.wi)\n",
    "c.wi=17 #修改默认值\n",
    "print(c.wi)"
   ]
  },
  {
   "cell_type": "code",
   "execution_count": null,
   "metadata": {},
   "outputs": [],
   "source": []
  }
 ],
 "metadata": {
  "kernelspec": {
   "display_name": "Python 3",
   "language": "python",
   "name": "python3"
  },
  "language_info": {
   "codemirror_mode": {
    "name": "ipython",
    "version": 3
   },
   "file_extension": ".py",
   "mimetype": "text/x-python",
   "name": "python",
   "nbconvert_exporter": "python",
   "pygments_lexer": "ipython3",
   "version": "3.5.6"
  }
 },
 "nbformat": 4,
 "nbformat_minor": 2
}
