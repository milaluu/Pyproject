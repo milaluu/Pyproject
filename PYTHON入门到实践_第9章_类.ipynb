{
 "cells": [
  {
   "cell_type": "markdown",
   "metadata": {},
   "source": [
    "在本章中，将学习：一、如何编写类；如何使用属性在类中存储信息，以及如何编写方法，以让类具备所需的行为；如何编写方法__init__() ，以便根据类创建包含所需属性的\n",
    "实例。如何修改实例的属性——包括直接修改以及通过方法进行修改。二、使用继承简化相关类的创建工作；将一个类的实例用作另一个类的属性可让类更\n",
    "简洁。三、通过将类存储在模块中，并在需要使用这些类的文件中导入它们，可让项目组织有序。四、学习了Python标准库，并见识了一个使用模块collections 中\n",
    "的OrderedDict 类的示例。五、编写类时应遵循的Python约定。"
   ]
  },
  {
   "cell_type": "markdown",
   "metadata": {},
   "source": [
    "## 9.1 创建和使用类"
   ]
  },
  {
   "cell_type": "markdown",
   "metadata": {},
   "source": [
    "使用类几乎可以模拟任何东西。一个小狗的简单类Dog ——它表示的不是特定的小狗，而是任何小狗。它有名字和年龄；我们还知道，大多数小狗还会蹲下和打滚。由于大多数小狗都具备上述两项信息（名字和年龄）和两种行为（蹲下和打滚），我们的Dog 类将包含它们。这个类让Python知道如何创建表示小狗的对象。"
   ]
  },
  {
   "cell_type": "markdown",
   "metadata": {},
   "source": [
    "9.1.1 创建Dog类"
   ]
  },
  {
   "cell_type": "code",
   "execution_count": 8,
   "metadata": {},
   "outputs": [],
   "source": [
    "# dog.py\n",
    "class Dog():\n",
    "    \"\"\"一次模拟小狗的简单尝试\"\"\"\n",
    "    \n",
    "    def __init__(self, name, age):\n",
    "        \"\"\"初始化属性name和age\"\"\"\n",
    "        self.name = name\n",
    "        self.age = age\n",
    "\n",
    "    def sit(self):\n",
    "        \"\"\"模拟小狗被命令时蹲下\"\"\"\n",
    "        print(self.name.title() + \" is now sitting.\")\n",
    "\n",
    "    def roll_over(self):\n",
    "        \"\"\"模拟小狗被命令时打滚\"\"\"\n",
    "        print(self.name.title() + \" rolled over!\")"
   ]
  },
  {
   "cell_type": "markdown",
   "metadata": {},
   "source": [
    "定义了一个名为Dog的类。根据约定，在Python中，首字母大写的名称指的是类。这个类定义中的括号是空的，因为我们要从空白创建这个类。"
   ]
  },
  {
   "cell_type": "raw",
   "metadata": {},
   "source": [
    "1.方法__init__()"
   ]
  },
  {
   "cell_type": "markdown",
   "metadata": {},
   "source": [
    "类中的函数都称为方法，__init__() 是一个特殊的方法，开头和末尾各有两个下划线。每当你根据Dog类创建新实例时，Python都会自动运行它。它包含三个形参：self 、name 和age 。在这个方法的定义中，形参self 必不可少，还必须位于其他形参的前面。每个与类相关联的方法调用都自动传递实参self ，它是一个指向实例本身\n",
    "的引用，让实例能够访问类中的属性和方法。"
   ]
  },
  {
   "cell_type": "markdown",
   "metadata": {},
   "source": [
    "2. 在python2.7中创建类"
   ]
  },
  {
   "cell_type": "markdown",
   "metadata": {},
   "source": [
    "在python2.7中创建类需要在括号中加入object:\n",
    "    class Dog(object):"
   ]
  },
  {
   "cell_type": "markdown",
   "metadata": {},
   "source": [
    "9.1.2 根据类创建实例"
   ]
  },
  {
   "cell_type": "code",
   "execution_count": 14,
   "metadata": {},
   "outputs": [
    {
     "name": "stdout",
     "output_type": "stream",
     "text": [
      "My dog's name is Willie.\n",
      "My dog is 6 years old.\n"
     ]
    }
   ],
   "source": [
    "class Dog():\n",
    "    \"\"\"一次模拟小狗的简单尝试\"\"\"\n",
    "    \n",
    "    def __init__(self, name, age):\n",
    "        \"\"\"初始化属性name和age\"\"\"\n",
    "        self.name = name\n",
    "        self.age = age\n",
    "\n",
    "    def sit(self):\n",
    "        \"\"\"模拟小狗被命令时蹲下\"\"\"\n",
    "        print(self.name.title() + \" is now sitting.\")\n",
    "\n",
    "    def roll_over(self):\n",
    "        \"\"\"模拟小狗被命令时打滚\"\"\"\n",
    "        print(self.name.title() + \" rolled over!\")\n",
    "    \n",
    "my_dog = Dog('willie',6) \n",
    "\n",
    "print(\"My dog's name is \" + my_dog.name.title() + \".\")  \n",
    "print(\"My dog is \" + str(my_dog.age) + \" years old.\")"
   ]
  },
  {
   "cell_type": "markdown",
   "metadata": {},
   "source": [
    "1、访问实例属性：可使用句点表示法，如my_dog.name:"
   ]
  },
  {
   "cell_type": "code",
   "execution_count": 15,
   "metadata": {},
   "outputs": [
    {
     "data": {
      "text/plain": [
       "'willie'"
      ]
     },
     "execution_count": 15,
     "metadata": {},
     "output_type": "execute_result"
    }
   ],
   "source": [
    "my_dog.name"
   ]
  },
  {
   "cell_type": "markdown",
   "metadata": {},
   "source": [
    "2、调用方法：根据Dog 类创建实例后，就可以使用句点表示法来调用Dog 类中定义的任何方法。"
   ]
  },
  {
   "cell_type": "code",
   "execution_count": 17,
   "metadata": {},
   "outputs": [
    {
     "name": "stdout",
     "output_type": "stream",
     "text": [
      "Willie is now sitting.\n",
      "Willie rolled over!\n"
     ]
    }
   ],
   "source": [
    "class Dog():\n",
    "    \"\"\"一次模拟小狗的简单尝试\"\"\"\n",
    "    \n",
    "    def __init__(self, name, age):\n",
    "        \"\"\"初始化属性name和age\"\"\"\n",
    "        self.name = name\n",
    "        self.age = age\n",
    "\n",
    "    def sit(self):\n",
    "        \"\"\"模拟小狗被命令时蹲下\"\"\"\n",
    "        print(self.name.title() + \" is now sitting.\")\n",
    "\n",
    "    def roll_over(self):\n",
    "        \"\"\"模拟小狗被命令时打滚\"\"\"\n",
    "        print(self.name.title() + \" rolled over!\")\n",
    "\n",
    "my_dog = Dog('willie', 6)\n",
    "my_dog.sit()\n",
    "my_dog.roll_over()"
   ]
  },
  {
   "cell_type": "markdown",
   "metadata": {},
   "source": [
    "3、创建多个实例"
   ]
  },
  {
   "cell_type": "code",
   "execution_count": 19,
   "metadata": {},
   "outputs": [
    {
     "name": "stdout",
     "output_type": "stream",
     "text": [
      "My dog's name is Willie.\n",
      "My dog is 6 years old.\n",
      "Willie is now sitting.\n",
      "\n",
      "Your dog's name is Lucy.\n",
      "Your dog is 3 years old.\n",
      "Lucy is now sitting.\n"
     ]
    }
   ],
   "source": [
    "class Dog():\n",
    "    \"\"\"一次模拟小狗的简单尝试\"\"\"\n",
    "    \n",
    "    def __init__(self, name, age):\n",
    "        \"\"\"初始化属性name和age\"\"\"\n",
    "        self.name = name\n",
    "        self.age = age\n",
    "\n",
    "    def sit(self):\n",
    "        \"\"\"模拟小狗被命令时蹲下\"\"\"\n",
    "        print(self.name.title() + \" is now sitting.\")\n",
    "\n",
    "    def roll_over(self):\n",
    "        \"\"\"模拟小狗被命令时打滚\"\"\"\n",
    "        print(self.name.title() + \" rolled over!\")\n",
    "        \n",
    "my_dog = Dog('willie', 6)\n",
    "your_dog = Dog('lucy', 3)\n",
    "print(\"My dog's name is \" + my_dog.name.title() + \".\")\n",
    "print(\"My dog is \" + str(my_dog.age) + \" years old.\")\n",
    "my_dog.sit()\n",
    "print(\"\\nYour dog's name is \" + your_dog.name.title() + \".\")\n",
    "print(\"Your dog is \" + str(your_dog.age) + \" years old.\")\n",
    "your_dog.sit()"
   ]
  },
  {
   "cell_type": "markdown",
   "metadata": {},
   "source": [
    "### 9.1 作业"
   ]
  },
  {
   "cell_type": "markdown",
   "metadata": {},
   "source": [
    "9-1 餐馆 ：创建一个名为Restaurant 的类，其方法__init__() 设置两个属性：restaurant_name 和cuisine_type 。创建一个名\n",
    "为describe_restaurant() 的方法和一个名为open_restaurant() 的方法，其中前者打印前述两项信息，而后者打印一条消息，指出餐馆正在营业。根据这个类创建一个名为restaurant 的实例，分别打印其两个属性，再调用前述两个方法。"
   ]
  },
  {
   "cell_type": "code",
   "execution_count": 24,
   "metadata": {},
   "outputs": [
    {
     "name": "stdout",
     "output_type": "stream",
     "text": [
      "阿龙川菜馆\n",
      "川菜\n",
      "\n",
      "\n",
      "阿龙川菜馆\n",
      "川菜\n",
      "餐馆营业中\n"
     ]
    }
   ],
   "source": [
    "class Restaurant():\n",
    "    \"\"\"模拟餐馆\"\"\"\n",
    "    def __init__(self,restaurant_name,cuisine_type):\n",
    "        \"\"\"初始化餐馆的属性\"\"\"\n",
    "        self.restaurant_name=restaurant_name\n",
    "        self.cuisine_type=cuisine_type\n",
    "    \n",
    "    def describe_restaurant(self):\n",
    "        \"\"\"描述餐馆的属性\"\"\"\n",
    "        print(self.restaurant_name)\n",
    "        print(self.cuisine_type)\n",
    "        \n",
    "    def open_restaurant(self):\n",
    "        print('餐馆营业中')\n",
    "        \n",
    "\n",
    "restaurant=Restaurant('阿龙川菜馆','川菜')        \n",
    "print(restaurant.restaurant_name)\n",
    "print(restaurant.cuisine_type)\n",
    "print('\\n')\n",
    "\n",
    "restaurant.describe_restaurant()\n",
    "restaurant.open_restaurant()"
   ]
  },
  {
   "cell_type": "markdown",
   "metadata": {},
   "source": [
    "9-2 三家餐馆 ：根据你为完成练习9-1而编写的类创建三个实例，并对每个实例调用方法describe_restaurant()。"
   ]
  },
  {
   "cell_type": "code",
   "execution_count": 26,
   "metadata": {},
   "outputs": [
    {
     "name": "stdout",
     "output_type": "stream",
     "text": [
      "鑫蜀园\n",
      "川菜\n",
      "知味湘\n",
      "湘菜\n",
      "全聚德\n",
      "烤鸭\n"
     ]
    }
   ],
   "source": [
    "class Restaurant():\n",
    "    def __init__(self,restaurant_name,cuisine_type):\n",
    "        self.restaurant_name=restaurant_name\n",
    "        self.cuisine_type=cuisine_type\n",
    "    \n",
    "    def describe_restaurant(self):\n",
    "        print(self.restaurant_name)\n",
    "        print(self.cuisine_type)\n",
    "        \n",
    "    def open_restaurant(self):\n",
    "        print('餐馆营业中')\n",
    "        \n",
    "R1=Restaurant('鑫蜀园','川菜')   \n",
    "R1.describe_restaurant()\n",
    "R2=Restaurant('知味湘','湘菜') \n",
    "R2.describe_restaurant()\n",
    "R3=Restaurant('全聚德','烤鸭') \n",
    "R3.describe_restaurant()"
   ]
  },
  {
   "cell_type": "markdown",
   "metadata": {},
   "source": [
    "9-3 用户 ：创建一个名为User 的类，其中包含属性first_name 和last_name ，还有用户简介通常会存储的其他几个属性。在类User 中定义一个名\n",
    "为describe_user() 的方法，它打印用户信息摘要；再定义一个名为greet_user() 的方法，它向用户发出个性化的问候。\n",
    "创建多个表示不同用户的实例，并对每个实例都调用上述两个方法。"
   ]
  },
  {
   "cell_type": "code",
   "execution_count": 28,
   "metadata": {},
   "outputs": [
    {
     "name": "stdout",
     "output_type": "stream",
     "text": [
      "Basic information of user:\n",
      "\n",
      "first_name: Lily\n",
      "last_name: Collins\n",
      "gender: female\n",
      "nationality: England\n",
      "\n",
      "Hello,Lily Collins!\n"
     ]
    }
   ],
   "source": [
    "class User():\n",
    "    def __init__(self,first_name,last_name,gender,nationality):\n",
    "        self.first_name=first_name\n",
    "        self.last_name=last_name\n",
    "        self.gender=gender\n",
    "        self.nationality=nationality\n",
    "            \n",
    "    def describe_user(self):\n",
    "        print('Basic information of user:\\n')\n",
    "        print('first_name: '+self.first_name+'\\n'+'last_name: '+self.last_name+'\\n'\n",
    "             +'gender: '+self.gender+'\\n'+'nationality: '+self.nationality+'\\n')\n",
    "        \n",
    "    def greet_user(self):\n",
    "        print('Hello,'+self.first_name+' '+self.last_name+'!')\n",
    "\n",
    "        \n",
    "U1=User('Lily','Collins','female','England')\n",
    "U1.describe_user()\n",
    "U1.greet_user()"
   ]
  },
  {
   "cell_type": "markdown",
   "metadata": {},
   "source": [
    "## 9.2 使用类和实例"
   ]
  },
  {
   "cell_type": "markdown",
   "metadata": {},
   "source": [
    "类编写好后，一般大部分时间都将花在使用根据类创建的实例上。其中，修改实例的属性是一项重要任务，我们可以直接修改\n",
    "实例的属性，也可以编写方法以特定的方式进行修改。"
   ]
  },
  {
   "cell_type": "markdown",
   "metadata": {},
   "source": [
    "9.2.1 Car类"
   ]
  },
  {
   "cell_type": "code",
   "execution_count": 32,
   "metadata": {},
   "outputs": [
    {
     "name": "stdout",
     "output_type": "stream",
     "text": [
      "2016 Audi A4\n"
     ]
    }
   ],
   "source": [
    "# car.py\n",
    "class Car():\n",
    "    \"\"\"一次模拟汽车的简单尝试\"\"\"\n",
    "    def __init__(self, make, model, year):\n",
    "        \"\"\"初始化描述汽车的属性\"\"\"\n",
    "        self.make = make\n",
    "        self.model = model\n",
    "        self.year = year\n",
    "\n",
    "    def get_descriptive_name(self):\n",
    "        \"\"\"返回整洁的描述性信息\"\"\"\n",
    "        long_name = str(self.year) + ' ' + self.make + ' ' + self.model\n",
    "        return long_name.title() \n",
    "        \n",
    "my_new_car = Car('audi', 'a4', 2016)\n",
    "print(my_new_car.get_descriptive_name())"
   ]
  },
  {
   "cell_type": "markdown",
   "metadata": {},
   "source": [
    "9.2.2 给属性指定默认值"
   ]
  },
  {
   "cell_type": "markdown",
   "metadata": {},
   "source": [
    "类中的每个属性都必须有初始值，哪怕这个值是0或空字符串。在有些情况下，如设置默认值时，在方法__init__() 内指定这种初始值是可行的；如果你对某个属性这样做\n",
    "了，就无需包含为它提供初始值的形参。"
   ]
  },
  {
   "cell_type": "code",
   "execution_count": 34,
   "metadata": {},
   "outputs": [
    {
     "name": "stdout",
     "output_type": "stream",
     "text": [
      "2016 Audi A4\n",
      "This car has 0 miles on it.\n"
     ]
    }
   ],
   "source": [
    "# 添加一个名为odometer_reading 的属性，其初始值总是为0\n",
    "class Car():\n",
    "    def __init__(self, make, model, year):\n",
    "        \"\"\"初始化描述汽车的属性\"\"\"\n",
    "        self.make = make\n",
    "        self.model = model\n",
    "        self.year = year \n",
    "        self.odometer_reading = 0\n",
    "        \n",
    "    def get_descriptive_name(self):\n",
    "        \"\"\"返回整洁的描述性信息\"\"\"\n",
    "        long_name = str(self.year) + ' ' + self.make + ' ' + self.model\n",
    "        return long_name.title() \n",
    "        \n",
    "    def read_odometer(self):\n",
    "        \"\"\"打印一条指出汽车里程的消息\"\"\"\n",
    "        print(\"This car has \" + str(self.odometer_reading) + \" miles on it.\")\n",
    "        \n",
    "my_new_car = Car('audi', 'a4', 2016)\n",
    "print(my_new_car.get_descriptive_name())\n",
    "my_new_car.read_odometer()"
   ]
  },
  {
   "cell_type": "markdown",
   "metadata": {},
   "source": [
    "9.2.3 修改属性的值"
   ]
  },
  {
   "cell_type": "markdown",
   "metadata": {},
   "source": [
    "可以以三种不同的方式修改属性的值：直接通过实例进行修改；通过方法进行设置；通过方法进行递增（增加特定的值）。下面依次介绍这些方法。"
   ]
  },
  {
   "cell_type": "markdown",
   "metadata": {},
   "source": [
    "1、直接修改属性的值"
   ]
  },
  {
   "cell_type": "markdown",
   "metadata": {},
   "source": [
    "要修改属性的值，最简单的方式是通过实例直接访问它。下面的代码直接将里程表读数设置为23："
   ]
  },
  {
   "cell_type": "code",
   "execution_count": 35,
   "metadata": {},
   "outputs": [
    {
     "name": "stdout",
     "output_type": "stream",
     "text": [
      "2016 Audi A4\n",
      "This car has 23 miles on it.\n"
     ]
    }
   ],
   "source": [
    "class Car():\n",
    "    def __init__(self, make, model, year):\n",
    "        \"\"\"初始化描述汽车的属性\"\"\"\n",
    "        self.make = make\n",
    "        self.model = model\n",
    "        self.year = year \n",
    "        self.odometer_reading = 0\n",
    "        \n",
    "    def get_descriptive_name(self):\n",
    "        \"\"\"返回整洁的描述性信息\"\"\"\n",
    "        long_name = str(self.year) + ' ' + self.make + ' ' + self.model\n",
    "        return long_name.title() \n",
    "        \n",
    "    def read_odometer(self):\n",
    "        \"\"\"打印一条指出汽车里程的消息\"\"\"\n",
    "        print(\"This car has \" + str(self.odometer_reading) + \" miles on it.\")\n",
    "        \n",
    "my_new_car = Car('audi', 'a4', 2016)\n",
    "print(my_new_car.get_descriptive_name()) \n",
    "my_new_car.odometer_reading = 23\n",
    "my_new_car.read_odometer()"
   ]
  },
  {
   "cell_type": "markdown",
   "metadata": {},
   "source": [
    "2. 通过方法修改属性的值"
   ]
  },
  {
   "cell_type": "code",
   "execution_count": 37,
   "metadata": {},
   "outputs": [
    {
     "name": "stdout",
     "output_type": "stream",
     "text": [
      "2016 Audi A4\n",
      "This car has 23 miles on it.\n"
     ]
    }
   ],
   "source": [
    "# 设定更新函数：def update_odometer(self, mileage)\n",
    "\n",
    "class Car():\n",
    "    def __init__(self, make, model, year):\n",
    "        \"\"\"初始化描述汽车的属性\"\"\"\n",
    "        self.make = make\n",
    "        self.model = model\n",
    "        self.year = year \n",
    "        self.odometer_reading = 0\n",
    "        \n",
    "    def get_descriptive_name(self):\n",
    "        \"\"\"返回整洁的描述性信息\"\"\"\n",
    "        long_name = str(self.year) + ' ' + self.make + ' ' + self.model\n",
    "        return long_name.title() \n",
    "        \n",
    "    def read_odometer(self):\n",
    "        \"\"\"打印一条指出汽车里程的消息\"\"\"\n",
    "        print(\"This car has \" + str(self.odometer_reading) + \" miles on it.\")\n",
    "        \n",
    "    def update_odometer(self, mileage):\n",
    "        \"\"\"将里程表读数设置为指定的值\"\"\"\n",
    "        self.odometer_reading = mileage\n",
    "        \n",
    "my_new_car = Car('audi', 'a4', 2016)\n",
    "print(my_new_car.get_descriptive_name())     \n",
    "my_new_car.update_odometer(23)\n",
    "my_new_car.read_odometer()"
   ]
  },
  {
   "cell_type": "markdown",
   "metadata": {},
   "source": [
    "可对方法update_odometer() 进行扩展，使其在修改里程表读数时做些额外的工作。下面来添加一些逻辑，禁止任何人将里程表读数往回调："
   ]
  },
  {
   "cell_type": "code",
   "execution_count": null,
   "metadata": {},
   "outputs": [],
   "source": [
    "def update_odometer(self, mileage):\n",
    "    \"\"\" 将里程表读数设置为指定的值禁止将里程表读数往回调\"\"\" \n",
    "    if mileage >= self.odometer_reading:\n",
    "        self.odometer_reading = mileage\n",
    "    else: \n",
    "        print(\"You can't roll back an odometer!\")"
   ]
  },
  {
   "cell_type": "markdown",
   "metadata": {},
   "source": [
    "3、通过方法对属性的值进行递增"
   ]
  },
  {
   "cell_type": "markdown",
   "metadata": {},
   "source": [
    "有时候需要将属性值递增特定的量，而不是将其设置为全新的值。假设我们购买了一辆二手车，且从购买到登记期间增加了100英里的里程，下面的方法让我们能够传递这个增\n",
    "量，并相应地增加里程表读数："
   ]
  },
  {
   "cell_type": "code",
   "execution_count": 38,
   "metadata": {},
   "outputs": [
    {
     "name": "stdout",
     "output_type": "stream",
     "text": [
      "2013 Subaru Outback\n",
      "This car has 23500 miles on it.\n",
      "This car has 23600 miles on it.\n"
     ]
    }
   ],
   "source": [
    "\n",
    "class Car():\n",
    "    def __init__(self, make, model, year):\n",
    "        \"\"\"初始化描述汽车的属性\"\"\"\n",
    "        self.make = make\n",
    "        self.model = model\n",
    "        self.year = year \n",
    "        self.odometer_reading = 0\n",
    "        \n",
    "    def get_descriptive_name(self):\n",
    "        \"\"\"返回整洁的描述性信息\"\"\"\n",
    "        long_name = str(self.year) + ' ' + self.make + ' ' + self.model\n",
    "        return long_name.title() \n",
    "        \n",
    "    def read_odometer(self):\n",
    "        \"\"\"打印一条指出汽车里程的消息\"\"\"\n",
    "        print(\"This car has \" + str(self.odometer_reading) + \" miles on it.\")\n",
    "        \n",
    "    def update_odometer(self, mileage):\n",
    "        \"\"\"将里程表读数设置为指定的值\"\"\"\n",
    "        self.odometer_reading = mileage\n",
    "\n",
    "    def increment_odometer(self, miles):  #可以禁止增量为负值，从而防止有人利用它来回拨里程表。\n",
    "        \"\"\"将里程表读数增加指定的量\"\"\"\n",
    "        self.odometer_reading += miles\n",
    "\n",
    "my_used_car = Car('subaru', 'outback', 2013)\n",
    "print(my_used_car.get_descriptive_name())\n",
    "\n",
    "my_used_car.update_odometer(23500)\n",
    "my_used_car.read_odometer()\n",
    "\n",
    "my_used_car.increment_odometer(100)\n",
    "my_used_car.read_odometer()"
   ]
  },
  {
   "cell_type": "markdown",
   "metadata": {},
   "source": [
    "### 9.2 作业"
   ]
  },
  {
   "cell_type": "markdown",
   "metadata": {},
   "source": [
    "9-4 就餐人数 ：在为完成练习9-1而编写的程序中，添加一个名为number_served 的属性，并将其默认值设置为0。根据这个类创建一个名为restaurant 的实例；打印有多少人在这家餐馆就餐过，然后修改这个值并再次打印。"
   ]
  },
  {
   "cell_type": "code",
   "execution_count": 52,
   "metadata": {},
   "outputs": [
    {
     "name": "stdout",
     "output_type": "stream",
     "text": [
      "0\n",
      "80\n"
     ]
    }
   ],
   "source": [
    "class Restaurant():\n",
    "    \"\"\"模拟餐馆\"\"\"\n",
    "    def __init__(self,restaurant_name,cuisine_type):\n",
    "        \"\"\"初始化餐馆的属性\"\"\"\n",
    "        self.restaurant_name=restaurant_name\n",
    "        self.cuisine_type=cuisine_type\n",
    "        self.number_served=0\n",
    "    \n",
    "    def describe_restaurant(self):\n",
    "        \"\"\"描述餐馆的属性\"\"\"\n",
    "        print(self.restaurant_name)\n",
    "        print(self.cuisine_type)\n",
    "        \n",
    "    def open_restaurant(self):\n",
    "        print('餐馆营业中')\n",
    "    \n",
    "    def read_number_served(self):\n",
    "        print(self.number_served)\n",
    "        \n",
    "\n",
    "restaurant=Restaurant('阿龙川菜馆','川菜')        \n",
    "restaurant.read_number_served()\n",
    "restaurant.number_served=80\n",
    "restaurant.read_number_served()"
   ]
  },
  {
   "cell_type": "markdown",
   "metadata": {},
   "source": [
    "添加一个名为set_number_served() 的方法，它让你能够设置就餐人数。调用这个方法并向它传递一个值，然后再次打印这个值。"
   ]
  },
  {
   "cell_type": "code",
   "execution_count": 53,
   "metadata": {},
   "outputs": [
    {
     "name": "stdout",
     "output_type": "stream",
     "text": [
      "120\n"
     ]
    }
   ],
   "source": [
    "class Restaurant():\n",
    "    \"\"\"模拟餐馆\"\"\"\n",
    "    def __init__(self,restaurant_name,cuisine_type):\n",
    "        \"\"\"初始化餐馆的属性\"\"\"\n",
    "        self.restaurant_name=restaurant_name\n",
    "        self.cuisine_type=cuisine_type\n",
    "        self.number_served=0\n",
    "    \n",
    "    def describe_restaurant(self):\n",
    "        \"\"\"描述餐馆的属性\"\"\"\n",
    "        print(self.restaurant_name)\n",
    "        print(self.cuisine_type)\n",
    "        \n",
    "    def open_restaurant(self):\n",
    "        print('餐馆营业中')\n",
    "    \n",
    "    def read_number_served(self):\n",
    "        print(self.number_served)\n",
    "        \n",
    "    def set_number_served(self,num):\n",
    "        self.number_served=num\n",
    "       \n",
    "\n",
    "R=Restaurant('阿龙川菜馆','川菜')        \n",
    "R.set_number_served(120)\n",
    "R.read_number_served()"
   ]
  },
  {
   "cell_type": "markdown",
   "metadata": {},
   "source": [
    "添加一个名为increment_number_served() 的方法，它让你能够将就餐人数递增。调用这个方法并向它传递一个这样的值：你认为这家餐馆每天可能接待的就\n",
    "餐人数。"
   ]
  },
  {
   "cell_type": "code",
   "execution_count": 55,
   "metadata": {},
   "outputs": [
    {
     "name": "stdout",
     "output_type": "stream",
     "text": [
      "140\n"
     ]
    }
   ],
   "source": [
    "class Restaurant():\n",
    "    \"\"\"模拟餐馆\"\"\"\n",
    "    def __init__(self,restaurant_name,cuisine_type):\n",
    "        \"\"\"初始化餐馆的属性\"\"\"\n",
    "        self.restaurant_name=restaurant_name\n",
    "        self.cuisine_type=cuisine_type\n",
    "        self.number_served=0\n",
    "    \n",
    "    def describe_restaurant(self):\n",
    "        \"\"\"描述餐馆的属性\"\"\"\n",
    "        print(self.restaurant_name)\n",
    "        print(self.cuisine_type)\n",
    "        \n",
    "    def open_restaurant(self):\n",
    "        print('餐馆营业中')\n",
    "    \n",
    "    def read_number_served(self):\n",
    "        print(self.number_served)\n",
    "        \n",
    "    def set_number_served(self,num):\n",
    "        self.number_served = num\n",
    "    \n",
    "    def increment_number_served(self,daily_num):\n",
    "        self.number_served += daily_num\n",
    "\n",
    "R=Restaurant('阿龙川菜馆','川菜')        \n",
    "R.set_number_served(120)\n",
    "R.increment_number_served(20)\n",
    "R.read_number_served()"
   ]
  },
  {
   "cell_type": "markdown",
   "metadata": {},
   "source": [
    "9-5 尝试登录次数 ：在为完成练习9-3而编写的User 类中，添加一个名为login_attempts 的属性。编写一个名为increment_login_attempts() 的方法，它将属性login_attempts 的值加1。再编写一个名为reset_login_attempts() 的方法，它将属性login_attempts 的值重置为0。"
   ]
  },
  {
   "cell_type": "code",
   "execution_count": 58,
   "metadata": {},
   "outputs": [],
   "source": [
    "class User():\n",
    "    def __init__(self,first_name,last_name,gender,nationality):\n",
    "        self.first_name=first_name\n",
    "        self.last_name=last_name\n",
    "        self.gender=gender\n",
    "        self.nationality=nationality\n",
    "        self.login_attempts = 0\n",
    "            \n",
    "    def describe_user(self):\n",
    "        print('Basic information of user:\\n')\n",
    "        print('first_name: '+self.first_name+'\\n'+'last_name: '+self.last_name+'\\n'\n",
    "             +'gender: '+self.gender+'\\n'+'nationality: '+self.nationality+'\\n')\n",
    "        \n",
    "    def greet_user(self):\n",
    "        print('Hello,'+self.first_name+' '+self.last_name+'!')\n",
    "        \n",
    "    def increment_login_attempts(self):\n",
    "        self.login_attempts += 1\n",
    "        print('这是第'+str(self.login_attempts)+'次登录')\n",
    "\n",
    "    def reset_login_attempts(self):\n",
    "        self.login_attempts = 0\n",
    "        print('登录次数已被重置')"
   ]
  },
  {
   "cell_type": "markdown",
   "metadata": {},
   "source": [
    "根据User 类创建一个实例，再调用方法increment_login_attempts() 多次。打印属性login_attempts 的值，确认它被正确地递增；然后，调用方法reset_login_attempts() 并再次打印属性login_attempts 的值，确认它被重置为0。"
   ]
  },
  {
   "cell_type": "code",
   "execution_count": 59,
   "metadata": {},
   "outputs": [
    {
     "name": "stdout",
     "output_type": "stream",
     "text": [
      "这是第1次登录\n",
      "这是第2次登录\n",
      "这是第3次登录\n",
      "登录次数已被重置\n"
     ]
    }
   ],
   "source": [
    "U=User('Lily','Collins','female','England')\n",
    "U.increment_login_attempts()\n",
    "U.increment_login_attempts()\n",
    "U.increment_login_attempts()\n",
    "U.reset_login_attempts()"
   ]
  },
  {
   "cell_type": "markdown",
   "metadata": {},
   "source": [
    "## 9.3 继承"
   ]
  },
  {
   "cell_type": "markdown",
   "metadata": {},
   "source": [
    "编写类时，并非总是要从空白开始。如果你要编写的类是另一个现成类的特殊版本，可使用继承 。一个类继承 另一个类时，它将自动获得另一个类的所有属性和方法；原有的\n",
    "类称为父类 ，而新类称为子类 。子类继承了其父类的所有属性和方法，同时还可以定义自己的属性和方法。"
   ]
  },
  {
   "cell_type": "markdown",
   "metadata": {},
   "source": [
    "9.3.1 子类的方法__init__()"
   ]
  },
  {
   "cell_type": "markdown",
   "metadata": {},
   "source": [
    "创建子类的实例时，Python首先需要完成的任务是给父类的所有属性赋值。以在前面创建的Car 类的基础上创建新类ElectricCar ，这样我们就只需为电动汽车特有的属性和行为\n",
    "编写代码。"
   ]
  },
  {
   "cell_type": "code",
   "execution_count": 61,
   "metadata": {},
   "outputs": [],
   "source": [
    "# electric_car.py\n",
    "\n",
    "class Car():\n",
    "    \"\"\"一次模拟汽车的简单尝试\"\"\"\n",
    "    def __init__(self, make, model, year):\n",
    "        self.make = make\n",
    "        self.model = model\n",
    "        self.year = year\n",
    "        self.odometer_reading = 0\n",
    "    \n",
    "    def get_descriptive_name(self):\n",
    "        long_name = str(self.year) + ' ' + self.make + ' ' + self.model\n",
    "        return long_name.title()\n",
    "\n",
    "    def read_odometer(self):\n",
    "        print(\"This car has \" + str(self.odometer_reading) + \" miles on it.\")\n",
    "\n",
    "    def update_odometer(self, mileage):\n",
    "        if mileage >= self.odometer_reading:\n",
    "            self.odometer_reading = mileage\n",
    "        else:\n",
    "            print(\"You can't roll back an odometer!\")\n",
    "\n",
    "    def increment_odometer(self, miles):\n",
    "        self.odometer_reading += miles\n",
    "\n",
    "class ElectricCar(Car):\n",
    "    \"\"\"电动汽车的独特之处\"\"\"\n",
    "    def __init__(self, make, model, year):\n",
    "        \"\"\"初始化父类的属性\"\"\" \n",
    "        super().__init__(make, model, year)"
   ]
  },
  {
   "cell_type": "markdown",
   "metadata": {},
   "source": [
    "创建子类时，父类必须包含在当前文件中，且位于子类ElectricCar前面。super() 是一个特殊函数，帮助Python将父类和子类关联起来。这行代码让Python调用ElectricCar 的父类的方法__init__() ，让ElectricCar 实例包含父类的所\n",
    "有属性。父类也称为超类 （superclass），名称super因此而得名。"
   ]
  },
  {
   "cell_type": "code",
   "execution_count": 62,
   "metadata": {},
   "outputs": [
    {
     "name": "stdout",
     "output_type": "stream",
     "text": [
      "2016 Tesla Model S\n"
     ]
    }
   ],
   "source": [
    "my_tesla = ElectricCar('tesla', 'model s', 2016)\n",
    "print(my_tesla.get_descriptive_name())"
   ]
  },
  {
   "cell_type": "markdown",
   "metadata": {},
   "source": [
    "9.3.2 Python 2.7中的继承"
   ]
  },
  {
   "cell_type": "markdown",
   "metadata": {},
   "source": [
    "在Python 2.7中，继承语法稍有不同，ElectricCar类的函数super()需要两个实参：子类名和对象self 。"
   ]
  },
  {
   "cell_type": "code",
   "execution_count": null,
   "metadata": {},
   "outputs": [],
   "source": [
    "class Car(object):\n",
    "    def __init__(self, make, model, year):\n",
    "        --snip--\n",
    "    \n",
    "class ElectricCar(Car):\n",
    "    def __init__(self, make, model, year):\n",
    "        super(ElectricCar,self).__init__(make, model, year)\n",
    "        --snip--"
   ]
  },
  {
   "cell_type": "markdown",
   "metadata": {},
   "source": [
    "9.3.3 给子类定义属性和方法"
   ]
  },
  {
   "cell_type": "markdown",
   "metadata": {},
   "source": [
    "让一个类继承另一个类后，可添加区分子类和父类所需的新属性和方法。下面来添加一个电动汽车特有的属性（电瓶），以及一个描述该属性的方法。"
   ]
  },
  {
   "cell_type": "code",
   "execution_count": 63,
   "metadata": {},
   "outputs": [
    {
     "name": "stdout",
     "output_type": "stream",
     "text": [
      "2016 Tesla Model S\n",
      "This car has a 70-kWh battery.\n"
     ]
    }
   ],
   "source": [
    "class Car():\n",
    "    \"\"\"一次模拟汽车的简单尝试\"\"\"\n",
    "    def __init__(self, make, model, year):\n",
    "        self.make = make\n",
    "        self.model = model\n",
    "        self.year = year\n",
    "        self.odometer_reading = 0\n",
    "    \n",
    "    def get_descriptive_name(self):\n",
    "        long_name = str(self.year) + ' ' + self.make + ' ' + self.model\n",
    "        return long_name.title()\n",
    "\n",
    "    def read_odometer(self):\n",
    "        print(\"This car has \" + str(self.odometer_reading) + \" miles on it.\")\n",
    "\n",
    "    def update_odometer(self, mileage):\n",
    "        if mileage >= self.odometer_reading:\n",
    "            self.odometer_reading = mileage\n",
    "        else:\n",
    "            print(\"You can't roll back an odometer!\")\n",
    "\n",
    "    def increment_odometer(self, miles):\n",
    "        self.odometer_reading += miles\n",
    "    \n",
    "class ElectricCar(Car):\n",
    "    \"\"\"Represent aspects of a car, specific to electric vehicles.\"\"\"\n",
    "    def __init__(self, make, model, year):\n",
    "        \"\"\" 电动汽车的独特之处初始化父类的属性，再初始化电动汽车特有的属性\"\"\"\n",
    "        super().__init__(make, model, year) \n",
    "        self.battery_size = 70\n",
    "\n",
    "    def describe_battery(self):\n",
    "        \"\"\"打印一条描述电瓶容量的消息\"\"\"\n",
    "        print(\"This car has a \" + str(self.battery_size) + \"-kWh battery.\")\n",
    "        \n",
    "my_tesla = ElectricCar('tesla', 'model s', 2016)\n",
    "print(my_tesla.get_descriptive_name())\n",
    "my_tesla.describe_battery()"
   ]
  },
  {
   "cell_type": "markdown",
   "metadata": {},
   "source": [
    "9.3.4 重写父类的方法"
   ]
  },
  {
   "cell_type": "markdown",
   "metadata": {},
   "source": [
    "对于父类的方法，只要它不符合子类模拟的实物的行为，都可对其进行重写。为此，可在子类中定义一个这样的方法，即它与要重写的父类方法同名。这样，Python将不会考虑这\n",
    "个父类方法，而只关注你在子类中定义的相应方法。"
   ]
  },
  {
   "cell_type": "markdown",
   "metadata": {},
   "source": [
    "假设Car 类有一个名为fill_gas_tank() 的方法，它对全电动汽车来说毫无意义，因此你可能想重写它。下面演示了一种重写方式："
   ]
  },
  {
   "cell_type": "code",
   "execution_count": null,
   "metadata": {},
   "outputs": [],
   "source": [
    "def ElectricCar(Car):\n",
    "    --snip--\n",
    "    def fill_gas_tank():\n",
    "        \"\"\"电动汽车没有油箱\"\"\"\n",
    "        print(\"This car doesn't need a gas tank!\")"
   ]
  },
  {
   "cell_type": "markdown",
   "metadata": {},
   "source": [
    "9.3.5 将实例用作属性"
   ]
  },
  {
   "cell_type": "markdown",
   "metadata": {},
   "source": [
    "属性和方法清单以及文件都越来越长。在这种情况下，可能需要将类的一部分作为一个独立的类提取出来。\n",
    "你可以将大型类拆分成多个协同工作的小类。"
   ]
  },
  {
   "cell_type": "code",
   "execution_count": 67,
   "metadata": {},
   "outputs": [
    {
     "name": "stdout",
     "output_type": "stream",
     "text": [
      "2016 Tesla Model S\n",
      "This car has a 70-kWh battery.\n"
     ]
    }
   ],
   "source": [
    "class Car():\n",
    "    \"\"\"一次模拟汽车的简单尝试\"\"\"\n",
    "    def __init__(self, make, model, year):\n",
    "        self.make = make\n",
    "        self.model = model\n",
    "        self.year = year\n",
    "        self.odometer_reading = 0\n",
    "    \n",
    "    def get_descriptive_name(self):\n",
    "        long_name = str(self.year) + ' ' + self.make + ' ' + self.model\n",
    "        return long_name.title()\n",
    "\n",
    "    def read_odometer(self):\n",
    "        print(\"This car has \" + str(self.odometer_reading) + \" miles on it.\")\n",
    "\n",
    "    def update_odometer(self, mileage):\n",
    "        if mileage >= self.odometer_reading:\n",
    "            self.odometer_reading = mileage\n",
    "        else:\n",
    "            print(\"You can't roll back an odometer!\")\n",
    "\n",
    "    def increment_odometer(self, miles):\n",
    "        self.odometer_reading += miles\n",
    "     \n",
    "\n",
    "#定义了一个名为Battery的新类，它没有继承任何类.\n",
    "class Battery():\n",
    "    \"\"\"一次模拟电动汽车电瓶的简单尝试\"\"\"\n",
    "    def __init__(self, battery_size=70):\n",
    "        \"\"\"初始化电瓶的属性\"\"\"\n",
    "        self.battery_size = battery_size\n",
    "        \n",
    "    def describe_battery(self):\n",
    "        \"\"\"打印一条描述电瓶容量的消息\"\"\"\n",
    "        print(\"This car has a \" + str(self.battery_size) + \"-kWh battery.\")\n",
    "        \n",
    "class ElectricCar(Car):\n",
    "    \"\"\"电动汽车的独特之处\"\"\"\n",
    "    def __init__(self, make, model, year):\n",
    "        \"\"\" 初始化父类的属性，再初始化电动汽车特有的属性\"\"\"\n",
    "        super().__init__(make, model, year) \n",
    "        self.battery = Battery()  #将一个Battery类用作ElectricCar类的一个属性\n",
    "\n",
    "my_tesla = ElectricCar('tesla', 'model s', 2016)\n",
    "print(my_tesla.get_descriptive_name())\n",
    "my_tesla.battery.describe_battery()"
   ]
  },
  {
   "cell_type": "markdown",
   "metadata": {},
   "source": [
    "下面再给Battery 类添加一个方法，它根据电瓶容量报告汽车\n",
    "的续航里程："
   ]
  },
  {
   "cell_type": "code",
   "execution_count": 68,
   "metadata": {},
   "outputs": [
    {
     "name": "stdout",
     "output_type": "stream",
     "text": [
      "2016 Tesla Model S\n",
      "This car has a 70-kWh battery.\n",
      "This car can go approximately 240 miles on a full charge.\n"
     ]
    }
   ],
   "source": [
    "class Car():\n",
    "    \"\"\"一次模拟汽车的简单尝试\"\"\"\n",
    "    def __init__(self, make, model, year):\n",
    "        self.make = make\n",
    "        self.model = model\n",
    "        self.year = year\n",
    "        self.odometer_reading = 0\n",
    "    \n",
    "    def get_descriptive_name(self):\n",
    "        long_name = str(self.year) + ' ' + self.make + ' ' + self.model\n",
    "        return long_name.title()\n",
    "\n",
    "    def read_odometer(self):\n",
    "        print(\"This car has \" + str(self.odometer_reading) + \" miles on it.\")\n",
    "\n",
    "    def update_odometer(self, mileage):\n",
    "        if mileage >= self.odometer_reading:\n",
    "            self.odometer_reading = mileage\n",
    "        else:\n",
    "            print(\"You can't roll back an odometer!\")\n",
    "\n",
    "    def increment_odometer(self, miles):\n",
    "        self.odometer_reading += miles\n",
    "     \n",
    "\n",
    "# 定义了一个名为Battery的新类，它没有继承任何类.\n",
    "class Battery():\n",
    "    \"\"\"一次模拟电动汽车电瓶的简单尝试\"\"\"\n",
    "    def __init__(self, battery_size=70):\n",
    "        \"\"\"初始化电瓶的属性\"\"\"\n",
    "        self.battery_size = battery_size\n",
    "        \n",
    "    def describe_battery(self):\n",
    "        \"\"\"打印一条描述电瓶容量的消息\"\"\"\n",
    "        print(\"This car has a \" + str(self.battery_size) + \"-kWh battery.\")\n",
    "    \n",
    "    def get_range(self):\n",
    "        \"\"\"打印一条消息，指出电瓶的续航里程\"\"\"\n",
    "        if self.battery_size == 70:\n",
    "            range = 240\n",
    "        elif self.battery_size == 85:\n",
    "            range = 270\n",
    "        \n",
    "        message = \"This car can go approximately \" + str(range)\n",
    "        message += \" miles on a full charge.\"\n",
    "        print(message)\n",
    "    \n",
    "class ElectricCar(Car):\n",
    "    \"\"\"电动汽车的独特之处\"\"\"\n",
    "    def __init__(self, make, model, year):\n",
    "        \"\"\" 初始化父类的属性，再初始化电动汽车特有的属性\"\"\"\n",
    "        super().__init__(make, model, year) \n",
    "        self.battery = Battery()  #将一个Battery类用作ElectricCar类的一个属性\n",
    "\n",
    "my_tesla = ElectricCar('tesla', 'model s', 2016)\n",
    "print(my_tesla.get_descriptive_name())\n",
    "my_tesla.battery.describe_battery()  \n",
    "my_tesla.battery.get_range()"
   ]
  },
  {
   "cell_type": "markdown",
   "metadata": {},
   "source": [
    "9.3.6 模拟实物"
   ]
  },
  {
   "cell_type": "markdown",
   "metadata": {},
   "source": [
    "模拟较复杂的物件（如电动汽车）时，需要解决一些有趣的问题。续航里程是电瓶的属性还是汽车的属性呢？如果我们只需描述一辆汽车，那么将方法get_range() 放在Battery 类中也许是合适的；但如果要描述一家汽车制造商的整个产品线，也许应该将方法get_range() 移到ElectricCar 类中。在这种情况下，get_range() 依然根据电瓶容量来确定续航里程，但报告的是一款汽车的续航里程。我们也可以这样做：将方法get_range() 还留在Battery 类中，但向它传递一个参数，如car_model ；在这种情况下，方法get_range() 将根据电瓶容量和汽车型号报告续航里程。"
   ]
  },
  {
   "cell_type": "markdown",
   "metadata": {},
   "source": [
    "### 9.3 作业"
   ]
  },
  {
   "cell_type": "markdown",
   "metadata": {},
   "source": [
    "9-6 冰淇淋小店 ：冰淇淋小店是一种特殊的餐馆。编写一个名为IceCreamStand 的类，让它继承你为完成练习9-1或练习9-4而编写的Restaurant 类。这两个版本的Restaurant 类都可以，挑选你更喜欢的那个即可。添加一个名为flavors 的属性，用于存储一个由各种口味的冰淇淋组成的列表。编写一个显示这些冰淇淋的方法。创建一个IceCreamStand 实例，并调用这个方法。"
   ]
  },
  {
   "cell_type": "code",
   "execution_count": 5,
   "metadata": {},
   "outputs": [
    {
     "name": "stdout",
     "output_type": "stream",
     "text": [
      "美味小屋\n",
      "冰淇淋\n",
      "\n",
      "冰淇淋的口味：\n",
      "草莓味\n",
      "巧克力味\n",
      "抹茶味\n",
      "香草味\n"
     ]
    }
   ],
   "source": [
    "class Restaurant():\n",
    "    \"\"\"模拟餐馆\"\"\"\n",
    "    def __init__(self,restaurant_name,cuisine_type):\n",
    "        \"\"\"初始化餐馆的属性\"\"\"\n",
    "        self.restaurant_name=restaurant_name\n",
    "        self.cuisine_type=cuisine_type\n",
    "        self.number_served=0\n",
    "    \n",
    "    def describe_restaurant(self):\n",
    "        \"\"\"描述餐馆的属性\"\"\"\n",
    "        print(self.restaurant_name)\n",
    "        print(self.cuisine_type)\n",
    "        \n",
    "    def open_restaurant(self):\n",
    "        print('餐馆营业中')\n",
    "    \n",
    "    def read_number_served(self):\n",
    "        print(self.number_served)\n",
    "        \n",
    "    def set_number_served(self,num):\n",
    "        self.number_served = num\n",
    "    \n",
    "    def increment_number_served(self,daily_num):\n",
    "        self.number_served += daily_num\n",
    "        \n",
    "class IceCreamStand(Restaurant):\n",
    "    \"\"\"冰淇淋小店\"\"\"\n",
    "    def __init__(self,restaurant_name,cuisine_type):\n",
    "        \"\"\"初始化父类属性\"\"\"\n",
    "        super().__init__(restaurant_name,cuisine_type)\n",
    "        self.flavors=['草莓味','巧克力味','抹茶味','香草味']\n",
    "        \n",
    "    def show_icecream(self):\n",
    "        print('\\n冰淇淋的口味：')\n",
    "        for flavor in self.flavors:\n",
    "            print(flavor)\n",
    "     \n",
    "\n",
    "Ice=IceCreamStand('美味小屋','冰淇淋')        \n",
    "Ice.describe_restaurant()\n",
    "Ice.show_icecream()"
   ]
  },
  {
   "cell_type": "markdown",
   "metadata": {},
   "source": [
    "9-7 管理员 ：管理员是一种特殊的用户。编写一个名为Admin 的类，让它继承你为完成练习9-3或练习9-5而编写的User 类。添加一个名为privileges 的属性，用于存储一个由字符串（如\"can add post\" 、\"can delete post\" 、\"can ban user\" 等）组成的列表。编写一个名为show_privileges() 的方法，它显示管理员的权限。创建一个Admin 实例，并调用这个方法。"
   ]
  },
  {
   "cell_type": "code",
   "execution_count": 7,
   "metadata": {},
   "outputs": [
    {
     "name": "stdout",
     "output_type": "stream",
     "text": [
      "The privileges of Admin:\n",
      "can add post\n",
      "can delete post\n",
      "can ban user\n"
     ]
    }
   ],
   "source": [
    "class User():\n",
    "    def __init__(self,first_name,last_name,gender,nationality):\n",
    "        self.first_name=first_name\n",
    "        self.last_name=last_name\n",
    "        self.gender=gender\n",
    "        self.nationality=nationality\n",
    "        self.login_attempts = 0\n",
    "            \n",
    "    def describe_user(self):\n",
    "        print('Basic information of user:\\n')\n",
    "        print('first_name: '+self.first_name+'\\n'+'last_name: '+self.last_name+'\\n'\n",
    "             +'gender: '+self.gender+'\\n'+'nationality: '+self.nationality+'\\n')\n",
    "        \n",
    "    def greet_user(self):\n",
    "        print('Hello,'+self.first_name+' '+self.last_name+'!')\n",
    "        \n",
    "    def increment_login_attempts(self):\n",
    "        self.login_attempts += 1\n",
    "        print('这是第'+str(self.login_attempts)+'次登录')\n",
    "\n",
    "    def reset_login_attempts(self):\n",
    "        self.login_attempts = 0\n",
    "        print('登录次数已被重置')\n",
    "        \n",
    "class Admin(User):\n",
    "    def __init__(self,first_name,last_name,gender,nationality):\n",
    "        super().__init__(first_name,last_name,gender,nationality)\n",
    "        self.privileges=[\"can add post\",\"can delete post\",\"can ban user\"]\n",
    "        \n",
    "    def show_privileges(self):\n",
    "        print('The privileges of Admin:')\n",
    "        for privilege in self.privileges:\n",
    "            print(privilege)\n",
    "\n",
    "Admin_1=Admin('Lily','Collins','Female','England')\n",
    "Admin_1.show_privileges()"
   ]
  },
  {
   "cell_type": "markdown",
   "metadata": {},
   "source": [
    "9-8 权限 ：编写一个名为Privileges 的类，它只有一个属性——privileges ，其中存储了练习9-7 所说的字符串列表。将方法show_privileges() 移到这个类中。在Admin 类中，将一个Privileges 实例用作其属性。创建一个Admin 实例，并使用方法show_privileges()来显示其权限。"
   ]
  },
  {
   "cell_type": "code",
   "execution_count": 10,
   "metadata": {},
   "outputs": [
    {
     "name": "stdout",
     "output_type": "stream",
     "text": [
      "The privileges of Admin:\n",
      "can add post\n",
      "can delete post\n",
      "can ban user\n"
     ]
    }
   ],
   "source": [
    "class User():\n",
    "    def __init__(self,first_name,last_name,gender,nationality):\n",
    "        self.first_name=first_name\n",
    "        self.last_name=last_name\n",
    "        self.gender=gender\n",
    "        self.nationality=nationality\n",
    "        self.login_attempts = 0\n",
    "            \n",
    "    def describe_user(self):\n",
    "        print('Basic information of user:\\n')\n",
    "        print('first_name: '+self.first_name+'\\n'+'last_name: '+self.last_name+'\\n'\n",
    "             +'gender: '+self.gender+'\\n'+'nationality: '+self.nationality+'\\n')\n",
    "        \n",
    "    def greet_user(self):\n",
    "        print('Hello,'+self.first_name+' '+self.last_name+'!')\n",
    "        \n",
    "    def increment_login_attempts(self):\n",
    "        self.login_attempts += 1\n",
    "        print('这是第'+str(self.login_attempts)+'次登录')\n",
    "\n",
    "    def reset_login_attempts(self):\n",
    "        self.login_attempts = 0\n",
    "        print('登录次数已被重置')\n",
    "        \n",
    "class Privileges():\n",
    "    def __init__(self):\n",
    "        self.privileges=[\"can add post\",\"can delete post\",\"can ban user\"]\n",
    "    \n",
    "    def show_privileges(self):\n",
    "        print('The privileges of Admin:')\n",
    "        for privilege in self.privileges:\n",
    "            print(privilege)\n",
    "    \n",
    "        \n",
    "class Admin(User):\n",
    "    def __init__(self,first_name,last_name,gender,nationality):\n",
    "        super().__init__(first_name,last_name,gender,nationality)\n",
    "        self.privileges=Privileges()\n",
    "\n",
    "Admin_1=Admin('Lily','Collins','Female','England')\n",
    "Admin_1.privileges.show_privileges()"
   ]
  },
  {
   "cell_type": "markdown",
   "metadata": {},
   "source": [
    "9-9 电瓶升级 ：在本节最后一个electric_car.py版本中，给Battery 类添加一个名为upgrade_battery() 的方法。这个方法检查电瓶容量，如果它不是85，就将它设置为85。创建一辆电瓶容量为默认值的电动汽车，调用方法get_range() ，然后对电瓶进行升级，并再次调用get_range() 。你会看到这辆汽车的续航里程增加了。"
   ]
  },
  {
   "cell_type": "code",
   "execution_count": 12,
   "metadata": {},
   "outputs": [
    {
     "name": "stdout",
     "output_type": "stream",
     "text": [
      "2016 Tesla Model S\n",
      "This car has a 70-kWh battery.\n",
      "This car can go approximately 240 miles on a full charge.\n",
      "\n",
      "\n",
      "This car has a 85-kWh battery.\n",
      "This car can go approximately 270 miles on a full charge.\n"
     ]
    }
   ],
   "source": [
    "class Car():\n",
    "    \"\"\"一次模拟汽车的简单尝试\"\"\"\n",
    "    def __init__(self, make, model, year):\n",
    "        self.make = make\n",
    "        self.model = model\n",
    "        self.year = year\n",
    "        self.odometer_reading = 0\n",
    "    \n",
    "    def get_descriptive_name(self):\n",
    "        long_name = str(self.year) + ' ' + self.make + ' ' + self.model\n",
    "        return long_name.title()\n",
    "\n",
    "    def read_odometer(self):\n",
    "        print(\"This car has \" + str(self.odometer_reading) + \" miles on it.\")\n",
    "\n",
    "    def update_odometer(self, mileage):\n",
    "        if mileage >= self.odometer_reading:\n",
    "            self.odometer_reading = mileage\n",
    "        else:\n",
    "            print(\"You can't roll back an odometer!\")\n",
    "\n",
    "    def increment_odometer(self, miles):\n",
    "        self.odometer_reading += miles\n",
    "     \n",
    "\n",
    "# 定义了一个名为Battery的新类，它没有继承任何类.\n",
    "class Battery():\n",
    "    \"\"\"一次模拟电动汽车电瓶的简单尝试\"\"\"\n",
    "    def __init__(self, battery_size=70):\n",
    "        \"\"\"初始化电瓶的属性\"\"\"\n",
    "        self.battery_size = battery_size\n",
    "        \n",
    "    def describe_battery(self):\n",
    "        \"\"\"打印一条描述电瓶容量的消息\"\"\"\n",
    "        print(\"This car has a \" + str(self.battery_size) + \"-kWh battery.\")\n",
    "    \n",
    "    def get_range(self):\n",
    "        \"\"\"打印一条消息，指出电瓶的续航里程\"\"\"\n",
    "        if self.battery_size == 70:\n",
    "            range = 240\n",
    "        elif self.battery_size == 85:\n",
    "            range = 270\n",
    "        message = \"This car can go approximately \" + str(range)\n",
    "        message += \" miles on a full charge.\"\n",
    "        print(message)\n",
    "        \n",
    "    def upgrade_battery(self):\n",
    "        if self.battery_size != 85:\n",
    "            self.battery_size = 85\n",
    "        else:\n",
    "            pass\n",
    "    \n",
    "class ElectricCar(Car):\n",
    "    \"\"\"电动汽车的独特之处\"\"\"\n",
    "    def __init__(self, make, model, year):\n",
    "        \"\"\" 初始化父类的属性，再初始化电动汽车特有的属性\"\"\"\n",
    "        super().__init__(make, model, year) \n",
    "        self.battery = Battery()  #将一个Battery类用作ElectricCar类的一个属性\n",
    "\n",
    "my_tesla = ElectricCar('tesla', 'model s', 2016)\n",
    "print(my_tesla.get_descriptive_name())\n",
    "my_tesla.battery.describe_battery()  \n",
    "my_tesla.battery.get_range()\n",
    "print('\\n')\n",
    "my_tesla.battery.upgrade_battery()\n",
    "my_tesla.battery.describe_battery()\n",
    "my_tesla.battery.get_range()"
   ]
  },
  {
   "cell_type": "markdown",
   "metadata": {},
   "source": [
    "## 9.4 导入类"
   ]
  },
  {
   "cell_type": "markdown",
   "metadata": {},
   "source": [
    "随着你不断地给类添加功能，文件可能变得很长，即便你妥善地使用了继承亦如此。为遵循Python的总体理念，应让文件尽可能整洁。为在这方面提供帮助，Python允许你将类存\n",
    "储在模块中，然后在主程序中导入所需的模块。"
   ]
  },
  {
   "cell_type": "code",
   "execution_count": null,
   "metadata": {},
   "outputs": [],
   "source": [
    "# car.py\n",
    "\"\"\"一个可用于表示汽车的类\"\"\"\n",
    "\n",
    "class Car():\n",
    "    \"\"\"一次模拟汽车的简单尝试\"\"\"\n",
    "    def __init__(self, make, model, year):\n",
    "        \"\"\"初始化描述汽车的属性\"\"\"\n",
    "        self.make = make\n",
    "        self.model = model\n",
    "        self.year = year\n",
    "        self.odometer_reading = 0\n",
    "        \n",
    "    def get_descriptive_name(self):\n",
    "        \"\"\"返回整洁的描述性名称\"\"\"\n",
    "        long_name = str(self.year) + ' ' + self.make + ' ' + self.model\n",
    "        return long_name.title()\n",
    "    \n",
    "    def read_odometer(self):\n",
    "        \"\"\"打印一条消息，指出汽车的里程\"\"\"\n",
    "        print(\"This car has \" + str(self.odometer_reading) + \" miles on it.\")\n",
    "        \n",
    "    def update_odometer(self, mileage):\n",
    "        \"\"\" 将里程表读数设置为指定的值拒绝将里程表往回拨\"\"\"\n",
    "        if mileage >= self.odometer_reading:\n",
    "            self.odometer_reading = mileage\n",
    "        else:\n",
    "            print(\"You can't roll back an odometer!\")\n",
    "            \n",
    "    def increment_odometer(self, miles):\n",
    "        \"\"\"将里程表读数增加指定的量\"\"\"\n",
    "        self.odometer_reading += miles"
   ]
  },
  {
   "cell_type": "code",
   "execution_count": null,
   "metadata": {},
   "outputs": [],
   "source": [
    "下面来创建另一个文件——my_car.py，在其中导入Car类并创建其实例:"
   ]
  },
  {
   "cell_type": "code",
   "execution_count": 19,
   "metadata": {},
   "outputs": [
    {
     "name": "stdout",
     "output_type": "stream",
     "text": [
      "2016 Audi A4\n",
      "This car has 23 miles on it.\n"
     ]
    }
   ],
   "source": [
    " # import 语句让Python打开模块car，并导入其中的Car类\n",
    "from car import Car   \n",
    "\n",
    "my_new_car = Car('audi', 'a4', 2016)\n",
    "print(my_new_car.get_descriptive_name())\n",
    "\n",
    "my_new_car.odometer_reading = 23\n",
    "my_new_car.read_odometer()"
   ]
  },
  {
   "cell_type": "markdown",
   "metadata": {},
   "source": [
    "9.4.2 一个模块中存储多个类"
   ]
  },
  {
   "cell_type": "markdown",
   "metadata": {},
   "source": [
    "虽然同一个模块中的类之间应存在某种相关性，但可根据需要在一个模块中存储任意数量的类。类Battery 和ElectricCar 都可帮助模拟汽车，因此下面将它们都加入模块\n",
    "car.py中，然后导入模块。"
   ]
  },
  {
   "cell_type": "code",
   "execution_count": 1,
   "metadata": {},
   "outputs": [
    {
     "name": "stdout",
     "output_type": "stream",
     "text": [
      "2016 Tesla Model S\n",
      "This car has a 60-kWh battery.\n"
     ]
    }
   ],
   "source": [
    "# my_electric_car.py\n",
    "from car import ElectricCar\n",
    "my_tesla = ElectricCar('tesla', 'model s', 2016)\n",
    "print(my_tesla.get_descriptive_name())\n",
    "my_tesla.battery.describe_battery()\n",
    "my_tesla.battery.get_range()"
   ]
  },
  {
   "cell_type": "markdown",
   "metadata": {},
   "source": [
    "9.4.3 从一个模块中导入多个类"
   ]
  },
  {
   "cell_type": "markdown",
   "metadata": {},
   "source": [
    "可根据需要在程序文件中导入任意数量的类。如果我们要在同一个程序中创建普通汽车和电动汽车，就需要将Car和ElectricCar 类都导入，类之间用逗号分隔："
   ]
  },
  {
   "cell_type": "code",
   "execution_count": 2,
   "metadata": {},
   "outputs": [
    {
     "name": "stdout",
     "output_type": "stream",
     "text": [
      "2016 Volkswagen Beetle\n",
      "2016 Tesla Roadster\n"
     ]
    }
   ],
   "source": [
    "# my_cars.py\n",
    "from car import Car, ElectricCar \n",
    "my_beetle = Car('volkswagen', 'beetle', 2016)\n",
    "print(my_beetle.get_descriptive_name()) \n",
    "\n",
    "my_tesla = ElectricCar('tesla', 'roadster', 2016)\n",
    "print(my_tesla.get_descriptive_name())"
   ]
  },
  {
   "cell_type": "markdown",
   "metadata": {},
   "source": [
    "9.4.4 导入整个模块"
   ]
  },
  {
   "cell_type": "code",
   "execution_count": 4,
   "metadata": {},
   "outputs": [
    {
     "name": "stdout",
     "output_type": "stream",
     "text": [
      "2016 Volkswagen Beetle\n",
      "2016 Tesla Roadster\n"
     ]
    }
   ],
   "source": [
    "# 导入整个模块，再使用句点表示法访问需要的类\n",
    "import car \n",
    "my_beetle = car.Car('volkswagen', 'beetle', 2016)\n",
    "print(my_beetle.get_descriptive_name()) \n",
    "\n",
    "my_tesla = car.ElectricCar('tesla', 'roadster', 2016)\n",
    "print(my_tesla.get_descriptive_name())"
   ]
  },
  {
   "cell_type": "markdown",
   "metadata": {},
   "source": [
    "9.4.5 导入模块中所有类"
   ]
  },
  {
   "cell_type": "markdown",
   "metadata": {},
   "source": [
    "from module_name import *"
   ]
  },
  {
   "cell_type": "markdown",
   "metadata": {},
   "source": [
    "不推荐使用这种导入方式，其原因有二。首先，如果只要看一下文件开头的import 语句，就能清楚地知道程序使用了哪些类，将大有裨益；但这种导入方式没有明确地指出你使用了模块中的哪些类。这种导入方式还可能引发名称方面的困惑。如果你不小心导入了一个与程序文件中其他东西同名的类，将引发难以诊断的错误。"
   ]
  },
  {
   "cell_type": "markdown",
   "metadata": {},
   "source": [
    "9.4.6 在一个模块中导入另一个模块"
   ]
  },
  {
   "cell_type": "markdown",
   "metadata": {},
   "source": [
    "有时候，需要将类分散到多个模块中，以免模块太大，或在同一个模块中存储不相关的类。将类存储在多个模块中时，你可能会发现一个模块中的类依赖于另一个模块中的类。\n",
    "在这种情况下，可在前一个模块中导入必要的类。"
   ]
  },
  {
   "cell_type": "markdown",
   "metadata": {},
   "source": [
    "下面将Car类存储在一个模块car.py中，并将ElectricCar和Battery类存储electric_car.py模块中，然后分别从犯每个模块中导入类，就可以根据需要创建任何类型的汽车了。"
   ]
  },
  {
   "cell_type": "code",
   "execution_count": 5,
   "metadata": {},
   "outputs": [
    {
     "name": "stdout",
     "output_type": "stream",
     "text": [
      "2016 Volkswagen Beetle\n",
      "2016 Tesla Roadster\n"
     ]
    }
   ],
   "source": [
    "from car import Car\n",
    "from electric_car import ElectricCar\n",
    "\n",
    "my_beetle = Car('volkswagen', 'beetle', 2016)\n",
    "print(my_beetle.get_descriptive_name())\n",
    "\n",
    "my_tesla = ElectricCar('tesla', 'roadster', 2016)\n",
    "print(my_tesla.get_descriptive_name())"
   ]
  },
  {
   "cell_type": "markdown",
   "metadata": {},
   "source": [
    "### 9.4 作业"
   ]
  },
  {
   "cell_type": "markdown",
   "metadata": {},
   "source": [
    "9-10 导入Restaurant类：将最新的Restaurant类存储在一个模块中。在另一个文件中，导入Restaurant类，创建一Restaurant实例，并调用Restaurant的一个方法，以确认import语句正确无误。"
   ]
  },
  {
   "cell_type": "code",
   "execution_count": 6,
   "metadata": {},
   "outputs": [
    {
     "name": "stdout",
     "output_type": "stream",
     "text": [
      "阿龙川菜馆\n",
      "川菜\n"
     ]
    }
   ],
   "source": [
    "from restaurant import Restaurant\n",
    "R=Restaurant('阿龙川菜馆','川菜')  \n",
    "R.describe_restaurant()"
   ]
  },
  {
   "cell_type": "markdown",
   "metadata": {},
   "source": [
    "9-11 导入Admin 类 ：以为完成练习9-8而做的工作为基础，将User 、Privileges 和Admin 类存储在一个模块中，再创建一个文件，在其中创建一个Admin 实例并对其调用方法showprivileges() 以确认一切都能正确地运行。"
   ]
  },
  {
   "cell_type": "code",
   "execution_count": 7,
   "metadata": {},
   "outputs": [
    {
     "name": "stdout",
     "output_type": "stream",
     "text": [
      "The privileges of Admin:\n",
      "can add post\n",
      "can delete post\n",
      "can ban user\n"
     ]
    }
   ],
   "source": [
    "from user_useright import Admin\n",
    "Admin_2=Admin('Lily','Collins','Female','England')\n",
    "Admin_2.privileges.show_privileges()"
   ]
  },
  {
   "cell_type": "markdown",
   "metadata": {},
   "source": [
    "9-12 多个模块 ：将User 类存储在一个模块中，并将Privileges 和Admin 类存储在另一个模块中。再创建一个文件，在其中创建一个Admin 实例，并对其调用方法show_privileges() ，以确认一切都依然能够正确地运行。"
   ]
  },
  {
   "cell_type": "code",
   "execution_count": 12,
   "metadata": {},
   "outputs": [
    {
     "name": "stdout",
     "output_type": "stream",
     "text": [
      "The privileges of Admin:\n",
      "can add post\n",
      "can delete post\n",
      "can ban user\n"
     ]
    }
   ],
   "source": [
    "from user import User\n",
    "from useright import Privileges\n",
    "Admin_2=Admin('Lily','Collins','Female','England')\n",
    "Admin_2.privileges.show_privileges()"
   ]
  },
  {
   "cell_type": "markdown",
   "metadata": {},
   "source": [
    "9.4.7 自定义工作流程"
   ]
  },
  {
   "cell_type": "markdown",
   "metadata": {},
   "source": [
    "在组织大型项目的代码方面，一开始应让代码结构尽可能简单。先尽可能在一个文件中完成所有的工作，确定一切都能正确运行后，再将类移到独立的模块中。如果你喜欢模块和文件的交互方式，可在项目\n",
    "开始时就尝试将类存储到模块中。先找出让你能够编写出可行代码的方式，再尝试让代码更为组织有序。"
   ]
  },
  {
   "cell_type": "markdown",
   "metadata": {},
   "source": [
    "## 9.5 Python标准库"
   ]
  },
  {
   "cell_type": "markdown",
   "metadata": {},
   "source": [
    "Python标准库 是一组模块，安装的Python都包含它。你现在对类的工作原理已有大致的了解，可以开始使用其他程序员编写好的模块了。可使用标准库中的任何函数和类，为此\n",
    "只需在程序开头包含一条简单的import 语句。"
   ]
  },
  {
   "cell_type": "markdown",
   "metadata": {},
   "source": [
    "字典让你能够将信息关联起来，但它们不记录你添加键—值对的顺序。要创建字典并记录其中的键—值对的添加顺序，可使用模块collections 中的OrderedDict 类。OrderedDict 实例的行为几乎与字典相同，区别只在于记录了键—值对的添加顺序。\n"
   ]
  },
  {
   "cell_type": "code",
   "execution_count": 13,
   "metadata": {},
   "outputs": [
    {
     "name": "stdout",
     "output_type": "stream",
     "text": [
      "Jen's favorite language is Python.\n",
      "Sarah's favorite language is C.\n",
      "Edward's favorite language is Ruby.\n",
      "Phil's favorite language is Python.\n"
     ]
    }
   ],
   "source": [
    "# favorite_languages.py \n",
    "# 添加受访者顺序\n",
    "from collections import OrderedDict \n",
    "favorite_languages = OrderedDict() \n",
    "favorite_languages['jen'] = 'python'\n",
    "favorite_languages['sarah'] = 'c'\n",
    "favorite_languages['edward'] = 'ruby'\n",
    "favorite_languages['phil'] = 'python' \n",
    "for name, language in favorite_languages.items():\n",
    "    print(name.title() + \"'s favorite language is \" +language.title() + \".\")"
   ]
  },
  {
   "cell_type": "markdown",
   "metadata": {},
   "source": [
    "### 9.5 作业"
   ]
  },
  {
   "cell_type": "markdown",
   "metadata": {},
   "source": [
    "9-13 使用OrderedDict ：在练习6-4中，你使用了一个标准字典来表示词汇表。请使用OrderedDict 类来重写这个程序，并确认输出的顺序与你在字典中添加键 值对的顺序。"
   ]
  },
  {
   "cell_type": "code",
   "execution_count": 15,
   "metadata": {},
   "outputs": [
    {
     "name": "stdout",
     "output_type": "stream",
     "text": [
      "tuple:a sequence of immutable values and the values can be any type\n",
      "python:an object oriented programming language\n",
      "class:an object condtructor\n",
      "function:a block of code which only runs when it is called\n",
      "boolean values:Two values which are True and False\n"
     ]
    }
   ],
   "source": [
    "from collections import OrderedDict\n",
    "coding_dict=OrderedDict()\n",
    "coding_dict['tuple']='a sequence of immutable values and the values can be any type'\n",
    "coding_dict['python']='an object oriented programming language'\n",
    "coding_dict['class']='an object condtructor'\n",
    "coding_dict['function']='a block of code which only runs when it is called'\n",
    "coding_dict[ 'boolean values']='Two values which are True and False'\n",
    "\n",
    "for key,value in coding_dict.items():\n",
    "    print(key+':'+value)"
   ]
  },
  {
   "cell_type": "markdown",
   "metadata": {},
   "source": [
    "9-14 骰子 ：模块random 包含以各种方式生成随机数的函数，其中的randint() 返回一个位于指定范围内的整数，例如，下面的代码返回一个1~6内的整数。from random import randint , x = randint(1,6).请创建一个Die 类，它包含一个名为sides 的属性，该属性的默认值为6。编写一个名为roll_die()的方法，它打印位于1和骰子面数之间的随机数。创建一个6面的骰子，再掷10次。创建一个10面的骰子和一个20面的骰子，并将它们都掷10次。"
   ]
  },
  {
   "cell_type": "code",
   "execution_count": 20,
   "metadata": {},
   "outputs": [
    {
     "name": "stdout",
     "output_type": "stream",
     "text": [
      "6\n",
      "5\n",
      "5\n",
      "5\n",
      "1\n",
      "1\n",
      "1\n",
      "2\n",
      "5\n",
      "6\n",
      "\n",
      "\n",
      "10\n",
      "4\n",
      "1\n",
      "8\n",
      "10\n",
      "2\n",
      "1\n",
      "1\n",
      "1\n",
      "8\n",
      "\n",
      "\n",
      "9\n",
      "10\n",
      "11\n",
      "4\n",
      "3\n",
      "17\n",
      "2\n",
      "9\n",
      "18\n",
      "8\n",
      "\n",
      "\n"
     ]
    }
   ],
   "source": [
    "from random import randint\n",
    "\n",
    "class Die():\n",
    "    def __init__(self):\n",
    "        self.sides=6\n",
    "        \n",
    "    def roll_die(self):\n",
    "        random_num=randint(1,self.sides)\n",
    "        return random_num\n",
    "    \n",
    "    def changesides(self,newsides):\n",
    "        self.sides=newsides\n",
    "        \n",
    "D1=Die()\n",
    "i=1\n",
    "while i<11:\n",
    "    D1_num=D1.roll_die()\n",
    "    print(D1_num)\n",
    "    i+=1\n",
    "print('\\n')\n",
    "\n",
    "D2=Die()\n",
    "D2.changesides(10)\n",
    "i=1\n",
    "while i<11:\n",
    "    D2_num=D2.roll_die()\n",
    "    print(D2_num)\n",
    "    i+=1\n",
    "print('\\n')\n",
    "\n",
    "D3=Die()\n",
    "D3.changesides(20)\n",
    "i=1\n",
    "while i<11:\n",
    "    D3_num=D3.roll_die()\n",
    "    print(D3_num)\n",
    "    i+=1\n",
    "print('\\n')"
   ]
  },
  {
   "cell_type": "markdown",
   "metadata": {},
   "source": [
    "9-15 PythonModule of the Week ：要了解Python标准库，一个很不错的资源是网站Python Module of the Week."
   ]
  },
  {
   "cell_type": "markdown",
   "metadata": {},
   "source": [
    "## 9.6 类编码风格"
   ]
  },
  {
   "cell_type": "markdown",
   "metadata": {},
   "source": [
    "你必须熟悉有些与类相关的编码风格问题，在你编写的程序较复杂时尤其如此。类名应采用驼峰命名法 ，即将类名中的每个单词的首字母都大写，而不使用下划线。实例名和模块名都采用小写格式，并在单词之间加上下划线。"
   ]
  },
  {
   "cell_type": "markdown",
   "metadata": {},
   "source": [
    "对于每个类，都应紧跟在类定义后面包含一个文档字符串。这种文档字符串简要地描述类的功能，并遵循编写函数的文档字符串时采用的格式约定。每个模块也都应包含一个文档字符串，对其中的类可用于做什么进行描述。"
   ]
  },
  {
   "cell_type": "markdown",
   "metadata": {},
   "source": [
    "需要同时导入标准库中的模块和你编写的模块时，先编写导入标准库模块的import 语句，再添加一个空行，然后编写导入你自己编写的模块的import语句。"
   ]
  }
 ],
 "metadata": {
  "kernelspec": {
   "display_name": "Python 3",
   "language": "python",
   "name": "python3"
  },
  "language_info": {
   "codemirror_mode": {
    "name": "ipython",
    "version": 3
   },
   "file_extension": ".py",
   "mimetype": "text/x-python",
   "name": "python",
   "nbconvert_exporter": "python",
   "pygments_lexer": "ipython3",
   "version": "3.7.1"
  }
 },
 "nbformat": 4,
 "nbformat_minor": 2
}
