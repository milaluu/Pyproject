{
 "cells": [
  {
   "cell_type": "code",
   "execution_count": 4,
   "metadata": {},
   "outputs": [],
   "source": [
    "# 错误处理try\n",
    "\n",
    "try:\n",
    "    file=open('eeee','r+') # r+是只读加写入\n",
    "except Exception as e:\n",
    "    print('There is no file named as eeee')\n",
    "    response=input('Do you want to create a new file?')\n",
    "    if response=='y':\n",
    "        file=open('eeee','w')\n",
    "        file.close()\n",
    "    else:\n",
    "        pass\n",
    "else:\n",
    "    file.write('wwww')\n",
    "file.close()"
   ]
  },
  {
   "cell_type": "code",
   "execution_count": 10,
   "metadata": {},
   "outputs": [
    {
     "name": "stdout",
     "output_type": "stream",
     "text": [
      "[(1, 4), (2, 5), (3, 6)]\n",
      "0.5 8\n",
      "1.0 10\n",
      "1.5 12\n",
      "[(1, 4, 1, 4), (2, 5, 2, 5), (3, 6, 3, 6)]\n"
     ]
    }
   ],
   "source": [
    "#zip 合并列表并返回tuple列表\n",
    "a=[1,2,3]\n",
    "b=[4,5,6]\n",
    "ab=zip(a,b)\n",
    "print(list(ab))  #输出[(1, 4), (2, 5), (3, 6)]\n",
    "\n",
    "for i,j in zip(a,b):  #对合并列表的元素做计算\n",
    "    print(i/2,j*2)\n",
    "    \n",
    "print(list(zip(a,b,a,b)))"
   ]
  },
  {
   "cell_type": "code",
   "execution_count": 12,
   "metadata": {},
   "outputs": [
    {
     "name": "stdout",
     "output_type": "stream",
     "text": [
      "5\n",
      "5\n"
     ]
    }
   ],
   "source": [
    "# lambda 作用与def相同，简化版的函数定义\n",
    "def func1(x,y):\n",
    "    return (x+y)\n",
    "print(func1(2,3))\n",
    "\n",
    "func2=lambda x,y:x+y  # 函数名=lambda 参数1,参数2:函数体\n",
    "print(func2(2,3))"
   ]
  },
  {
   "cell_type": "code",
   "execution_count": 15,
   "metadata": {},
   "outputs": [
    {
     "name": "stdout",
     "output_type": "stream",
     "text": [
      "<map object at 0x000001F54FE091D0>\n",
      "[4]\n",
      "[6, 11]\n"
     ]
    }
   ],
   "source": [
    "# map 把函数和参数组合到一起，输出结果\n",
    "print(map(func1,[1],[3]))\n",
    "print(list(map(func1,[1],[3])))\n",
    "print(list(map(func1,[1,3],[5,8])))"
   ]
  },
  {
   "cell_type": "code",
   "execution_count": 20,
   "metadata": {},
   "outputs": [
    {
     "name": "stdout",
     "output_type": "stream",
     "text": [
      "True\n",
      "[66, 2, 3]\n",
      "[11, 2, 3]\n"
     ]
    }
   ],
   "source": [
    "# copy & deepcopy\n",
    "\n",
    "import copy\n",
    "a=[1,2,3]\n",
    "b=a\n",
    "print(id(a)==id(b)) #查看a和b的内存索引，如果相等，改变其中一个，另一个随之改变\n",
    "a[0]=66\n",
    "print(b)\n",
    "b[0]=11\n",
    "print(a)"
   ]
  },
  {
   "cell_type": "code",
   "execution_count": 22,
   "metadata": {},
   "outputs": [
    {
     "name": "stdout",
     "output_type": "stream",
     "text": [
      "False\n",
      "[11, 22, 3]\n"
     ]
    }
   ],
   "source": [
    "#copy.copy() 浅复制\n",
    "c=copy.copy(a)\n",
    "print(id(a)==id(c))  # False,a和c是独立的\n",
    "c[0]=88\n",
    "print(a)  #c改变，a不变"
   ]
  },
  {
   "cell_type": "code",
   "execution_count": 23,
   "metadata": {},
   "outputs": [
    {
     "name": "stdout",
     "output_type": "stream",
     "text": [
      "False\n",
      "True\n"
     ]
    }
   ],
   "source": [
    "#copy.copy()多层列表\n",
    "a=[1,2,[3,4]]\n",
    "d=copy.copy(a)\n",
    "print(id(d)==id(a)) #id不相等\n",
    "print(id(d[2])==id(a[2]))   #id相等"
   ]
  },
  {
   "cell_type": "code",
   "execution_count": 24,
   "metadata": {},
   "outputs": [
    {
     "name": "stdout",
     "output_type": "stream",
     "text": [
      "[1, 2, [3, 4]]\n",
      "[1, 2, [333, 4]]\n"
     ]
    }
   ],
   "source": [
    "#测试，copy.copy()第一层列表是独立的，指定在另外的内存空间；第二层列表是共享的，内存地址相同。\n",
    "#改变a[0],查看d[0]\n",
    "a[0]=100\n",
    "print(d)  #第一层列表值变化，另一个不变\n",
    "\n",
    "#改变a[2],查看d[2]\n",
    "a[2][0]=333\n",
    "print(d)      #第二层值发生变化，另一个改变"
   ]
  },
  {
   "cell_type": "code",
   "execution_count": 26,
   "metadata": {},
   "outputs": [
    {
     "name": "stdout",
     "output_type": "stream",
     "text": [
      "False\n",
      "False\n"
     ]
    }
   ],
   "source": [
    "#copy.deepcopy() #地址是完全独立的，在另一个内存地址中建立一个与a内容相同的列表\n",
    "e=copy.deepcopy(a)\n",
    "print(id(e)==id(a))\n",
    "print(id(e[2])==id(a[2]))"
   ]
  },
  {
   "cell_type": "code",
   "execution_count": 42,
   "metadata": {},
   "outputs": [
    {
     "name": "stdout",
     "output_type": "stream",
     "text": [
      "This is an added thread,number is <Thread(Thread-13, started 5228)>\n"
     ]
    }
   ],
   "source": [
    "#多线程threading\n",
    "\n",
    "import threading\n",
    "\n",
    "#添加的新的线程内容\n",
    "def thread_job():\n",
    "    print('This is an added thread,number is',threading.current_thread())\n",
    "\n",
    "def main():\n",
    "    added_thread=threading.Thread(target=thread_job)#添加一个thread\n",
    "    added_thread.start() #运行\n",
    "    \n",
    "if __name__=='__main__':\n",
    "    main()"
   ]
  },
  {
   "cell_type": "code",
   "execution_count": 32,
   "metadata": {},
   "outputs": [
    {
     "name": "stdout",
     "output_type": "stream",
     "text": [
      "5\n",
      "[<_MainThread(MainThread, started 18280)>, <Heartbeat(Thread-5, started daemon 8248)>, <Thread(Thread-4, started daemon 4468)>, <HistorySavingThread(IPythonHistorySavingThread, started 11876)>, <ParentPollerWindows(Thread-3, started daemon 16956)>]\n",
      "<_MainThread(MainThread, started 18280)>\n"
     ]
    }
   ],
   "source": [
    "import threading\n",
    "def main():\n",
    "    print(threading.active_count()) #计算运行的线程数\n",
    "    print(threading.enumerate())    #显示所有线程\n",
    "    print(threading.current_thread())    #显示当前的main线程\n",
    "    \n",
    "if __name__=='__main__':\n",
    "    main()"
   ]
  },
  {
   "cell_type": "code",
   "execution_count": 39,
   "metadata": {},
   "outputs": [
    {
     "name": "stdout",
     "output_type": "stream",
     "text": [
      "T1 starts!\n",
      "All done\n",
      "\n",
      "T1 finished!\n",
      "\n"
     ]
    }
   ],
   "source": [
    "# 同时进行多个线程任务，运行结果是T1 starts!  All done  T1 finished!\n",
    "import threading\n",
    "import time\n",
    "def thread_job():\n",
    "    print('T1 starts!\\n')\n",
    "    for i in range(10):\n",
    "        time.sleep(1)\n",
    "    print('T1 finished!\\n')\n",
    "\n",
    "def main():\n",
    "    added_thread=threading.Thread(target=thread_job)\n",
    "    added_thread.start()\n",
    "    print('All done')\n",
    "\n",
    "if __name__=='__main__':\n",
    "    main()\n",
    "    \n"
   ]
  },
  {
   "cell_type": "code",
   "execution_count": 41,
   "metadata": {},
   "outputs": [
    {
     "name": "stdout",
     "output_type": "stream",
     "text": [
      "T1 starts!\n",
      "T2 starts!\n",
      "\n",
      "T2 finished!\n",
      "\n",
      "All done\n",
      "\n",
      "\n",
      "T1 finished!\n",
      "\n"
     ]
    }
   ],
   "source": [
    "#所有线程thread_job结束，才开始执行后面的All done\n",
    "#加入threading.join()\n",
    "import threading\n",
    "import time\n",
    "def thread_job():\n",
    "    print('T1 starts!\\n')\n",
    "    for i in range(10):\n",
    "        time.sleep(1)\n",
    "    print('T1 finished!\\n')\n",
    "\n",
    "def T2_job():\n",
    "    print('T2 starts!\\n')\n",
    "    print('T2 finished!\\n')\n",
    "\n",
    "def main():\n",
    "    added_thread=threading.Thread(target=thread_job,name='T1')\n",
    "    T2=threading.Thread(target=T2_job,name='T2')\n",
    "    added_thread.start()\n",
    "    T2.start()\n",
    "    #added_thread.join()\n",
    "    T2.join()\n",
    "    print('All done\\n')\n",
    "\n",
    "if __name__=='__main__':\n",
    "    main()"
   ]
  },
  {
   "cell_type": "code",
   "execution_count": null,
   "metadata": {},
   "outputs": [],
   "source": []
  }
 ],
 "metadata": {
  "kernelspec": {
   "display_name": "Python 3",
   "language": "python",
   "name": "python3"
  },
  "language_info": {
   "codemirror_mode": {
    "name": "ipython",
    "version": 3
   },
   "file_extension": ".py",
   "mimetype": "text/x-python",
   "name": "python",
   "nbconvert_exporter": "python",
   "pygments_lexer": "ipython3",
   "version": "3.5.6"
  }
 },
 "nbformat": 4,
 "nbformat_minor": 2
}
